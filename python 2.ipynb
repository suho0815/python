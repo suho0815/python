{
 "cells": [
  {
   "attachments": {},
   "cell_type": "markdown",
   "id": "3c96cf46",
   "metadata": {},
   "source": [
    "# if-elif-else 문\n",
    "(들여쓰기 주의해야 함!) <br>\n",
    "if 조건1: <br>\n",
    "    코드 블록 1 <br>\n",
    "elif 조건2: <br>\n",
    "    코드 블록 2 <br>\n",
    "else 조건3: <br>\n",
    "    코드 블록 3 <br>\n"
   ]
  },
  {
   "attachments": {},
   "cell_type": "markdown",
   "id": "2226d228",
   "metadata": {},
   "source": [
    "사용자로부터 국어, 영어, 수학 세 과목의 성적을 입력받아, 각 과목의 평균 점수와 총 평균 점수를 계산한 후, 학점을 출력하는 프로그램을 작성하세요.\n",
    "- 평균 점수는 소수점 둘째자리까지 출력합니다.\n",
    "- 총 평균 점수는 국어: 40%, 영어: 40%, 수학: 20%로 가중치를 부여하여 계산합니다.\n",
    "- 총 평균 점수가 90점 이상인 경우 \"A\", 80점 이상인 경우 \"B\", 70점 이상인 경우 \"C\", 60점 이상인 경우 \"D\", 60점 미만인 경우 \"F\"를 출력합니다.\n"
   ]
  },
  {
   "cell_type": "code",
   "execution_count": 5,
   "id": "d0332395",
   "metadata": {},
   "outputs": [
    {
     "name": "stdout",
     "output_type": "stream",
     "text": [
      "국어 성적 :89\n",
      "영어 성적 :79\n",
      "수학 성적 :70\n",
      "국어 : 89, 영어 : 79, 수학 : 70\n",
      "총 평균 점수 : 81.2\n",
      "학점 : B\n"
     ]
    }
   ],
   "source": [
    "국어 = int(input(\"국어 성적 :\"))\n",
    "영어 = int(input(\"영어 성적 :\"))\n",
    "수학 = int(input(\"수학 성적 :\"))\n",
    "\n",
    "avg = ((국어*0.4) + (영어*0.4) + (수학*0.2))\n",
    "\n",
    "print(f\"국어 : {국어}, 영어 : {영어}, 수학 : {수학}\")\n",
    "print(f\"총 평균 점수 : {avg}\")\n",
    "if avg >= 90:\n",
    "    print(\"학점 : A\")\n",
    "elif avg >= 80:\n",
    "    print(\"학점 : B\")\n",
    "elif avg >= 70:\n",
    "    print(\"학점 : C\")\n",
    "elif avg >= 60:\n",
    "    print(\"학점 : D\")\n",
    "else :\n",
    "    print(\"학점 : F\")"
   ]
  },
  {
   "attachments": {},
   "cell_type": "markdown",
   "id": "0e6860af",
   "metadata": {},
   "source": [
    "### 연습문제\n",
    "\n",
    "- 사용자로부터 cm 단위의 길이를 입력 받는다. 입력 값이 음수이면 \"잘못 입력하였습니다\"라는 메시지를 출력하고 양수이면 길이를 인치로 변환하여 출력하는 프로그램을 작성하라. 1인치 = 2.54cm"
   ]
  },
  {
   "cell_type": "code",
   "execution_count": 9,
   "id": "5df48422",
   "metadata": {
    "scrolled": true
   },
   "outputs": [
    {
     "name": "stdout",
     "output_type": "stream",
     "text": [
      "cm단위의 길이를 입력하세요 :2\n",
      "2cm =  5.08Inch\n"
     ]
    }
   ],
   "source": [
    "cm = int(input(\"cm단위의 길이를 입력하세요 :\"))\n",
    "\n",
    "if cm < 0:\n",
    "    print(\"잘못 입력하셨습니다.\")\n",
    "else :\n",
    "    inch = cm * 2.54\n",
    "    print(f\"{cm}cm = {inch: .2f}Inch\")\n"
   ]
  },
  {
   "attachments": {},
   "cell_type": "markdown",
   "id": "ef8630fc",
   "metadata": {},
   "source": [
    "### 연습문제\n",
    "- 사용자로부터 이수한 학점을 입력 받는다. 학점이 40학점 미만이면 \"1학년입니다\"를 출력하고, 40이상 80미만이면 \"2학년입니다\"를 출력한다. 학점이 80이상이면 \"졸업반입니다\"를 출력하는 프로그램을 작성하라.\n"
   ]
  },
  {
   "cell_type": "code",
   "execution_count": 10,
   "id": "ae429194",
   "metadata": {},
   "outputs": [
    {
     "name": "stdout",
     "output_type": "stream",
     "text": [
      "학점을 입력하세요: 70\n",
      "2학년 입니다.\n"
     ]
    }
   ],
   "source": [
    "grade = int(input(\"학점을 입력하세요: \"))\n",
    "\n",
    "if grade < 40:\n",
    "    print(\"1학년 입니다.\")\n",
    "elif grade >= 40 and grade < 80 :\n",
    "    print(\"2학년 입니다.\")\n",
    "elif grade >= 80 :\n",
    "    print(\"3학년 입니다.\")"
   ]
  },
  {
   "attachments": {},
   "cell_type": "markdown",
   "id": "e67b19fa",
   "metadata": {},
   "source": [
    "### 연습문제\n",
    "- 사용자로부터 현재 시간을 나타내는 1~12의 숫자를 입력 받는다. 또 \"am\" 혹은 \"pm\"을 입력 받고 경과 시간을 나타내는 값을 입력 받는다. 이로부터 최종 시간이 몇 시인지 출력하는 프로그램을 작성하라."
   ]
  },
  {
   "cell_type": "code",
   "execution_count": 14,
   "id": "76d958c5",
   "metadata": {},
   "outputs": [
    {
     "name": "stdout",
     "output_type": "stream",
     "text": [
      "Enter hour:8\n",
      "am (1) or pm (2)? 1\n",
      "How many hours ahead? 5\n",
      "New hour: 1 pm\n"
     ]
    }
   ],
   "source": [
    "hour = int(input(\"Enter hour:\"))\n",
    "apm = int(input(\"am (1) or pm (2)? \"))\n",
    "ahead = int(input(\"How many hours ahead? \"))\n",
    "\n",
    "nhour = hour + ahead\n",
    "if apm == 1:\n",
    "    if nhour > 12:\n",
    "        print(f\"New hour: {nhour % 12} pm\")\n",
    "    else :\n",
    "        print(f\"New hour: {nhour} am\")\n",
    "elif apm == 2:\n",
    "    if nhour > 12:\n",
    "        print(f\"New hour: {nhour % 12} am\")\n",
    "    else :\n",
    "        print(f\"New hour: {nhour} pm\")"
   ]
  }
 ],
 "metadata": {
  "kernelspec": {
   "display_name": "Python 3 (ipykernel)",
   "language": "python",
   "name": "python3"
  },
  "language_info": {
   "codemirror_mode": {
    "name": "ipython",
    "version": 3
   },
   "file_extension": ".py",
   "mimetype": "text/x-python",
   "name": "python",
   "nbconvert_exporter": "python",
   "pygments_lexer": "ipython3",
   "version": "3.10.9"
  }
 },
 "nbformat": 4,
 "nbformat_minor": 5
}
