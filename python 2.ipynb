{
 "cells": [
  {
   "cell_type": "markdown",
   "id": "3c96cf46",
   "metadata": {},
   "source": [
    "# if-elif-else 문\n",
    "(들여쓰기 주의해야 함!) <br>\n",
    "if 조건1: <br>\n",
    "    코드 블록 1 <br>\n",
    "elif 조건2: <br>\n",
    "    코드 블록 2 <br>\n",
    "else 조건3: <br>\n",
    "    코드 블록 3 <br>\n"
   ]
  },
  {
   "cell_type": "markdown",
   "id": "2226d228",
   "metadata": {},
   "source": [
    "사용자로부터 국어, 영어, 수학 세 과목의 성적을 입력받아, 각 과목의 평균 점수와 총 평균 점수를 계산한 후, 학점을 출력하는 프로그램을 작성하세요.\n",
    "- 평균 점수는 소수점 둘째자리까지 출력합니다.\n",
    "- 총 평균 점수는 국어: 40%, 영어: 40%, 수학: 20%로 가중치를 부여하여 계산합니다.\n",
    "- 총 평균 점수가 90점 이상인 경우 \"A\", 80점 이상인 경우 \"B\", 70점 이상인 경우 \"C\", 60점 이상인 경우 \"D\", 60점 미만인 경우 \"F\"를 출력합니다.\n"
   ]
  },
  {
   "cell_type": "code",
   "execution_count": 5,
   "id": "d0332395",
   "metadata": {},
   "outputs": [
    {
     "name": "stdout",
     "output_type": "stream",
     "text": [
      "국어 성적 :89\n",
      "영어 성적 :79\n",
      "수학 성적 :70\n",
      "국어 : 89, 영어 : 79, 수학 : 70\n",
      "총 평균 점수 : 81.2\n",
      "학점 : B\n"
     ]
    }
   ],
   "source": [
    "국어 = int(input(\"국어 성적 :\"))\n",
    "영어 = int(input(\"영어 성적 :\"))\n",
    "수학 = int(input(\"수학 성적 :\"))\n",
    "\n",
    "avg = ((국어*0.4) + (영어*0.4) + (수학*0.2))\n",
    "\n",
    "print(f\"국어 : {국어}, 영어 : {영어}, 수학 : {수학}\")\n",
    "print(f\"총 평균 점수 : {avg}\")\n",
    "if avg >= 90:\n",
    "    print(\"학점 : A\")\n",
    "elif avg >= 80:\n",
    "    print(\"학점 : B\")\n",
    "elif avg >= 70:\n",
    "    print(\"학점 : C\")\n",
    "elif avg >= 60:\n",
    "    print(\"학점 : D\")\n",
    "else :\n",
    "    print(\"학점 : F\")"
   ]
  },
  {
   "cell_type": "markdown",
   "id": "0e6860af",
   "metadata": {},
   "source": [
    "### 연습문제\n",
    "\n",
    "- 사용자로부터 cm 단위의 길이를 입력 받는다. 입력 값이 음수이면 \"잘못 입력하였습니다\"라는 메시지를 출력하고 양수이면 길이를 인치로 변환하여 출력하는 프로그램을 작성하라. 1인치 = 2.54cm"
   ]
  },
  {
   "cell_type": "code",
   "execution_count": 9,
   "id": "5df48422",
   "metadata": {
    "scrolled": true
   },
   "outputs": [
    {
     "name": "stdout",
     "output_type": "stream",
     "text": [
      "cm단위의 길이를 입력하세요 :2\n",
      "2cm =  5.08Inch\n"
     ]
    }
   ],
   "source": [
    "cm = int(input(\"cm단위의 길이를 입력하세요 :\"))\n",
    "\n",
    "if cm < 0:\n",
    "    print(\"잘못 입력하셨습니다.\")\n",
    "else :\n",
    "    inch = cm * 2.54\n",
    "    print(f\"{cm}cm = {inch: .2f}Inch\")\n"
   ]
  },
  {
   "cell_type": "markdown",
   "id": "ef8630fc",
   "metadata": {},
   "source": [
    "### 연습문제\n",
    "- 사용자로부터 이수한 학점을 입력 받는다. 학점이 40학점 미만이면 \"1학년입니다\"를 출력하고, 40이상 80미만이면 \"2학년입니다\"를 출력한다. 학점이 80이상이면 \"졸업반입니다\"를 출력하는 프로그램을 작성하라.\n"
   ]
  },
  {
   "cell_type": "code",
   "execution_count": 10,
   "id": "ae429194",
   "metadata": {},
   "outputs": [
    {
     "name": "stdout",
     "output_type": "stream",
     "text": [
      "학점을 입력하세요: 70\n",
      "2학년 입니다.\n"
     ]
    }
   ],
   "source": [
    "grade = int(input(\"학점을 입력하세요: \"))\n",
    "\n",
    "if grade < 40:\n",
    "    print(\"1학년 입니다.\")\n",
    "elif grade >= 40 and grade < 80 :\n",
    "    print(\"2학년 입니다.\")\n",
    "elif grade >= 80 :\n",
    "    print(\"3학년 입니다.\")"
   ]
  },
  {
   "cell_type": "markdown",
   "id": "e67b19fa",
   "metadata": {},
   "source": [
    "### 연습문제\n",
    "- 사용자로부터 현재 시간을 나타내는 1~12의 숫자를 입력 받는다. 또 \"am\" 혹은 \"pm\"을 입력 받고 경과 시간을 나타내는 값을 입력 받는다. 이로부터 최종 시간이 몇 시인지 출력하는 프로그램을 작성하라."
   ]
  },
  {
   "cell_type": "code",
   "execution_count": 14,
   "id": "76d958c5",
   "metadata": {},
   "outputs": [
    {
     "name": "stdout",
     "output_type": "stream",
     "text": [
      "Enter hour:8\n",
      "am (1) or pm (2)? 1\n",
      "How many hours ahead? 5\n",
      "New hour: 1 pm\n"
     ]
    }
   ],
   "source": [
    "hour = int(input(\"Enter hour:\"))\n",
    "apm = int(input(\"am (1) or pm (2)? \"))\n",
    "ahead = int(input(\"How many hours ahead? \"))\n",
    "\n",
    "nhour = hour + ahead\n",
    "if apm == 1:\n",
    "    if nhour > 12:\n",
    "        print(f\"New hour: {nhour % 12} pm\")\n",
    "    else :\n",
    "        print(f\"New hour: {nhour} am\")\n",
    "elif apm == 2:\n",
    "    if nhour > 12:\n",
    "        print(f\"New hour: {nhour % 12} am\")\n",
    "    else :\n",
    "        print(f\"New hour: {nhour} pm\")"
   ]
  },
  {
   "cell_type": "markdown",
   "id": "1df2805f",
   "metadata": {},
   "source": [
    "### while 문\n",
    "while 조건:  \n",
    "\n",
    "    실행할 문장1 <br>\n",
    "    실행할 문장2 <br>\n",
    "    \n",
    "    "
   ]
  },
  {
   "cell_type": "code",
   "execution_count": 1,
   "id": "272a916d",
   "metadata": {},
   "outputs": [
    {
     "name": "stdout",
     "output_type": "stream",
     "text": [
      "2\n",
      "4\n",
      "6\n",
      "8\n",
      "10\n",
      "12\n",
      "14\n",
      "16\n",
      "18\n",
      "20\n",
      "22\n",
      "24\n",
      "26\n",
      "28\n",
      "30\n",
      "32\n",
      "34\n",
      "36\n",
      "38\n",
      "40\n",
      "42\n",
      "44\n",
      "46\n",
      "48\n",
      "50\n",
      "52\n",
      "54\n",
      "56\n",
      "58\n",
      "60\n",
      "62\n",
      "64\n",
      "66\n",
      "68\n",
      "70\n",
      "72\n",
      "74\n",
      "76\n",
      "78\n",
      "80\n",
      "82\n",
      "84\n",
      "86\n",
      "88\n",
      "90\n",
      "92\n",
      "94\n",
      "96\n",
      "98\n",
      "100\n"
     ]
    }
   ],
   "source": [
    "# while 문 예제\n",
    "\n",
    "i = 1\n",
    "while i <= 100:\n",
    "    if i% 2 == 0:\n",
    "        print(i)\n",
    "    i+=1"
   ]
  },
  {
   "cell_type": "markdown",
   "id": "506d3048",
   "metadata": {},
   "source": [
    "### for 문\n",
    "for문 구조   \n",
    "\n",
    "for 변수 in 리스트(또는 튜플, 문자열 등):  \n",
    "\n",
    "    실행할 코드  \n",
    "    "
   ]
  },
  {
   "cell_type": "code",
   "execution_count": 5,
   "id": "2ccb39be",
   "metadata": {},
   "outputs": [
    {
     "name": "stdout",
     "output_type": "stream",
     "text": [
      "apple\n",
      "banana\n",
      " cherry\n",
      "이것은 range range(1, 6, 2) type은 <class 'range'>\n",
      "2\n",
      "4\n",
      "6\n",
      "8\n",
      "10\n"
     ]
    }
   ],
   "source": [
    "#for문 예제\n",
    "\n",
    "fruits = [\"apple\", \"banana\", \" cherry\"]\n",
    "for fruit in fruits:\n",
    "    print(fruit)\n",
    "\n",
    "#range함수 이용 range(시작, 끝, 증감)\n",
    "a = range(1, 6, 2)\n",
    "print(f\"이것은 range {a} type은 {type(a)}\")\n",
    "\n",
    "\n",
    "for i in range(2, 11, 2):\n",
    "    print(i)"
   ]
  },
  {
   "cell_type": "markdown",
   "id": "4533b708",
   "metadata": {},
   "source": [
    "### 중첩 반복문\n",
    "\n",
    "- 별문자로 모양 그리기\n",
    "- tip) print(\"*\", end=\"\") \n",
    "- print문에서 end=\"\"옵션은 print문 끝에 추가로 출력하는 것 default로 \\n이 있음"
   ]
  },
  {
   "cell_type": "markdown",
   "id": "bcec4b67",
   "metadata": {},
   "source": [
    "### 연습문제 3의 배수와 5의 배수의 합 구하기\n",
    "\n",
    "*사용자로부터 양의 정수 n을 입력받아, 1부터 n까지의 자연수 중에서 3의 배수와 5의 배수의 합을 구하고, 이를 출력하는 프로그램을 작성하세요.\n",
    "- 사용자로부터 입력받는 정수 n은 1 이상의 양의 정수입니다.\n",
    "- 자연수 1부터 n까지의 숫자 중에서 3의 배수 또는 5의 배수인 숫자들의 합을 구합니다.\n",
    "- 결과값은 정수형으로 출력합니다.\n"
   ]
  },
  {
   "cell_type": "code",
   "execution_count": 7,
   "id": "77bbab92",
   "metadata": {},
   "outputs": [
    {
     "name": "stdout",
     "output_type": "stream",
     "text": [
      "[3의 배수와 5의 배수의 합 구하기]\n",
      " 양의 정수 n 을 입력하세요.10\n",
      "[결과]\n",
      " 1부터 10까지의 자연수 중에서 3의 배수와 5의 배수의 합 : 33\n"
     ]
    }
   ],
   "source": [
    "n = int(input(\"[3의 배수와 5의 배수의 합 구하기]\\n 양의 정수 n 을 입력하세요.\"))\n",
    "\n",
    "sum = 0\n",
    "for i in range(1, n+1):\n",
    "    if i % 3 == 0 or i % 5 == 0:\n",
    "        sum += i\n",
    "\n",
    "print(f\"[결과]\\n 1부터 {n}까지의 자연수 중에서 3의 배수와 5의 배수의 합 : {sum}\")"
   ]
  },
  {
   "cell_type": "markdown",
   "id": "70676ffa",
   "metadata": {},
   "source": [
    "### 연습문제 최댓값과 최솟값 찾기\n",
    "\n",
    "*사용자로부터 5개의 정수형 숫자를 입력받아, 입력받은 숫자들 중에서 최댓값과 최솟값을 찾고, 이를 출력하는 프로그램을 작성하세요.\n",
    "- 입력받은 숫자는 1 이상 100 이하의 자연수입니다.\n",
    "- 입력받은 숫자 중 중복된 숫자가 있을 수 있습니다.\n"
   ]
  },
  {
   "cell_type": "code",
   "execution_count": 11,
   "id": "1f80117b",
   "metadata": {},
   "outputs": [
    {
     "name": "stdout",
     "output_type": "stream",
     "text": [
      "1번째 숫자를 입력하세요:40\n",
      "2번째 숫자를 입력하세요:24\n",
      "3번째 숫자를 입력하세요:56\n",
      "4번째 숫자를 입력하세요:86\n",
      "5번째 숫자를 입력하세요:32\n",
      "[결과]\n",
      " 입력받은 숫자들: [40, 24, 56, 86, 32] \n",
      " 최댓값:86 \n",
      " 최솟값:24\n"
     ]
    }
   ],
   "source": [
    "max_num = 0\n",
    "min_num = 100\n",
    "lists = []\n",
    "\n",
    "for i in range(5):\n",
    "    lists.append(int(input(f\"{i+1}번째 숫자를 입력하세요:\")))\n",
    "    \n",
    "    if max_num < lists[i]:\n",
    "        max_num = lists[i]\n",
    "    if min_num > lists[i]:\n",
    "        min_num = lists[i]\n",
    "\n",
    "print(f\"[결과]\\n 입력받은 숫자들: {lists} \\n 최댓값:{max_num} \\n 최솟값:{min_num}\")"
   ]
  },
  {
   "cell_type": "markdown",
   "id": "e77a7367",
   "metadata": {},
   "source": [
    "### 연습문제 : 숫자의 합이 100보다 작을 때까지 입력받기!\n",
    "\n",
    "*사용자로부터 정수형 숫자를 입력받아, 입력받은 숫자들의 합이 100보다 작을 때까지 숫자를 계속 입력받고, 입력받은 숫자들의 합을 출력하는 프로그램을 작성하세요.\n",
    "- 입력받은 숫자는 1 이상 100 이하의 자연수입니다.\n"
   ]
  },
  {
   "cell_type": "code",
   "execution_count": 13,
   "id": "d09572cd",
   "metadata": {},
   "outputs": [
    {
     "name": "stdout",
     "output_type": "stream",
     "text": [
      "숫자를 입력하세요: 80\n",
      "숫자를 입력하세요: 9\n",
      "숫자를 입력하세요: 8\n",
      "숫자를 입력하세요: 7\n",
      "입력받은 숫자들의 합 : 104\n"
     ]
    }
   ],
   "source": [
    "sum = 0;\n",
    "\n",
    "while sum < 100:\n",
    "    num = int(input(\"숫자를 입력하세요: \"))\n",
    "    sum += num\n",
    "    \n",
    "print(f\"입력받은 숫자들의 합 : {sum}\")"
   ]
  },
  {
   "cell_type": "markdown",
   "id": "aa4c43e7",
   "metadata": {},
   "source": [
    "### 연습문제 : 피보나치 수열의 n번째 항을 출력하는 프로그램\n",
    "\n",
    "*피보나치 수열은 다음과 같이 정의됩니다: 첫 번째 항과 두 번째 항은 각각 1입니다. 세 번째 항부터는 바로 앞 두 항의 합입니다. 즉, 1, 1, 2, 3, 5, 8, 13, ... 과 같은 수열입니다.\n",
    "- 예를 들어, 사용자가 7을 입력했을 경우 다음과 같이 출력되어야 합니다.\n"
   ]
  },
  {
   "cell_type": "code",
   "execution_count": 9,
   "id": "e5cd5001",
   "metadata": {},
   "outputs": [
    {
     "name": "stdout",
     "output_type": "stream",
     "text": [
      "몇 번째 항을 출력할까요? 7\n",
      "13\n"
     ]
    }
   ],
   "source": [
    "x = int(input(f\"몇 번째 항을 출력할까요? \"))\n",
    "num1 = 1\n",
    "num2 = 1\n",
    "\n",
    "if x != 1 and x != 2:\n",
    "    for i in range(x-2):\n",
    "        temp = num2\n",
    "        num2 = num1 + num2\n",
    "        num1 = temp\n",
    "\n",
    "print(f\"{num2}\")\n"
   ]
  },
  {
   "attachments": {},
   "cell_type": "markdown",
   "id": "88d794b0",
   "metadata": {},
   "source": [
    "### break, continue, pass\n",
    "\n",
    "* break 와 continue는 java나 C와 동일\n",
    "* pass : 특별한 작업이 없는 경우에는 pass를 사용하여, 빈 문장을 만들 수 있습니다. 즉, pass는 아무것도 하지 않고 넘어가는 표현 (함수 구조를 만들 때 주로 사용, 잘 안씀)\n"
   ]
  },
  {
   "attachments": {},
   "cell_type": "markdown",
   "id": "41409b0c",
   "metadata": {},
   "source": [
    "### 연습문제: 주사위 게임 (random  라이브러리 이용)\n",
    "\n",
    "*두 주사위를 던졌을 때, 합이 7이 되면 이김, 그렇지 않으면 지는 간단한 주사위 게임을 만들어보세요.\n",
    "- (힌트: random 모듈의 randint() 함수를 사용하세요.)\n"
   ]
  },
  {
   "cell_type": "code",
   "execution_count": 22,
   "id": "9be5223f",
   "metadata": {},
   "outputs": [
    {
     "name": "stdout",
     "output_type": "stream",
     "text": [
      "주사위 값:6, 1 \n",
      "이김\n"
     ]
    }
   ],
   "source": [
    "import random\n",
    "\n",
    "dice1 = random.randint(1, 6)\n",
    "dice2 = random.randint(1, 6)\n",
    "result = dice1 + dice2\n",
    "\n",
    "if result == 7:\n",
    "    print(f\"주사위 값:{dice1}, {dice2} \\n이김\")\n",
    "else :\n",
    "    print(f\"주사위 값:{dice1}, {dice2} \\n짐\")\n"
   ]
  },
  {
   "attachments": {},
   "cell_type": "markdown",
   "id": "301639b6",
   "metadata": {},
   "source": [
    "### 연습문제: 계산기 프로그램\n",
    "\n",
    "*사용자로부터 두 개의 정수와 연산자를 입력받아, 입력된 연산자에 따라 두 수의 사칙연산 결과를 출력하는 계산기 프로그램을 작성하세요. 프로그램은 사용자가 \"exit\"을 입력할 때까지 계속해서 작동합니다.\n",
    "- 입력받은 숫자는 어떠한 값이든 상관없습니다.\n",
    "- 입력받은 연산자는 +, -, *, / 중 하나입니다.\n",
    "- 나눗셈 연산 결과는 실수형으로 출력하세요.\n",
    "- 분모가 0일 경우, \"0으로 나눌 수 없습니다.\"를 출력하세요.\n",
    "- 사용자가 \"exit\"을 입력할 경우, 프로그램을 종료하세요.\n"
   ]
  },
  {
   "cell_type": "code",
   "execution_count": 27,
   "id": "4557c13a",
   "metadata": {},
   "outputs": [
    {
     "name": "stdout",
     "output_type": "stream",
     "text": [
      "첫 번째 수를 입력하세요 ('exit' 입력 시 종료) : 1\n",
      "두 번째 수를 입력하세요 : 2\n",
      "연산자를 입력하세요 (+, -, *, /) : *\n",
      "1 * 2 = 2 \n",
      "첫 번째 수를 입력하세요 ('exit' 입력 시 종료) : 2\n",
      "두 번째 수를 입력하세요 : 1\n",
      "연산자를 입력하세요 (+, -, *, /) : -\n",
      "2 - 1 = 1 \n",
      "첫 번째 수를 입력하세요 ('exit' 입력 시 종료) : 2\n",
      "두 번째 수를 입력하세요 : 1\n",
      "연산자를 입력하세요 (+, -, *, /) : +\n",
      "2 + 1 = 3 \n",
      "첫 번째 수를 입력하세요 ('exit' 입력 시 종료) : 3\n",
      "두 번째 수를 입력하세요 : 6\n",
      "연산자를 입력하세요 (+, -, *, /) : /\n",
      "3 / 6 = 0.5 \n",
      "첫 번째 수를 입력하세요 ('exit' 입력 시 종료) : exit\n"
     ]
    }
   ],
   "source": [
    "\n",
    "while True:\n",
    "    num1 = input(\"첫 번째 수를 입력하세요 ('exit' 입력 시 종료) : \")\n",
    "    \n",
    "    if num1 == 'exit' :\n",
    "        break\n",
    "    else :\n",
    "        num1 = int(num1)\n",
    "    \n",
    "    num2 = int(input(\"두 번째 수를 입력하세요 : \"))\n",
    "    op = input(\"연산자를 입력하세요 (+, -, *, /) : \")\n",
    "    \n",
    "    if op == \"+\":\n",
    "        result = num1 + num2\n",
    "    elif op == \"-\":\n",
    "        result = num1 - num2\n",
    "    elif op == \"*\":\n",
    "        result = num1 * num2\n",
    "    elif op == \"/\":\n",
    "        result = num1 / num2\n",
    "    \n",
    "    print(f\"{num1} {op} {num2} = {result} \")\n",
    "    "
   ]
  },
  {
   "attachments": {},
   "cell_type": "markdown",
   "id": "49460c2f",
   "metadata": {},
   "source": [
    "### 제어문 예제문제\n",
    "  \n",
    "- 숫자 맞추기 게임 프로그램\n",
    "- 1 ~ 100 사이의 난수를 만들고 사용자가 1~100 사이의 수를 입력하여 맞추는 프로그램. 5회까지 맞추지 못하면 종료"
   ]
  },
  {
   "cell_type": "code",
   "execution_count": 57,
   "id": "992763ee",
   "metadata": {},
   "outputs": [
    {
     "name": "stdout",
     "output_type": "stream",
     "text": [
      "1~100 사이의 수를 입력하세요 :50\n",
      "\n",
      "틀림!ㅋ 힌트: down임ㅋ 잘 맞춰보셈ㅋ\n",
      "기회가 4번 남았습니다.\n",
      "\n",
      "1~100 사이의 수를 입력하세요 :25\n",
      "\n",
      "틀림!ㅋ 힌트: up임ㅋ 잘 맞춰보셈ㅋ\n",
      "기회가 3번 남았습니다.\n",
      "\n",
      "1~100 사이의 수를 입력하세요 :33\n",
      "\n",
      "틀림!ㅋ 힌트: down임ㅋ 잘 맞춰보셈ㅋ\n",
      "기회가 2번 남았습니다.\n",
      "\n",
      "1~100 사이의 수를 입력하세요 :31\n",
      "\n",
      "맞춤! ㅊㅋㅊㅋ\n"
     ]
    }
   ],
   "source": [
    "import random\n",
    "\n",
    "\n",
    "rnum = random.randint(1, 100)\n",
    "cnt = 5\n",
    "for i in range(5):    \n",
    "    num = int(input(\"1~100 사이의 수를 입력하세요 :\"))\n",
    "    print()\n",
    "    if num == rnum:\n",
    "        print(\"맞춤! ㅊㅋㅊㅋ\")\n",
    "        break\n",
    "    else :\n",
    "        hint = \"down\"\n",
    "        if num < rnum :\n",
    "            hint = \"up\"\n",
    "        else :\n",
    "            hint = \"down\"\n",
    "        print(f\"틀림!ㅋ 힌트: {hint}임ㅋ 잘 맞춰보셈ㅋ\")\n",
    "        print(f\"기회가 {5 - (i+1)}번 남았습니다.\\n\")\n",
    "        cnt -= 1\n",
    "        \n",
    "\n",
    "if cnt == 0:\n",
    "    print(f\"실패! 정답은 {rnum} 이었습니다~ \\n다음엔 맞춰봐ㅋ\")\n"
   ]
  },
  {
   "attachments": {},
   "cell_type": "markdown",
   "id": "9b7fa8d1",
   "metadata": {},
   "source": [
    "### 연습문제 \n",
    "\n",
    "플레이어가 처음에 $50을 가지고 있다. 동전을 한 번 던져서 앞면(1) 또는 뒷면(2)이 나온다. 맞추면 $9을 따고 틀리면 $10을 잃는다. 플레이어가 돈을 모두 잃거나 $100이 되면 게임이 종료된다.\n",
    "동전을 던져서 나오는 수는 다음 문장을 이용하라.\n",
    "\n",
    "- from random import randint\n",
    "- coin = randint(1,2) #1 또는 2를 임의로 발생\n"
   ]
  },
  {
   "cell_type": "code",
   "execution_count": 55,
   "id": "0b202259",
   "metadata": {},
   "outputs": [
    {
     "name": "stdout",
     "output_type": "stream",
     "text": [
      "앞면(1), 뒷면(2), 그만하기(3) 을 선택하세요 : 2\n",
      "맞춤ㅋ 현재 돈 : 59\n",
      "앞면(1), 뒷면(2), 그만하기(3) 을 선택하세요 : 2\n",
      "맞춤ㅋ 현재 돈 : 68\n",
      "앞면(1), 뒷면(2), 그만하기(3) 을 선택하세요 : 2\n",
      "틀림ㅋ 현재 돈 : 58\n",
      "앞면(1), 뒷면(2), 그만하기(3) 을 선택하세요 : 2\n",
      "틀림ㅋ 현재 돈 : 48\n",
      "앞면(1), 뒷면(2), 그만하기(3) 을 선택하세요 : 2\n",
      "틀림ㅋ 현재 돈 : 38\n",
      "앞면(1), 뒷면(2), 그만하기(3) 을 선택하세요 : 2\n",
      "틀림ㅋ 현재 돈 : 28\n",
      "앞면(1), 뒷면(2), 그만하기(3) 을 선택하세요 : 2\n",
      "맞춤ㅋ 현재 돈 : 37\n",
      "앞면(1), 뒷면(2), 그만하기(3) 을 선택하세요 : 2\n",
      "틀림ㅋ 현재 돈 : 27\n",
      "앞면(1), 뒷면(2), 그만하기(3) 을 선택하세요 : 2\n",
      "맞춤ㅋ 현재 돈 : 36\n",
      "앞면(1), 뒷면(2), 그만하기(3) 을 선택하세요 : 2\n",
      "맞춤ㅋ 현재 돈 : 45\n",
      "앞면(1), 뒷면(2), 그만하기(3) 을 선택하세요 : 2\n",
      "틀림ㅋ 현재 돈 : 35\n",
      "앞면(1), 뒷면(2), 그만하기(3) 을 선택하세요 : 2\n",
      "틀림ㅋ 현재 돈 : 25\n",
      "앞면(1), 뒷면(2), 그만하기(3) 을 선택하세요 : 2\n",
      "맞춤ㅋ 현재 돈 : 34\n",
      "앞면(1), 뒷면(2), 그만하기(3) 을 선택하세요 : 2\n",
      "틀림ㅋ 현재 돈 : 24\n",
      "앞면(1), 뒷면(2), 그만하기(3) 을 선택하세요 : 2\n",
      "맞춤ㅋ 현재 돈 : 33\n",
      "앞면(1), 뒷면(2), 그만하기(3) 을 선택하세요 : 2\n",
      "맞춤ㅋ 현재 돈 : 42\n",
      "앞면(1), 뒷면(2), 그만하기(3) 을 선택하세요 : 2\n",
      "맞춤ㅋ 현재 돈 : 51\n",
      "앞면(1), 뒷면(2), 그만하기(3) 을 선택하세요 : 2\n",
      "맞춤ㅋ 현재 돈 : 60\n",
      "앞면(1), 뒷면(2), 그만하기(3) 을 선택하세요 : 2\n",
      "틀림ㅋ 현재 돈 : 50\n",
      "앞면(1), 뒷면(2), 그만하기(3) 을 선택하세요 : 2\n",
      "맞춤ㅋ 현재 돈 : 59\n",
      "앞면(1), 뒷면(2), 그만하기(3) 을 선택하세요 : 2\n",
      "맞춤ㅋ 현재 돈 : 68\n",
      "앞면(1), 뒷면(2), 그만하기(3) 을 선택하세요 : 2\n",
      "틀림ㅋ 현재 돈 : 58\n",
      "앞면(1), 뒷면(2), 그만하기(3) 을 선택하세요 : 2\n",
      "틀림ㅋ 현재 돈 : 48\n",
      "앞면(1), 뒷면(2), 그만하기(3) 을 선택하세요 : 2\n",
      "맞춤ㅋ 현재 돈 : 57\n",
      "앞면(1), 뒷면(2), 그만하기(3) 을 선택하세요 : 2\n",
      "틀림ㅋ 현재 돈 : 47\n",
      "앞면(1), 뒷면(2), 그만하기(3) 을 선택하세요 : 2\n",
      "틀림ㅋ 현재 돈 : 37\n",
      "앞면(1), 뒷면(2), 그만하기(3) 을 선택하세요 : 2\n",
      "틀림ㅋ 현재 돈 : 27\n",
      "앞면(1), 뒷면(2), 그만하기(3) 을 선택하세요 : 2\n",
      "틀림ㅋ 현재 돈 : 17\n",
      "앞면(1), 뒷면(2), 그만하기(3) 을 선택하세요 : 2\n",
      "맞춤ㅋ 현재 돈 : 26\n",
      "앞면(1), 뒷면(2), 그만하기(3) 을 선택하세요 : 2\n",
      "맞춤ㅋ 현재 돈 : 35\n",
      "앞면(1), 뒷면(2), 그만하기(3) 을 선택하세요 : 2\n",
      "틀림ㅋ 현재 돈 : 25\n",
      "앞면(1), 뒷면(2), 그만하기(3) 을 선택하세요 : 2\n",
      "맞춤ㅋ 현재 돈 : 34\n",
      "앞면(1), 뒷면(2), 그만하기(3) 을 선택하세요 : 2\n",
      "맞춤ㅋ 현재 돈 : 43\n",
      "앞면(1), 뒷면(2), 그만하기(3) 을 선택하세요 : 2\n",
      "맞춤ㅋ 현재 돈 : 52\n",
      "앞면(1), 뒷면(2), 그만하기(3) 을 선택하세요 : 2\n",
      "맞춤ㅋ 현재 돈 : 61\n",
      "앞면(1), 뒷면(2), 그만하기(3) 을 선택하세요 : 2\n",
      "맞춤ㅋ 현재 돈 : 70\n",
      "앞면(1), 뒷면(2), 그만하기(3) 을 선택하세요 : 2\n",
      "틀림ㅋ 현재 돈 : 60\n",
      "앞면(1), 뒷면(2), 그만하기(3) 을 선택하세요 : 2\n",
      "틀림ㅋ 현재 돈 : 50\n",
      "앞면(1), 뒷면(2), 그만하기(3) 을 선택하세요 : 2\n",
      "틀림ㅋ 현재 돈 : 40\n",
      "앞면(1), 뒷면(2), 그만하기(3) 을 선택하세요 : 2\n",
      "맞춤ㅋ 현재 돈 : 49\n",
      "앞면(1), 뒷면(2), 그만하기(3) 을 선택하세요 : 2\n",
      "맞춤ㅋ 현재 돈 : 58\n",
      "앞면(1), 뒷면(2), 그만하기(3) 을 선택하세요 : 2\n",
      "틀림ㅋ 현재 돈 : 48\n",
      "앞면(1), 뒷면(2), 그만하기(3) 을 선택하세요 : 2\n",
      "틀림ㅋ 현재 돈 : 38\n",
      "앞면(1), 뒷면(2), 그만하기(3) 을 선택하세요 : 2\n",
      "맞춤ㅋ 현재 돈 : 47\n",
      "앞면(1), 뒷면(2), 그만하기(3) 을 선택하세요 : 2\n",
      "틀림ㅋ 현재 돈 : 37\n",
      "앞면(1), 뒷면(2), 그만하기(3) 을 선택하세요 : 2\n",
      "틀림ㅋ 현재 돈 : 27\n",
      "앞면(1), 뒷면(2), 그만하기(3) 을 선택하세요 : 2\n",
      "맞춤ㅋ 현재 돈 : 36\n",
      "앞면(1), 뒷면(2), 그만하기(3) 을 선택하세요 : 2\n",
      "맞춤ㅋ 현재 돈 : 45\n",
      "앞면(1), 뒷면(2), 그만하기(3) 을 선택하세요 : 2\n",
      "맞춤ㅋ 현재 돈 : 54\n",
      "앞면(1), 뒷면(2), 그만하기(3) 을 선택하세요 : 2\n",
      "맞춤ㅋ 현재 돈 : 63\n",
      "앞면(1), 뒷면(2), 그만하기(3) 을 선택하세요 : 2\n",
      "틀림ㅋ 현재 돈 : 53\n",
      "앞면(1), 뒷면(2), 그만하기(3) 을 선택하세요 : 2\n",
      "틀림ㅋ 현재 돈 : 43\n",
      "앞면(1), 뒷면(2), 그만하기(3) 을 선택하세요 : 2\n",
      "틀림ㅋ 현재 돈 : 33\n",
      "앞면(1), 뒷면(2), 그만하기(3) 을 선택하세요 : 2\n",
      "틀림ㅋ 현재 돈 : 23\n",
      "앞면(1), 뒷면(2), 그만하기(3) 을 선택하세요 : 2\n",
      "맞춤ㅋ 현재 돈 : 32\n",
      "앞면(1), 뒷면(2), 그만하기(3) 을 선택하세요 : 2\n",
      "틀림ㅋ 현재 돈 : 22\n",
      "앞면(1), 뒷면(2), 그만하기(3) 을 선택하세요 : 2\n",
      "맞춤ㅋ 현재 돈 : 31\n",
      "앞면(1), 뒷면(2), 그만하기(3) 을 선택하세요 : 2\n",
      "틀림ㅋ 현재 돈 : 21\n",
      "앞면(1), 뒷면(2), 그만하기(3) 을 선택하세요 : 2\n",
      "맞춤ㅋ 현재 돈 : 30\n",
      "앞면(1), 뒷면(2), 그만하기(3) 을 선택하세요 : 2\n",
      "틀림ㅋ 현재 돈 : 20\n",
      "앞면(1), 뒷면(2), 그만하기(3) 을 선택하세요 : 2\n",
      "틀림ㅋ 현재 돈 : 10\n",
      "앞면(1), 뒷면(2), 그만하기(3) 을 선택하세요 : 2\n",
      "틀림ㅋ 현재 돈 : 0\n"
     ]
    }
   ],
   "source": [
    "from random import randint\n",
    "\n",
    "money = 50\n",
    "\n",
    "while money < 100 and money > 0:\n",
    "    coin = randint(1,2)\n",
    "    ucoin = int(input(\"앞면(1), 뒷면(2), 그만하기(3) 을 선택하세요 : \"))\n",
    "    \n",
    "    if ucoin == 3:\n",
    "        print(\"그만할거임ㅋ\")\n",
    "        break\n",
    "    \n",
    "    if coin == ucoin:\n",
    "        money += 9\n",
    "        print(f\"맞춤ㅋ 현재 돈 : {money}\")\n",
    "    else :\n",
    "        money -= 10\n",
    "        print(f\"틀림ㅋ 현재 돈 : {money}\")"
   ]
  },
  {
   "attachments": {},
   "cell_type": "markdown",
   "id": "61dcbd34",
   "metadata": {},
   "source": [
    "### 연습문제 \n",
    "*두 수의 최대 공약수는 두 수를 나누어 떨어지는 가장 큰 수이다. 예를 들어 (16, 24)의 최대 공약수는 8이다. 두 수를 입력 받아 다음 알고리즘에 의해 최대 공약수를 구하는 프로그램을 작성하라.\n",
    "\n",
    "- 큰 수를 작은 수로 나눈 나머지를 구하라\n",
    "- 큰 수를 작은 수로 대체하고 작은 수는 나머지로 대체하라\n",
    "- 작은 수가 0이 될 때까지 이 과정을 반목하라. 마지막 큰 수가 최대 공약수이다.\n"
   ]
  },
  {
   "cell_type": "code",
   "execution_count": 56,
   "id": "c677c9dc",
   "metadata": {},
   "outputs": [
    {
     "name": "stdout",
     "output_type": "stream",
     "text": [
      "첫 번째 수를 입력하세요 : 16\n",
      "두 번째 수를 입력하세요 : 24\n",
      "최대 공약 수 : 8\n"
     ]
    }
   ],
   "source": [
    "a = int(input(\"첫 번째 수를 입력하세요 : \"))\n",
    "b = int(input(\"두 번째 수를 입력하세요 : \"))\n",
    "\n",
    "max_num = 0\n",
    "min_num = 100\n",
    "\n",
    "# a, b= max(num1, num2), min(num1, num2)\n",
    "if a < b:\n",
    "    max_num = b\n",
    "    min_num = a\n",
    "else :\n",
    "    max_num = a\n",
    "    min_num = b\n",
    "\n",
    "while min_num > 0 :\n",
    "    temp = max_num % min_num\n",
    "    max_num = min_num\n",
    "    min_num = temp\n",
    "    \n",
    "print(f\"최대 공약 수 : {max_num}\")\n"
   ]
  },
  {
   "attachments": {},
   "cell_type": "markdown",
   "id": "9c7095d3",
   "metadata": {},
   "source": [
    "### 연습문제\n",
    "1. 정수를 입력 받아 그 수의 약수를 모두 출력하는 프로그램을 작성하라\u000b",
    "m % n = 0이면 n은 m의 약수이다. 예를 들어 12의 약수는 1, 2, 3, 4, 6, 12이다. "
   ]
  },
  {
   "cell_type": "code",
   "execution_count": 58,
   "id": "4658e455",
   "metadata": {},
   "outputs": [
    {
     "name": "stdout",
     "output_type": "stream",
     "text": [
      "정수를 입력하세요: 12\n",
      " 12의 약수는 [1, 2, 3, 4, 6, 12]입니다.\n"
     ]
    }
   ],
   "source": [
    "# 연습문제 1번 \n",
    "num = int(input(\"정수를 입력하세요: \"))\n",
    "list = []\n",
    "\n",
    "for i in range(1, num+1):\n",
    "    if num % i == 0:\n",
    "        list.append(i)\n",
    "\n",
    "print(f\" {num}의 약수는 {list}입니다.\")\n",
    "        "
   ]
  },
  {
   "attachments": {},
   "cell_type": "markdown",
   "id": "0e904f4e",
   "metadata": {},
   "source": [
    "### 연습문제\n",
    "\n",
    "2. 반복문과 조건문을 사용해 점수를 계속 입력 받아 90점 이상이면 A, 80점 이상이면 B, 60점 이상이면 C, 40점 이상이면 D, 39점 이하이면 F라고 출력하는 프로그램을 작성하라. 입력 받는 점수가 음수일 때종료한다.\n"
   ]
  },
  {
   "cell_type": "code",
   "execution_count": 60,
   "id": "7dc9a25b",
   "metadata": {},
   "outputs": [
    {
     "name": "stdout",
     "output_type": "stream",
     "text": [
      "점수를 입력하세요(음수를 입력하면 종료 합니다.) : 70\n",
      "점수 : 70, 학점 : C\n",
      "점수를 입력하세요(음수를 입력하면 종료 합니다.) : 55\n",
      "점수 : 55, 학점 : D\n",
      "점수를 입력하세요(음수를 입력하면 종료 합니다.) : 33\n",
      "점수 : 33, 학점 : F\n",
      "점수를 입력하세요(음수를 입력하면 종료 합니다.) : 99\n",
      "점수 : 99, 학점 : A\n",
      "점수를 입력하세요(음수를 입력하면 종료 합니다.) : 88\n",
      "점수 : 88, 학점 : B\n",
      "점수를 입력하세요(음수를 입력하면 종료 합니다.) : -1\n",
      "종료합니다.\n"
     ]
    }
   ],
   "source": [
    "while True:\n",
    "    grade = int(input(\"점수를 입력하세요(음수를 입력하면 종료 합니다.) : \"))\n",
    "    \n",
    "    if grade < 0:\n",
    "        print(\"종료합니다.\")\n",
    "        break\n",
    "    elif grade >= 90:\n",
    "        print(f\"점수 : {grade}, 학점 : A\")\n",
    "    elif grade >= 80:\n",
    "        print(f\"점수 : {grade}, 학점 : B\")\n",
    "    elif grade >= 60:\n",
    "        print(f\"점수 : {grade}, 학점 : C\")\n",
    "    elif grade >= 40:\n",
    "        print(f\"점수 : {grade}, 학점 : D\")\n",
    "    elif grade >= 0:\n",
    "        print(f\"점수 : {grade}, 학점 : F\")\n",
    "    "
   ]
  },
  {
   "attachments": {},
   "cell_type": "markdown",
   "id": "bc7f8a2e",
   "metadata": {},
   "source": [
    "### 연습문제\n",
    "\n",
    "3. 임의의 자연수 n이 입력되면 2부터 n까지의 모든 소수를 출력하는 프로그램. 소수는 1과 자기자신으로만 나누어 떨어지는 수, 예 5, 7"
   ]
  },
  {
   "cell_type": "code",
   "execution_count": 71,
   "id": "213150cb",
   "metadata": {},
   "outputs": [
    {
     "name": "stdout",
     "output_type": "stream",
     "text": [
      "자연수를 입력하세요 : 12\n",
      "2부터 12까지의 소수는 [2, 3, 5, 7, 11]입니다.\n"
     ]
    }
   ],
   "source": [
    "n = int(input(\"자연수를 입력하세요 : \"))\n",
    "\n",
    "while n < 0:\n",
    "    n = int(input(\"잘못 입력하셨습니다. 자연수를 다시 입력하세요 : \"))\n",
    "\n",
    "lists = []\n",
    "\n",
    "for i in range(2, n+1):\n",
    "    t = True\n",
    "    for j in range(2, i):\n",
    "        temp = i % j\n",
    "        if temp == 0:\n",
    "            t = False\n",
    "            break\n",
    "            \n",
    "    if t == True:\n",
    "        lists.append(i)\n",
    "    \n",
    "print(f\"2부터 {n}까지의 소수는 {lists}입니다.\")"
   ]
  }
 ],
 "metadata": {
  "kernelspec": {
   "display_name": "Python 3 (ipykernel)",
   "language": "python",
   "name": "python3"
  },
  "language_info": {
   "codemirror_mode": {
    "name": "ipython",
    "version": 3
   },
   "file_extension": ".py",
   "mimetype": "text/x-python",
   "name": "python",
   "nbconvert_exporter": "python",
   "pygments_lexer": "ipython3",
   "version": "3.10.9"
  }
 },
 "nbformat": 4,
 "nbformat_minor": 5
}
