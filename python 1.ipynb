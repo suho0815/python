{
 "cells": [
  {
   "cell_type": "markdown",
   "id": "4bc770ad",
   "metadata": {},
   "source": [
    "# MarkDown 사용법\n",
    "1. 제목\n",
    "# 첫 번째 큰 제목\n",
    "## 두 번째 큰 제목\n",
    "### 세 번째 큰 제목\n",
    "#### 네 번째 제목\n",
    "##### 다섯 번째 제목\n",
    "###### 여섯 번째 제목\n",
    "\n",
    "2. 줄바꿈\n",
    "<br> 태그를 이용해서 줄바꿈을 사용할 수 있는데, 마크다운에서는 간단하게 띄어쓰기 두 번을 하고 enter을 누르면 줄을 바꿀 수 있다.\n",
    "\n",
    "3. 목록\n",
    "+ 첫번째\n",
    "+ 두번째\n",
    "+ 세번째\n",
    "\n",
    "- 첫번째\n",
    "- 두번째\n",
    "- 세번째\n",
    "\n",
    "* 첫번째\n",
    "* 두번째\n",
    "* 세번째\n",
    "\n",
    "+ 첫번째\n",
    "\t+ 두번째\n",
    "\t\t+ 세번째\n",
    "\n",
    "- 첫번째\n",
    "\t- 두번째\n",
    "\t\t- 세번째\n",
    "\n",
    "* 첫번째\n",
    "\t* 두번째\n",
    "\t\t* 세번째\n",
    "        \n",
    "4. 수평선\n",
    "* * *\n",
    "***\n",
    "*****\n",
    "- - -\n",
    "----------------\n",
    "\n",
    "5. 강조\n",
    "*기울어진 글씨*  \n",
    "_기울어진 글씨_  \n",
    "**굵은 글씨**  \n",
    "__굵은 글씨__  \n",
    "~~줄그어진 글씨~~  "
   ]
  },
  {
   "attachments": {},
   "cell_type": "markdown",
   "id": "72ba05b2",
   "metadata": {},
   "source": [
    "### 포맷팅 문자열\n",
    "\n",
    "#### format() 메소드 활용\n",
    "1. 일반적인 포맷팅\n",
    "- print(\"My name is {}, I'm {} years old, and my height is {:.1f}.\".format(name, age, height))\n",
    "\n",
    "2. 인덱스를 활용\n",
    "- print(\"My name is {0}, I'm {1} years old, and my height is {2:.1f}.\".format(name, age, height))\n",
    "\n",
    "#### f-string 활용\n",
    "1. 서식 지정자를 이용하여 포맷팅\n",
    "- 정수: {변수:d}\n",
    "- 실수: {변수:f}\n",
    "- 지수: {변수:e}\n",
    "- 전체 자릿수 지정: {변수:전체 자릿수}\n",
    "- 소수점 이하 자릿수 지정: {변수:.소수점 이하 자릿수f}\n",
    "- 양수일 때는 +로 표시: {변수:+}\n",
    "- 자릿수 맞추기: {변수:자릿수}\n",
    "- 0으로 채우기: {변수:0>자릿수}\n",
    "- 왼쪽 정렬: {변수:<자릿수}\n",
    "- 가운데 정렬: {변수:^자릿수}\n",
    "\n",
    "- print(f\"My name is {name}, I'm {age} years old, and my height is {height:.1f}.\")\n"
   ]
  },
  {
   "cell_type": "code",
   "execution_count": null,
   "id": "9f82c969",
   "metadata": {},
   "outputs": [],
   "source": [
    "name = \"Tom\"\n",
    "age = 20\n",
    "print(f\"My name is {name} and I am {age} years old\")\n",
    "\n",
    "a = 3\n",
    "b = 2\n",
    "c = 1\n",
    "print(\"I have {0} apples, {1} oranges, and {2} banana\".format(a,b,c))\n",
    "\n",
    "s = 1.23\n",
    "print(\"The result is {0:.2f}.\".format(s))"
   ]
  },
  {
   "attachments": {},
   "cell_type": "markdown",
   "id": "6f641d89",
   "metadata": {},
   "source": [
    "### 연습문제\n",
    "1. 초를 입력하면 분과 초로 표시하는 프로그램. 예를 들어, 200초를 입력하면 3분 20초로 표현하라"
   ]
  },
  {
   "cell_type": "code",
   "execution_count": null,
   "id": "3d5e5a47",
   "metadata": {},
   "outputs": [],
   "source": [
    "cnt = int(input(\"사과의 개수를 입력하세요.\"))\n",
    "price = int(input(\"사과의 가격을 입력하세요.\"))\n",
    "buga = float(input(\"부가세율을 입력하세요.\"))/100\n",
    "\n",
    "print(f\"{cnt* price + (cnt * price) * buga} \")"
   ]
  },
  {
   "attachments": {},
   "cell_type": "markdown",
   "id": "ee6d2f9d",
   "metadata": {},
   "source": [
    "### 연습문제\n",
    "2. 분(min)을 입력 하면, 일, 시간, 분으로 출력하는 프로그램을 만들어라. (예 : 1550분은 1일 1시간 50분)"
   ]
  },
  {
   "cell_type": "code",
   "execution_count": 2,
   "id": "ec7d415a",
   "metadata": {},
   "outputs": [
    {
     "name": "stdout",
     "output_type": "stream",
     "text": [
      "초를 입력하세요.200\n",
      "3분 20초\n",
      "분을 입력하세요.300\n",
      "0일 5시 0분\n"
     ]
    }
   ],
   "source": [
    "s = int(input(\"초를 입력하세요.\"))\n",
    "m = int(s / 60)\n",
    "s = s % 60\n",
    "\n",
    "print(f\"{m}분 {s}초\")\n",
    "\n",
    "\n",
    "m = int(input(\"분을 입력하세요.\"))\n",
    "d = m // (24 * 60)\n",
    "h = (m // 60)\n",
    "m = m % 60\n",
    "\n",
    "print(f\"{d}일 {h}시 {m}분\")"
   ]
  },
  {
   "attachments": {},
   "cell_type": "markdown",
   "id": "3386ac1b",
   "metadata": {},
   "source": [
    "### 연습문제\n",
    "3. 500만원을 년이율 5%로 복리 저금했을 때 5년 후의 원리금의 합계를 출력하는 프로그램"
   ]
  },
  {
   "cell_type": "code",
   "execution_count": null,
   "id": "f1f03fd6",
   "metadata": {},
   "outputs": [],
   "source": [
    "money = 5000000\n",
    "year = 5\n",
    "rate = 0.05\n",
    "\n",
    "ans = money * (1+rate)**year\n",
    "print(f\"{int(ans)}원\")"
   ]
  },
  {
   "attachments": {},
   "cell_type": "markdown",
   "id": "c1891e7a",
   "metadata": {},
   "source": [
    "### 연습문제\n",
    "4. 1부터 n까지의 합은 n(n+1)/2로 주어진다. 1부터 100까지의 합을 구하여 출력하는 프로그램을 작성하고 실행하라."
   ]
  },
  {
   "cell_type": "code",
   "execution_count": null,
   "id": "bd5289c2",
   "metadata": {},
   "outputs": [],
   "source": [
    "sum = 100 * 101 // 2\n",
    "\n",
    "print(f\"{sum}\")"
   ]
  },
  {
   "attachments": {},
   "cell_type": "markdown",
   "id": "43d62ad4",
   "metadata": {},
   "source": [
    "### 연습문제\n",
    "5. 판매자가 딸기와 포도를 판매하고 있다. 포도 한 알의 무게는 75g이고 딸기 한 알의 무게는 113.5g이다. 사용자로부터 포도 알의 개수와 딸기의 개수를 입력 받아 총 무게를 계산하여 출력하는 프로그램을 작성하고 실행하라."
   ]
  },
  {
   "cell_type": "code",
   "execution_count": null,
   "id": "8f3ae38d",
   "metadata": {},
   "outputs": [],
   "source": [
    "포도 = 75\n",
    "딸기 = 113.5\n",
    "\n",
    "포도개수 = int(input(\"포도 개수 입력:\")) \n",
    "딸기개수 = int(input(\"딸기 개수 입력:\"))\n",
    "\n",
    "무게 = 포도* 포도개수 + 딸기 * 딸기개수\n",
    "print(f\"총 무게 {무게}\")"
   ]
  }
 ],
 "metadata": {
  "kernelspec": {
   "display_name": "Python 3 (ipykernel)",
   "language": "python",
   "name": "python3"
  },
  "language_info": {
   "codemirror_mode": {
    "name": "ipython",
    "version": 3
   },
   "file_extension": ".py",
   "mimetype": "text/x-python",
   "name": "python",
   "nbconvert_exporter": "python",
   "pygments_lexer": "ipython3",
   "version": "3.10.9"
  }
 },
 "nbformat": 4,
 "nbformat_minor": 5
}
