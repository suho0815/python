{
 "cells": [
  {
   "cell_type": "code",
   "execution_count": null,
   "id": "9f82c969",
   "metadata": {},
   "outputs": [],
   "source": [
    "name = \"Tom\"\n",
    "age = 20\n",
    "print(f\"My name is {name} and I am {age} years old\")\n",
    "\n",
    "a = 3\n",
    "b = 2\n",
    "c = 1\n",
    "print(\"I have {0} apples, {1} oranges, and {2} banana\".format(a,b,c))\n",
    "\n",
    "s = 1.23\n",
    "print(\"The result is {0:.2f}.\".format(s))"
   ]
  },
  {
   "cell_type": "code",
   "execution_count": null,
   "id": "3d5e5a47",
   "metadata": {},
   "outputs": [],
   "source": [
    "#예제 문제\n",
    "cnt = int(input(\"사과의 개수를 입력하세요.\"))\n",
    "price = int(input(\"사과의 가격을 입력하세요.\"))\n",
    "buga = float(input(\"부가세율을 입력하세요.\"))/100\n",
    "\n",
    "print(f\"{cnt* price + (cnt * price) * buga} \")"
   ]
  },
  {
   "cell_type": "code",
   "execution_count": 2,
   "id": "ec7d415a",
   "metadata": {},
   "outputs": [
    {
     "name": "stdout",
     "output_type": "stream",
     "text": [
      "초를 입력하세요.200\n",
      "3분 20초\n",
      "분을 입력하세요.300\n",
      "0일 5시 0분\n"
     ]
    }
   ],
   "source": [
    "s = int(input(\"초를 입력하세요.\"))\n",
    "m = int(s / 60)\n",
    "s = s % 60\n",
    "\n",
    "print(f\"{m}분 {s}초\")\n",
    "\n",
    "\n",
    "m = int(input(\"분을 입력하세요.\"))\n",
    "d = m // (24 * 60)\n",
    "h = (m // 60)\n",
    "m = m % 60\n",
    "\n",
    "print(f\"{d}일 {h}시 {m}분\")"
   ]
  },
  {
   "cell_type": "code",
   "execution_count": null,
   "id": "f1f03fd6",
   "metadata": {},
   "outputs": [],
   "source": [
    "money = 5000000\n",
    "year = 5\n",
    "rate = 0.05\n",
    "\n",
    "ans = money * (1+rate)**year\n",
    "print(f\"{int(ans)}원\")"
   ]
  },
  {
   "cell_type": "code",
   "execution_count": null,
   "id": "bd5289c2",
   "metadata": {},
   "outputs": [],
   "source": [
    "sum = 100 * 101 // 2\n",
    "\n",
    "print(f\"{sum}\")"
   ]
  },
  {
   "cell_type": "code",
   "execution_count": null,
   "id": "8f3ae38d",
   "metadata": {},
   "outputs": [],
   "source": [
    "포도 = 75\n",
    "딸기 = 113.5\n",
    "\n",
    "포도개수 = int(input(\"포도 개수 입력:\")) \n",
    "딸기개수 = int(input(\"딸기 개수 입력:\"))\n",
    "\n",
    "무게 = 포도* 포도개수 + 딸기 * 딸기개수\n",
    "print(f\"총 무게 {무게}\")"
   ]
  }
 ],
 "metadata": {
  "kernelspec": {
   "display_name": "Python 3 (ipykernel)",
   "language": "python",
   "name": "python3"
  },
  "language_info": {
   "codemirror_mode": {
    "name": "ipython",
    "version": 3
   },
   "file_extension": ".py",
   "mimetype": "text/x-python",
   "name": "python",
   "nbconvert_exporter": "python",
   "pygments_lexer": "ipython3",
   "version": "3.10.9"
  }
 },
 "nbformat": 4,
 "nbformat_minor": 5
}
