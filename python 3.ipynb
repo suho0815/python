{
 "cells": [
  {
   "cell_type": "markdown",
   "id": "2d102cb5",
   "metadata": {},
   "source": [
    "## 문자열, 리스트, 튜플, 딕셔너리 다루기"
   ]
  },
  {
   "attachments": {},
   "cell_type": "markdown",
   "id": "08370d13",
   "metadata": {},
   "source": [
    "### 문자열\n",
    "\n",
    "1. 문자열 인덱싱\n",
    "- 문자열에서 문자 하나 찝어오는 것\n",
    "- string[4]\n",
    "\n",
    "2. 문자열 슬라이싱\n",
    "- 문자열에서 일부 잘라오는 것\n",
    "- string[start:end:step]\n",
    "\n",
    "3. 문자열 주의사항\n",
    "- 문자열과 숫자를 함께 사용할 때 주의 (TypeError 주의)\n",
    "- 문자열을 인덱싱 또는 슬라이싱할 때 주의 (문자열 범위 벗어나는 것 주의)\n",
    "- 문자열을 수정할 때 주의 (문자열은 수정할 수 없음)\n",
    "- 문자열을 저장할 때 인코딩에 주의\n"
   ]
  },
  {
   "cell_type": "code",
   "execution_count": 2,
   "id": "a8327d2e",
   "metadata": {},
   "outputs": [
    {
     "name": "stdout",
     "output_type": "stream",
     "text": [
      "H\n",
      "e\n",
      "!\n"
     ]
    }
   ],
   "source": [
    "# 문자열 인덱싱 예제 1\n",
    "s = \"Hello, World!\"\n",
    "print(s[0])   # 'H'\n",
    "print(s[1])   # 'e'\n",
    "print(s[-1])  # '!'\n"
   ]
  },
  {
   "cell_type": "code",
   "execution_count": 1,
   "id": "81dab957",
   "metadata": {},
   "outputs": [
    {
     "name": "stdout",
     "output_type": "stream",
     "text": [
      "hello\n"
     ]
    }
   ],
   "source": [
    "#문자열 슬라이싱 예제\n",
    "string = \"hello world\"\n",
    "substring = string[:5]\n",
    "print(substring)  # \"hello\"\n"
   ]
  },
  {
   "attachments": {},
   "cell_type": "markdown",
   "id": "e2d20164",
   "metadata": {},
   "source": [
    "### 문자열 함수와 메서드\n",
    "\n",
    "1. 문자열 함수  \n",
    "\n",
    "문자열을 인수로 받고, 새로운 문자열이나 숫자, 논리값 등을 반환합니다!\n",
    "\n",
    "2. 문자열 메서드\n",
    "\n",
    "문자열 객체에서 호출할 수 있는 함수입니다!"
   ]
  },
  {
   "attachments": {},
   "cell_type": "markdown",
   "id": "fa7a961b",
   "metadata": {},
   "source": [
    "### 연습문제\n",
    "\n",
    "#### 사용자가 입력한 문자열에 대해 다음 물음에 답하라\n",
    "- 문자열의 문자수를 출력하라\n",
    "- 문자열을 10번 반복한 문자열을 출력하라\n",
    "- 문자열의 첫 번째 문자를 출력하라\n",
    "- 문자열에서 처음 3문자를 출력하라\n",
    "- 문자열에서 마지막 3문자를 출력하라\n",
    "- 문자열의 문자를 거꾸로 출력하라\n",
    "- 문자열에 7번째 문자가 있으면 출력하고 없으면 '문자가 없습니다'라는 메시지를 출력하라\n",
    "- 문자열에서 첫 번째 문자와 마지막 문자를 제거한 문자열을 출력하라\n",
    "- 문자를 모두 대문자로 변경하여 출력하라\n",
    "- 문자를 모두 소문자로 변경하여 출력하라\n",
    "- 문자열에서 'a'를 'e'로 대체하여 출력하라\n"
   ]
  },
  {
   "cell_type": "code",
   "execution_count": 14,
   "id": "61b204cf",
   "metadata": {},
   "outputs": [
    {
     "name": "stdout",
     "output_type": "stream",
     "text": [
      "문자열 입력 : Hello\n",
      "5\n",
      "HelloHelloHelloHelloHelloHelloHelloHelloHelloHello\n",
      "H\n",
      "Hel\n",
      "llo\n",
      "olleH\n"
     ]
    },
    {
     "ename": "TypeError",
     "evalue": "must be str, not int",
     "output_type": "error",
     "traceback": [
      "\u001b[1;31m---------------------------------------------------------------------------\u001b[0m",
      "\u001b[1;31mTypeError\u001b[0m                                 Traceback (most recent call last)",
      "Cell \u001b[1;32mIn[14], line 9\u001b[0m\n\u001b[0;32m      7\u001b[0m \u001b[38;5;28mprint\u001b[39m(\u001b[38;5;28mstr\u001b[39m[\u001b[38;5;241m-\u001b[39m\u001b[38;5;241m3\u001b[39m:])\n\u001b[0;32m      8\u001b[0m \u001b[38;5;28mprint\u001b[39m(\u001b[38;5;28mstr\u001b[39m[::\u001b[38;5;241m-\u001b[39m\u001b[38;5;241m1\u001b[39m])\n\u001b[1;32m----> 9\u001b[0m \u001b[38;5;28mprint\u001b[39m((\u001b[38;5;28;43mstr\u001b[39;49m\u001b[38;5;241;43m.\u001b[39;49m\u001b[43mfind\u001b[49m\u001b[43m(\u001b[49m\u001b[38;5;241;43m7\u001b[39;49m\u001b[43m)\u001b[49m \u001b[38;5;241m>\u001b[39m \u001b[38;5;241m-\u001b[39m\u001b[38;5;241m1\u001b[39m) \u001b[38;5;28;01mif\u001b[39;00m \u001b[38;5;28mstr\u001b[39m \u001b[38;5;28;01melse\u001b[39;00m \u001b[38;5;124m\"\u001b[39m\u001b[38;5;124m문자가 없습니다.\u001b[39m\u001b[38;5;124m\"\u001b[39m)\n",
      "\u001b[1;31mTypeError\u001b[0m: must be str, not int"
     ]
    }
   ],
   "source": [
    "str = input(\"문자열 입력 : \")\n",
    "\n",
    "print(len(str))\n",
    "print(str * 10)\n",
    "print(str[0])\n",
    "print(str[:3])\n",
    "print(str[-3:])\n",
    "print(str[::-1])\n",
    "print((str.find(7) > -1) if str else \"문자가 없습니다.\")\n"
   ]
  }
 ],
 "metadata": {
  "kernelspec": {
   "display_name": "Python 3 (ipykernel)",
   "language": "python",
   "name": "python3"
  },
  "language_info": {
   "codemirror_mode": {
    "name": "ipython",
    "version": 3
   },
   "file_extension": ".py",
   "mimetype": "text/x-python",
   "name": "python",
   "nbconvert_exporter": "python",
   "pygments_lexer": "ipython3",
   "version": "3.10.9"
  }
 },
 "nbformat": 4,
 "nbformat_minor": 5
}
