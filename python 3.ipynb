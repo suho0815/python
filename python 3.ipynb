{
 "cells": [
  {
   "cell_type": "markdown",
   "id": "2d102cb5",
   "metadata": {},
   "source": [
    "## 문자열, 리스트, 튜플, 딕셔너리 다루기"
   ]
  },
  {
   "cell_type": "markdown",
   "id": "08370d13",
   "metadata": {},
   "source": [
    "### 문자열\n",
    "\n",
    "1. 문자열 인덱싱\n",
    "- 문자열에서 문자 하나 찝어오는 것\n",
    "- string[4]\n",
    "\n",
    "2. 문자열 슬라이싱\n",
    "- 문자열에서 일부 잘라오는 것\n",
    "- string[start:end:step]\n",
    "\n",
    "3. 문자열 주의사항\n",
    "- 문자열과 숫자를 함께 사용할 때 주의 (TypeError 주의)\n",
    "- 문자열을 인덱싱 또는 슬라이싱할 때 주의 (문자열 범위 벗어나는 것 주의)\n",
    "- 문자열을 수정할 때 주의 (문자열은 수정할 수 없음)\n",
    "- 문자열을 저장할 때 인코딩에 주의\n",
    "\n",
    "\n",
    "print문 안에 조건문 사용하기  \n",
    "print(참 if 조건 else 거짓)"
   ]
  },
  {
   "cell_type": "code",
   "execution_count": 2,
   "id": "a8327d2e",
   "metadata": {},
   "outputs": [
    {
     "name": "stdout",
     "output_type": "stream",
     "text": [
      "H\n",
      "e\n",
      "!\n"
     ]
    }
   ],
   "source": [
    "# 문자열 인덱싱 예제 1\n",
    "s = \"Hello, World!\"\n",
    "print(s[0])   # 'H'\n",
    "print(s[1])   # 'e'\n",
    "print(s[-1])  # '!'\n"
   ]
  },
  {
   "cell_type": "code",
   "execution_count": 1,
   "id": "81dab957",
   "metadata": {},
   "outputs": [
    {
     "name": "stdout",
     "output_type": "stream",
     "text": [
      "hello\n"
     ]
    }
   ],
   "source": [
    "#문자열 슬라이싱 예제\n",
    "string = \"hello world\"\n",
    "substring = string[:5]\n",
    "print(substring)  # \"hello\"\n"
   ]
  },
  {
   "cell_type": "markdown",
   "id": "e2d20164",
   "metadata": {},
   "source": [
    "### 문자열 함수와 메서드\n",
    "\n",
    "1. 문자열 함수  \n",
    "\n",
    "문자열을 인수로 받고, 새로운 문자열이나 숫자, 논리값 등을 반환합니다!\n",
    "\n",
    "2. 문자열 메서드\n",
    "\n",
    "문자열 객체에서 호출할 수 있는 함수입니다!"
   ]
  },
  {
   "cell_type": "markdown",
   "id": "fa7a961b",
   "metadata": {},
   "source": [
    "### 연습문제\n",
    "\n",
    "#### 사용자가 입력한 문자열에 대해 다음 물음에 답하라\n",
    "- 문자열의 문자수를 출력하라\n",
    "- 문자열을 10번 반복한 문자열을 출력하라\n",
    "- 문자열의 첫 번째 문자를 출력하라\n",
    "- 문자열에서 처음 3문자를 출력하라\n",
    "- 문자열에서 마지막 3문자를 출력하라\n",
    "- 문자열의 문자를 거꾸로 출력하라\n",
    "- 문자열에 7번째 문자가 있으면 출력하고 없으면 '문자가 없습니다'라는 메시지를 출력하라\n",
    "- 문자열에서 첫 번째 문자와 마지막 문자를 제거한 문자열을 출력하라\n",
    "- 문자를 모두 대문자로 변경하여 출력하라\n",
    "- 문자를 모두 소문자로 변경하여 출력하라\n",
    "- 문자열에서 'a'를 'e'로 대체하여 출력하라\n"
   ]
  },
  {
   "cell_type": "code",
   "execution_count": 7,
   "id": "61b204cf",
   "metadata": {},
   "outputs": [
    {
     "name": "stdout",
     "output_type": "stream",
     "text": [
      "문자열 입력 : Hello\n",
      "5\n",
      "HelloHelloHelloHelloHelloHelloHelloHelloHelloHello\n",
      "H\n",
      "Hel\n",
      "llo\n",
      "olleH\n",
      "문자가 없습니다.\n"
     ]
    }
   ],
   "source": [
    "str = input(\"문자열 입력 : \")\n",
    "\n",
    "print(len(str))\n",
    "print(str * 10)\n",
    "print(str[0])\n",
    "print(str[:3])\n",
    "print(str[-3:])\n",
    "print(str[::-1])\n",
    "print( str[7] if (len(str) > 7) else \"문자가 없습니다.\")\n"
   ]
  },
  {
   "cell_type": "markdown",
   "id": "crazy-conflict",
   "metadata": {},
   "source": [
    "### Collection Data Types\n",
    "\n",
    "1. 리스트\n",
    "- 파이썬에서 가장 많이 사용하는 자료구조\n",
    "- 대괄호 [ ] 내에 쉼표(,)로 구분된 요소들을 담을 수 있음\n",
    "- 수정 가능하며, 순서도 유지됨\n",
    "- 리스트 안에 어떠한 자료형도 포함시킬 수 있음 (딕셔너리, 튜플, 집합 등등 전부 가능)\n",
    "- numbers = [1, 2, 3, 4, 5]\n",
    "- names = ['Alice', 'Bob', 'Charlie']\n",
    "\n",
    "\n",
    "2. 튜플\n",
    "- 리스트와 비슷하지만 수정 불가\n",
    "- 소괄호 ( ) 내에 쉼표(,)로 구분된 요소들을 담을 수 있음\n",
    "- numbers = (1, 2, 3, 4, 5)\n",
    "- names = ('Alice', 'Bob', 'Charlie')\n",
    "\n",
    "\n",
    "3. 딕셔너리\n",
    "- 키(key)와 값(value)의 쌍으로 구성된 자료형\n",
    "- 순서가 없음\n",
    "- {}를 사용하여 생성 또는 dict() 함수 사용\n",
    "- d = {'name':'John' , 'age':30}\n",
    "- d = dict(name='John' , age=30)\n",
    "\n",
    "\n",
    "4. 셋(set)\n",
    "- 순서가 없는 유일한 요소(element)들의 집합\n",
    "- 중복 허용x\n",
    "- {}를 사용하여 생성 또는 set() 함수 사용\n",
    "- s = {1,2,3}\n",
    "- s = set([1,2,3])\n"
   ]
  },
  {
   "cell_type": "markdown",
   "id": "affecting-citation",
   "metadata": {},
   "source": [
    "### 리스트\n",
    "\n",
    "1. 리스트 컴프리헨션(List Comprehension)\n",
    "- 리스트를 간단하게 생성하는 방법 중 하나\n",
    "- [표현식 for 항목 in 반복가능객체 if 조건문]\n",
    "- 표현식은 각 항목에 대한 연산을 의미하고, 항목은 반복 가능한 객체에서 가져온 값이 들어감.\n",
    "- if 조건문은 생략이 가능하며, 조건문이 참인 경우에만 값을 추가\n",
    "\n",
    "\n",
    "2. 리스트 인덱싱, 슬라이싱\n",
    "\n",
    "\n",
    "3. 리스트 합치기\n",
    "- +연산자 이용\n",
    "- extend()메서드 사용\n",
    "\n",
    "\n",
    "4. 리스트 수정\n",
    "- 인덱싱 이용하여 수정  \n",
    "    - my_list[2] = 5\n",
    "\n",
    "- 슬라이싱을 이용하여 수정  \n",
    "    - my_list[1:3] = [5, 6]\n",
    "\n",
    "5. 리스트 추가\n",
    "    - append(요소값) 메서드 이용 : 리스트 끝에 새로운 요소 추가\n",
    "    - insert(위치, 요소값) 메서드 이용 : 리스트의 원하는 위치에 요소 추가\n",
    "\n",
    "6. 리스트 제거\n",
    "- 슬라이싱 이용하여 제거\n",
    "    - mylist[1:4] = []\n",
    "\n",
    "- del 키워드 이용\n",
    "    - del mylist[2]\n",
    "\n",
    "- remove()메서드 이용\n",
    "    - 특정 요소를 찾아 제거\n",
    "    - my_list.remove(3)\n",
    "\n",
    "- pop()메서드 이용\n",
    "    - 리스트에서 마지막 요소를 제거, 인덱스를 지정하여 특정 위치의 요소를 제거할 수도 있음\n",
    "    - my_list.pop()\n",
    "    \n",
    "- clear() 메서드 이용\n",
    "     - 리스트의 모든 요소 제거\n",
    "     - my_list.clear()\n"
   ]
  },
  {
   "cell_type": "code",
   "execution_count": 14,
   "id": "painful-senior",
   "metadata": {},
   "outputs": [
    {
     "name": "stdout",
     "output_type": "stream",
     "text": [
      "[2, 4, 6, 8, 10]\n",
      "[2, 3, 4, 5, 6]\n",
      "[5, 6, 6, 6]\n"
     ]
    }
   ],
   "source": [
    "# 리스트 컴프리헨션\n",
    "# 1부터 10까지의 숫자 중 짝수만 포함하는 리스트\n",
    "even_num = [num for num in range(1,11) if num % 2 == 0]\n",
    "print(even_num)\n",
    "\n",
    "#리스트 내 모든 요소에 1을 더하는 리스트\n",
    "original_list = [1,2,3,4,5]\n",
    "new_list = [num + 1 for num in original_list]\n",
    "print(new_list)\n",
    "\n",
    "# 리스트 내 문자열의 길이를 구하기\n",
    "words = ['apple', 'banana', 'cherry', 'durian']\n",
    "word_lengths = [len(word) for word in words]\n",
    "print(word_lengths)  # [5, 6, 6, 6]\n"
   ]
  },
  {
   "cell_type": "code",
   "execution_count": 11,
   "id": "worldwide-lincoln",
   "metadata": {},
   "outputs": [
    {
     "name": "stdout",
     "output_type": "stream",
     "text": [
      "+ 연산자 이용\n",
      "[1, 2, 3, 4, 5, 6]\n",
      "extend()메서드 사용\n",
      "[1, 2, 3, 4, 5, 6]\n"
     ]
    }
   ],
   "source": [
    "# 리스트 합치기\n",
    "# + 연산자 이용\n",
    "list1 = [1, 2, 3]\n",
    "list2 = [4, 5, 6]\n",
    "list3 = list1 + list2\n",
    "print(\"+ 연산자 이용\")\n",
    "print(list3) # 출력 결과: [1, 2, 3, 4, 5, 6]\n",
    "\n",
    "\n",
    "# extend()메서드 사용\n",
    "list1 = [1,2,3]\n",
    "list2 = [4,5,6]\n",
    "list1.extend(list2)\n",
    "list3 = list1\n",
    "print(\"extend()메서드 사용\")\n",
    "print(list3)"
   ]
  }
 ],
 "metadata": {
  "kernelspec": {
   "display_name": "Python 3",
   "language": "python",
   "name": "python3"
  },
  "language_info": {
   "codemirror_mode": {
    "name": "ipython",
    "version": 3
   },
   "file_extension": ".py",
   "mimetype": "text/x-python",
   "name": "python",
   "nbconvert_exporter": "python",
   "pygments_lexer": "ipython3",
   "version": "3.9.2"
  }
 },
 "nbformat": 4,
 "nbformat_minor": 5
}
