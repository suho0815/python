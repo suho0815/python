{
 "cells": [
  {
   "attachments": {},
   "cell_type": "markdown",
   "metadata": {},
   "source": [
    "### 예외 처리\n",
    "\n",
    "오류나 예상하지 못한 이벤트가 발생했을 때 안정성과 가독성을 향상시켜줌\n",
    "\n",
    "- ValueError: 잘못된 값이 사용될 때 발생\n",
    "- TypeError: 잘못된 타입의 객체가 사용될 때 발생\n",
    "- IndexError: 인덱스 범위를 벗어난 경우 발생\n",
    "- KeyError: 사전에서 존재하지 않는 키를 참조할 때 발생\n",
    "- FileNotFoundError: 존재하지 않는 파일을 열려고 시도할 때 발생\n",
    "\n"
   ]
  },
  {
   "cell_type": "code",
   "execution_count": 1,
   "metadata": {},
   "outputs": [
    {
     "name": "stdout",
     "output_type": "stream",
     "text": [
      "Invalid input or division by zero.\n"
     ]
    }
   ],
   "source": [
    "# 여러 예외 처리\n",
    "try:\n",
    "    # 예외가 발생할 수 있는 코드\n",
    "    user_input = input(\"Enter a number: \")\n",
    "    number = int(user_input)\n",
    "    result = 10 / number\n",
    "except (ValueError, ZeroDivisionError):\n",
    "    print(\"Invalid input or division by zero.\")\n"
   ]
  },
  {
   "cell_type": "code",
   "execution_count": 3,
   "metadata": {},
   "outputs": [
    {
     "name": "stdout",
     "output_type": "stream",
     "text": [
      "An error occurred: invalid literal for int() with base 10: 'ㄴㄹㄴㅇㄹ'\n"
     ]
    }
   ],
   "source": [
    "# 모든 예외 처리\n",
    "try:\n",
    "    # 예외가 발생할 수 있는 코드\n",
    "    user_input = input(\"Enter a number: \")\n",
    "    number = int(user_input)\n",
    "    result = 10 / number\n",
    "except Exception as e:\n",
    "    print(f\"An error occurred: {e}\")\n"
   ]
  },
  {
   "cell_type": "code",
   "execution_count": 4,
   "metadata": {},
   "outputs": [
    {
     "name": "stdout",
     "output_type": "stream",
     "text": [
      "You entered the number 10.\n"
     ]
    }
   ],
   "source": [
    "try:\n",
    "    user_input = input(\"Enter a number: \")\n",
    "    number = int(user_input)\n",
    "except ValueError:\n",
    "    print(\"Invalid input. Please enter a valid number.\")\n",
    "else:\n",
    "    # 예외가 발생하지 않았을 때 실행\n",
    "    print(f\"You entered the number {number}.\")\n"
   ]
  },
  {
   "attachments": {},
   "cell_type": "markdown",
   "metadata": {},
   "source": [
    "### 연습문제\n",
    "data = {\"Sun\": 0, \"Mon\": 1, \"Tue\": 2, \"Wed\": 3, \"Thu\": 4, \"Fri\": 5, \"Sat\": 6} 이 주어질 때 try-except문을 이용하여 다음과 같이 동작하는 프로그램을 작성하라.\n",
    "- 사용자로부터 문자열을 입력 받는다\n",
    "- 문자열이 data의 key와 같으면 value를 출력하고 다시 문자열을 입력 받는다\n",
    "- 문자열 에 해당하는 key가 없으면 \"항목이 없습니다\"라는 메시지를 출력하고 종료한다.\n",
    "\n",
    "위 문제를 try-except를 이용하지 않고 프로그램할 수 있는가? 차이점은 무엇인가?\n"
   ]
  },
  {
   "cell_type": "code",
   "execution_count": 4,
   "metadata": {},
   "outputs": [
    {
     "name": "stdout",
     "output_type": "stream",
     "text": [
      "0\n",
      "1\n",
      "잘 못 입력하셨습니다.\n"
     ]
    }
   ],
   "source": [
    "import sys\n",
    "\n",
    "data = {\"Sun\": 0, \"Mon\": 1, \"Tue\": 2, \"Wed\": 3, \"Thu\": 4, \"Fri\": 5, \"Sat\": 6}\n",
    "\n",
    "while True:\n",
    "    try:\n",
    "        st = input(\"요일 입력 : \")\n",
    "        result = data[st]\n",
    "        print(result)\n",
    "    except Exception as e:\n",
    "        print(f\"잘 못 입력하셨습니다.\")\n",
    "        break\n",
    "\n",
    "# while True:\n",
    "#     st = input(\"요일 입력 : \")\n",
    "#     result = data.get(st)\n",
    "\n",
    "#     if result is not None:\n",
    "#         print(result)\n",
    "#     else :\n",
    "#         print(f\"잘 못 입력하셨습니다.\")\n",
    "#         break\n"
   ]
  }
 ],
 "metadata": {
  "kernelspec": {
   "display_name": "Python 3",
   "language": "python",
   "name": "python3"
  },
  "language_info": {
   "codemirror_mode": {
    "name": "ipython",
    "version": 3
   },
   "file_extension": ".py",
   "mimetype": "text/x-python",
   "name": "python",
   "nbconvert_exporter": "python",
   "pygments_lexer": "ipython3",
   "version": "3.11.3"
  },
  "orig_nbformat": 4
 },
 "nbformat": 4,
 "nbformat_minor": 2
}
