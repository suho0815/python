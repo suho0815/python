{
 "cells": [
  {
   "cell_type": "markdown",
   "id": "aef652bc",
   "metadata": {},
   "source": [
    "## 함수\n"
   ]
  },
  {
   "attachments": {},
   "cell_type": "markdown",
   "id": "e39b3f2a",
   "metadata": {},
   "source": [
    "### 연습문제\n",
    "\n",
    "두 개의 매개변수 n, m을 전달받아 m x n개의 * 상자를 출력하는 프로그램을 함수로 작성<br>\n",
    "예: 2, 4 -> ****<br>\n",
    "            ****\n"
   ]
  },
  {
   "cell_type": "code",
   "execution_count": 7,
   "id": "9ff3dccb",
   "metadata": {},
   "outputs": [
    {
     "name": "stdout",
     "output_type": "stream",
     "text": [
      "****\n",
      "****\n"
     ]
    }
   ],
   "source": [
    "def p(n, m):\n",
    "    for i in range(n):\n",
    "        for j in range(m):\n",
    "            print(\"*\",end=\"\")\n",
    "        print()\n",
    "        \n",
    "p(2,4)"
   ]
  },
  {
   "attachments": {},
   "cell_type": "markdown",
   "id": "8fcdf061",
   "metadata": {},
   "source": [
    "### 연습문제\n",
    "하나의 숫자를 전달받아 숫자의 자리 합을 구하는 함수를 작성<br>\n",
    "예: 123 -> 1+2+3 = 6\n"
   ]
  },
  {
   "cell_type": "code",
   "execution_count": 9,
   "id": "5ac29bd5",
   "metadata": {},
   "outputs": [
    {
     "data": {
      "text/plain": [
       "6"
      ]
     },
     "execution_count": 9,
     "metadata": {},
     "output_type": "execute_result"
    }
   ],
   "source": [
    "def p(n):\n",
    "    sum = 0\n",
    "    for i in str(n):\n",
    "        sum += int(i)\n",
    "    return sum\n",
    "\n",
    "p(123)"
   ]
  },
  {
   "attachments": {},
   "cell_type": "markdown",
   "id": "ff54bcfc",
   "metadata": {},
   "source": [
    "### 연습문제\n",
    "두 개의 문자열이 서로 다른 처음 위치를 반환하는 함수를 작성. 두 개의 문자열이 같으면 -1을 반환\n"
   ]
  },
  {
   "cell_type": "code",
   "execution_count": 12,
   "id": "e9195554",
   "metadata": {},
   "outputs": [
    {
     "data": {
      "text/plain": [
       "3"
      ]
     },
     "execution_count": 12,
     "metadata": {},
     "output_type": "execute_result"
    }
   ],
   "source": [
    "def p(str1, str2):\n",
    "    loc = 0\n",
    "    length = min(len(str1), len(str2))\n",
    "    for i in range(length):\n",
    "        if str1[i] == str2[i]:\n",
    "            loc += 1\n",
    "    if loc == max(len(str1), len(str2)):\n",
    "        return -1\n",
    "    else:\n",
    "        return loc\n",
    "p(\"abd\", \"abdc\")"
   ]
  },
  {
   "attachments": {},
   "cell_type": "markdown",
   "id": "fa1a8bc3",
   "metadata": {},
   "source": [
    "### 연습문제\n",
    "문자열과 하나의 문자를 전달받아 문자열에서 문자의 위치를 모두 찾아 리스트로 반환하는 함수를 작성\n"
   ]
  },
  {
   "cell_type": "code",
   "execution_count": 14,
   "id": "6ffd3734",
   "metadata": {},
   "outputs": [
    {
     "data": {
      "text/plain": [
       "[0, 4]"
      ]
     },
     "execution_count": 14,
     "metadata": {},
     "output_type": "execute_result"
    }
   ],
   "source": [
    "def p(st, ch):\n",
    "    lists = []\n",
    "    for i in range(len(st)):\n",
    "        if st[i] == ch:\n",
    "            lists.append(i)\n",
    "    return lists\n",
    "p(\"abdcad\", 'a')"
   ]
  },
  {
   "cell_type": "markdown",
   "id": "2150380f",
   "metadata": {},
   "source": [
    "## 내부 함수\n",
    "함수안에 다른 함수를 정의\n",
    "\n",
    "- 코드의 재사용성을 높일 수 있음"
   ]
  },
  {
   "cell_type": "code",
   "execution_count": 15,
   "id": "fb44bf59",
   "metadata": {},
   "outputs": [
    {
     "name": "stdout",
     "output_type": "stream",
     "text": [
      "9\n",
      "27\n"
     ]
    }
   ],
   "source": [
    "def power(n):\n",
    "    def inner(x):\n",
    "        return x ** n\n",
    "    return inner\n",
    "\n",
    "square = power(2)  # 제곱 함수를 구현\n",
    "cube = power(3)  # 세제곱 함수를 구현\n",
    "\n",
    "print(square(3))  # 출력결과: 9\n",
    "print(cube(3))  # 출력결과: 27\n"
   ]
  },
  {
   "cell_type": "markdown",
   "id": "d37e6987",
   "metadata": {},
   "source": [
    "### 함수의 가변인자\n",
    "- 가변인자(*args, **jwargs)로 인자 개수를 동적으로 처리함(인자개수 모를때 쓴다)\n",
    "\n",
    "- *args\n",
    "    - *args가변인자는 함수 내부에서 튜플로 처리됨\n",
    "    \n",
    "- **kwargs\n",
    "    - **kwargs는 함수 내부에서 딕셔너리 형태로 처리됨 "
   ]
  },
  {
   "cell_type": "markdown",
   "id": "f5716bcb",
   "metadata": {},
   "source": [
    "### 반환값 없음(None)\n",
    "- return이 없으면 자동으로 None(값이 없음)을 반환\n"
   ]
  },
  {
   "attachments": {},
   "cell_type": "markdown",
   "id": "9e8e3666",
   "metadata": {},
   "source": [
    "### 내장 함수\n",
    "파이썬에서 기본적으로 제공하는 함수, import 필요 없음\n",
    "\n",
    "- abs(int): 인자의 절댓값을 반환합니다.\n",
    "- all(): 인자로 받은 모든 요소가 참인 경우 True를 반환합니다.\n",
    "- any(): 인자로 받은 요소 중 하나라도 참인 경우 True를 반환합니다.\n",
    "- bin(int): 정수를 2진수로 변환한 문자열을 반환합니다.\n",
    "- oct(int): 정수를 8진수로 변환한 문자열을 반환합니다.\n",
    "- hex(int): 정수를 16진수로 변환한 문자열을 반환합니다.\n",
    "- chr(): 유니코드 코드포인트를 해당하는 문자로 변환한 문자열을 반환합니다.\n",
    "- dir(): 객체가 가지고 있는 메서드와 속성 등의 리스트를 반환합니다.\n",
    "- enumerate(리스트나 튜플 등등): 시퀀스 자료형을 인자로 받아, 인덱스와 값을 튜플 형태로 반환하는 이터레이터를 반환합니다.\n",
    "- eval(): 문자열로 표현된 파이썬 코드를 실행하고 결과를 반환합니다.\n",
    "- int(): 문자열 등을 정수로 변환한 값을 반환합니다.\n",
    "- filter(함수): 인자로 받은 함수가 참인 요소만 추출하여 새로운 리스트를 반환합니다.\n",
    "- map(): 인자로 받은 함수를 시퀀스 자료형의 모든 요소에 적용하여 새로운 리스트를 반환합니다.\n",
    "- ord(): 유니코드 문자를 해당하는 코드포인트로 변환한 정수 값을 반환합니다.\n",
    "- repr(): 객체를 문자열로 나타내어 반환합니다. 이때 반환된 문자열은 해당 객체를 다시 생성할 수 있는 코드 형태입니다.\n",
    "- round(): 실수를 반올림한 값을 반환합니다.\n",
    "- zip(): 두 개 이상의 시퀀스 자료형을 병렬로 처리하여, 각 시퀀스의 같은 위치에 있는 요소들을 튜플로 묶은 이터레이터를 반환합니다.\n"
   ]
  },
  {
   "cell_type": "code",
   "execution_count": 16,
   "id": "9aeb96fa",
   "metadata": {},
   "outputs": [
    {
     "data": {
      "text/plain": [
       "{'Alice': 24, 'Bob': 32, 'Charlie': 28}"
      ]
     },
     "execution_count": 16,
     "metadata": {},
     "output_type": "execute_result"
    }
   ],
   "source": [
    "names = ['Alice', 'Bob', 'Charlie']\n",
    "ages = [24, 32, 28]\n",
    "\n",
    "eval(repr(dict(list(zip(names,ages)))))"
   ]
  },
  {
   "attachments": {},
   "cell_type": "markdown",
   "id": "8d2062f5",
   "metadata": {},
   "source": [
    "### 연습문제\n",
    "enumerate() 내장 함수를 이용하여 사용자가 입력한 문자열에서 'a' 문자의 위치를 모두 찾아 출력하는 프로그램을 작성하라. 'a'가 없으면 \"a가 없습니다'라는 메시지를 출력하라."
   ]
  },
  {
   "cell_type": "code",
   "execution_count": 17,
   "id": "285ff9b6",
   "metadata": {},
   "outputs": [
    {
     "name": "stdout",
     "output_type": "stream",
     "text": [
      "문자열 입력 : i am a boy\n",
      "2\n",
      "5\n"
     ]
    }
   ],
   "source": [
    "a = input(\"문자열 입력 : \")\n",
    "\n",
    "boolean = False\n",
    "\n",
    "for i, c in enumerate(a):\n",
    "    if c == 'a':\n",
    "        print(i)\n",
    "        boolean = True\n",
    "\n",
    "if boolean == False:\n",
    "    print(\"a가 없음\")\n",
    "    \n"
   ]
  },
  {
   "attachments": {},
   "cell_type": "markdown",
   "id": "8cf7dbde",
   "metadata": {},
   "source": [
    "### 연습문제\n",
    "두 수의 합(sum), 차(sub), 곱(mul), 나누기(div)를 수행하는 함수를 각각 정의하라. 딕셔너리를 이용하여 사용자가 '1'을 입력하면 sum()을 호출하고, '2'를 입력하면 sub(), '3'을 입력하면 mul(), '4'를 입력하면 div() 함수를 호출하여 두 수의 연산을 수행하는 프로그램을 작성하라.\n"
   ]
  },
  {
   "cell_type": "code",
   "execution_count": 18,
   "id": "c095467b",
   "metadata": {},
   "outputs": [
    {
     "name": "stdout",
     "output_type": "stream",
     "text": [
      "연산 입력(1,2,3,4) : 2\n",
      "-1\n"
     ]
    }
   ],
   "source": [
    "def sum(a,b) :\n",
    "    return a + b\n",
    "\n",
    "def sub(a,b) :\n",
    "    return a - b\n",
    "\n",
    "def mul(a,b) :\n",
    "    return a * b\n",
    "\n",
    "def div(a,b) :\n",
    "    return a / b\n",
    "\n",
    "p = {'1':sum, '2':sub, '3':mul, '4':div}\n",
    "opcode = input(\"연산 입력(1,2,3,4) : \")\n",
    "print(p[opcode](2,3))\n"
   ]
  },
  {
   "attachments": {},
   "cell_type": "markdown",
   "id": "914324e9",
   "metadata": {},
   "source": [
    "### 연습문제\n",
    "다음과 같이 구성되는 문자열을 구분 문자(&, =)로 분리하여 딕셔너리로 반환하는 함수 작성<br>\n",
    "예: 문자열 'led=on&motor=off&switch=off'이고 구분 문자가 '&', '='일 때 {'led':'on', 'motor':'off', 'switch':off'} 반환. <br>\n",
    "Hint: dict([['a','b'], ['c', 'd']]) -> {'a': 'b', 'c': 'd'}\n"
   ]
  },
  {
   "cell_type": "code",
   "execution_count": 26,
   "id": "4ffc7da1",
   "metadata": {},
   "outputs": [
    {
     "name": "stdout",
     "output_type": "stream",
     "text": [
      "{'led': 'on', 'motor': 'off', 'switch': 'off'}\n"
     ]
    }
   ],
   "source": [
    "def p(st):\n",
    "    s = st.split('&')\n",
    "    temp = []\n",
    "    for i in s:\n",
    "        temp.append(i)\n",
    "    \n",
    "    for j in range(len(temp)):\n",
    "        temps = temp[j]\n",
    "        temp[j] = temps.split('=')\n",
    "    return dict(temp)\n",
    "    \n",
    "string = 'led=on&motor=off&switch=off'\n",
    "print(p(string))"
   ]
  }
 ],
 "metadata": {
  "kernelspec": {
   "display_name": "Python 3 (ipykernel)",
   "language": "python",
   "name": "python3"
  },
  "language_info": {
   "codemirror_mode": {
    "name": "ipython",
    "version": 3
   },
   "file_extension": ".py",
   "mimetype": "text/x-python",
   "name": "python",
   "nbconvert_exporter": "python",
   "pygments_lexer": "ipython3",
   "version": "3.10.9"
  }
 },
 "nbformat": 4,
 "nbformat_minor": 5
}
