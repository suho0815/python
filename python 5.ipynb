{
 "cells": [
  {
   "cell_type": "markdown",
   "id": "22f9439e",
   "metadata": {},
   "source": [
    "## 클래스\n",
    "연관된 데이터와 함수(메서드)들을 묶어 캡슐화하고 객체를 생성할 수 있음\n",
    "\n",
    "- 생성자 : 객체 생성 시 호출되는 메서드, 메서드 이름은 반드시 __init__()으로 작성되야 함\n",
    "\n",
    "- self : 인스턴스 자신을 가리키는 키워드\n",
    "\n",
    "- 인스턴스 변수 : 객체마다 독립적으로 사용되는 변수\n",
    "\n",
    "- 클래스 변수 : 클래스의 모든 인스턴스가 공유하는 변수\n",
    "\n",
    "- 인스턴스 메서드 : 해당 클래스의 인스턴스를 통해 호출하는 메서드, 첫 번째 인자는 self이고 인스턴스 변수에 접근 또는 수정을 위해 사용\n",
    "\n",
    "- 클래스 메서드 : 클래스 레벨에서 동작, 클래스 변수에 접근하기 위해 사용 @classmethod 데코레이터를 사용하여 정의, 첫 번째 인자는 self대신 cls를 받음"
   ]
  },
  {
   "cell_type": "code",
   "execution_count": null,
   "id": "89644141",
   "metadata": {},
   "outputs": [],
   "source": [
    "# 클래스 정의방법\n",
    "class 클래스이름:\n",
    "    # 클래스 멤버 변수\n",
    "    클래스변수 = 값\n",
    "    \n",
    "    # 생성자 메서드\n",
    "    def __init__(self, 매개변수):\n",
    "        # 인스턴스 멤버 변수\n",
    "        self.인스턴스변수 = 매개변수\n",
    "        \n",
    "    # 인스턴스 메서드\n",
    "    def 메서드이름(self, 매개변수):\n",
    "        # 메서드 내용"
   ]
  },
  {
   "cell_type": "code",
   "execution_count": 1,
   "id": "9a835713",
   "metadata": {},
   "outputs": [
    {
     "name": "stdout",
     "output_type": "stream",
     "text": [
      "0\n",
      "3\n",
      "2\n"
     ]
    }
   ],
   "source": [
    "#자전거 클래스\n",
    "class Bicycle:\n",
    "    # 생성자 메서드\n",
    "    def __init__(self, gear, speed):\n",
    "        self.gear = gear\n",
    "        self.speed = speed\n",
    "\n",
    "    # 인스턴스 메서드\n",
    "    def speed_up(self, increment):\n",
    "        self.speed += increment\n",
    "\n",
    "    def apply_brake(self, decrement):\n",
    "        self.speed -= decrement\n",
    "# Bicycle 클래스를 이용하여 객체 생성\n",
    "my_bike = Bicycle(6, 0)\n",
    "print(my_bike.speed) # 출력 결과: 0\n",
    "\n",
    "# 인스턴스 메서드 호출\n",
    "my_bike.speed_up(3)\n",
    "print(my_bike.speed) # 출력 결과: 3\n",
    "\n",
    "my_bike.apply_brake(1)\n",
    "print(my_bike.speed) # 출력 결과: 2\n"
   ]
  },
  {
   "cell_type": "markdown",
   "id": "0900f908",
   "metadata": {},
   "source": [
    "### 연습문제"
   ]
  },
  {
   "cell_type": "code",
   "execution_count": 28,
   "id": "b1ac7401",
   "metadata": {},
   "outputs": [
    {
     "name": "stdout",
     "output_type": "stream",
     "text": [
      "1272279.2627665729\n"
     ]
    }
   ],
   "source": [
    "class Deposit:\n",
    "    \n",
    "    def __init__(self, initial, interest, n):\n",
    "        self.initial = initial\n",
    "        self.interest = interest\n",
    "        self.n = n\n",
    "    \n",
    "    #@classmethod\n",
    "    def profit(self):\n",
    "        return (self.initial* (1 + self.interest)**self.n)\n",
    "    \n",
    "deposit = Deposit(1000000, 0.035, 7)\n",
    "print(deposit.profit())"
   ]
  },
  {
   "attachments": {},
   "cell_type": "markdown",
   "id": "3b8f5a2a",
   "metadata": {},
   "source": [
    "### 캡슐화\n",
    "\n",
    "- 모듈 안에 정의된 변수나 함수를 외부에서 직접 접근 못하게 하는 것\n",
    "- 인스턴스 변수 이름 앞에 밑줄 두 개(__)를 붙여서 비공개 인스턴스 변수로 만들 수 있음\n",
    "\n",
    "### 상속\n",
    "\n",
    "- class Teacher(People):\n"
   ]
  },
  {
   "attachments": {},
   "cell_type": "markdown",
   "id": "e16fd0a0",
   "metadata": {},
   "source": [
    "### 연습문제\n",
    "예제의 Teacher 클래스에서 People 클래스의 __init__()를 호출하지 않고 부모 클래스의 age, name 인스턴스 변수를 이용할 수 있는가? 이용할 수 없다면 그 이유는? 이용할 수 있게 하려면 프로그램을 어떻게 수정해야 하는가?\n"
   ]
  },
  {
   "cell_type": "code",
   "execution_count": 19,
   "id": "a0c5e5c0",
   "metadata": {},
   "outputs": [
    {
     "name": "stdout",
     "output_type": "stream",
     "text": [
      "Name : 이 age : 35\n",
      "Name : Lee age : 35\n",
      "My School is  동의대\n"
     ]
    }
   ],
   "source": [
    "class People :\n",
    "    def __init__(self, age=0, name=None):\n",
    "        self.__age = age\n",
    "        self.__name = name\n",
    "\n",
    "    def getAge(self):\n",
    "        return self.__age\n",
    "    \n",
    "    def setAge(self, age):\n",
    "        self.__age = age\n",
    "        \n",
    "    def getName(self):\n",
    "        return self.__Name\n",
    "    \n",
    "    def setName(self, Name):\n",
    "        self.__name = Name\n",
    "        \n",
    "        \n",
    "    def introMe(self):\n",
    "        print(\"Name :\", self.__name, \"age :\", str(self.__age))\n",
    "\n",
    "class Teacher(People) :\n",
    "    def __init__(self, age=0, name=None, school=None) :\n",
    "        super().__init__(age, name)\n",
    "        self.school = school\n",
    "\n",
    "    def showSchool(self):\n",
    "        print(\"My School is \", self.school)\n",
    "\n",
    "t = Teacher(35, \"이\",\"동의대\")\n",
    "t.introMe()\n",
    "t.setName(\"Lee\")\n",
    "t.introMe()\n",
    "t.showSchool()"
   ]
  },
  {
   "attachments": {},
   "cell_type": "markdown",
   "id": "be2af51f",
   "metadata": {},
   "source": [
    "### 연습문제\n",
    "다음 Person 클래스를 상속 받는 Employee 클래스를 정의하라. Employee 클래스에 employeeID 인스턴스 변수를 추가하고 getID() 메소드를 정의하라. getID() 메소드는 employeeID를 반환하는 메소드이다.\u000b",
    "Employee 클래스를 이용하여 Employee(\"동양\", 65, 2019)로 생성된 객체의 이름, 나이, ID를 출력하라.\n"
   ]
  },
  {
   "cell_type": "code",
   "execution_count": 25,
   "id": "af40b660",
   "metadata": {},
   "outputs": [
    {
     "name": "stdout",
     "output_type": "stream",
     "text": [
      "동양\n",
      "65\n",
      "2019\n"
     ]
    }
   ],
   "source": [
    "class Person:\n",
    "    def __init__(self, name, age): \n",
    "        self.name = name \n",
    "        self.age = age \n",
    "\n",
    "    def getName(self): \n",
    "        return self.name\n",
    "\n",
    "    def getAge(self): \n",
    "        return self.age \n",
    "\n",
    "class Employee(Person):\n",
    "    def __init__(self, name, age, employeeID):\n",
    "        super().__init__(name, age)\n",
    "        self.employeeID = employeeID\n",
    "    \n",
    "    def getID(self):\n",
    "        return self.employeeID\n",
    "    \n",
    "emp = Employee(\"동양\", 65, 2019)\n",
    "print(emp.getName())\n",
    "print(emp.getAge())\n",
    "print(emp.getID())"
   ]
  },
  {
   "attachments": {},
   "cell_type": "markdown",
   "id": "707008f5",
   "metadata": {},
   "source": [
    "### 다중 상속\n",
    "- 여러개의 부모 클래스를 가질 수 있음\n",
    "\n",
    "### 메서드 오버라이딩\n",
    "- 부모 클래스의 메서드를 자식 클래스에서 재정의 "
   ]
  },
  {
   "cell_type": "code",
   "execution_count": 29,
   "id": "c076ca11",
   "metadata": {},
   "outputs": [
    {
     "name": "stdout",
     "output_type": "stream",
     "text": [
      "멍멍!\n",
      "야옹!\n"
     ]
    }
   ],
   "source": [
    "#메서드 오버라이딩\n",
    "class Animal:\n",
    "    def speak(self):\n",
    "        print(\"동물이 소리를 냅니다.\")\n",
    "\n",
    "class Dog(Animal):\n",
    "    def speak(self):\n",
    "        print(\"멍멍!\")\n",
    "\n",
    "class Cat(Animal):\n",
    "    def speak(self):\n",
    "        print(\"야옹!\")\n",
    "\n",
    "# 메서드 오버라이딩을 이용한 다형성 구현\n",
    "animals = [Dog(), Cat()]\n",
    "\n",
    "for animal in animals:\n",
    "    animal.speak() # 각 객체에 따라 다른 동작을 수행\n"
   ]
  },
  {
   "cell_type": "markdown",
   "id": "2da2bf6f",
   "metadata": {},
   "source": [
    "### 추상 클래스\n",
    "- 인스턴스를 생성할 수 없는 클래스, 추상메서드를 하나 이상 포함 하고 있는 것\n",
    "- 하위 클래스에서 추상메서드를 오버라이딩해서 구현해야만 인스턴스 생성 가능\n",
    "- 일정한 형태의 메서드를 구현하도록 강제해서 코드의 가독성이 좋아짐\n",
    "- @abstractmethod 데코레이터를 이용해 추상 메서드 정의"
   ]
  },
  {
   "cell_type": "markdown",
   "id": "cb3c34dc",
   "metadata": {},
   "source": [
    "### 연습문제\n"
   ]
  },
  {
   "cell_type": "code",
   "execution_count": 44,
   "id": "33dee51e",
   "metadata": {},
   "outputs": [
    {
     "name": "stdout",
     "output_type": "stream",
     "text": [
      "홍길동 20230001 2 전자공학 90.5\n",
      "이수호 20230002 3 컴공 78.5\n",
      "짱구 20230003 1 떡잎방범 30.7\n",
      "========================================\n",
      "짱구 20230003 1 떡잎방범 30.7\n",
      "========================================\n",
      "이수호 20230002 3 컴공 78.5\n",
      "짱구 20230003 1 떡잎방범 30.7\n"
     ]
    }
   ],
   "source": [
    "class Student:\n",
    "    def __init__(self, name, student_id, year, major, avg_score):\n",
    "        self.name = name\n",
    "        self.student_id = student_id\n",
    "        self.year = year\n",
    "        self.major = major\n",
    "        self.avg_score = avg_score\n",
    "        \n",
    "    def get_info(self):\n",
    "        info = self.name +\" \"+ self.student_id +\" \"+ str(self.year) +\" \"+ self.major +\" \"+ str(self.avg_score)\n",
    "        return info\n",
    "\n",
    "class StudentManager(Student):\n",
    "    def __init__(self):\n",
    "        self.student_list = []\n",
    "        \n",
    "    def add_student(self, student):\n",
    "        self.student_list.append(student)\n",
    "    \n",
    "    def find_student(self, student_id):\n",
    "        for stu in self.student_list:\n",
    "            if stu.student_id == student_id:\n",
    "                return stu\n",
    "    \n",
    "    def remove_student(self, student_id):\n",
    "        temp = self.find_student(student_id)\n",
    "        self.student_list.remove(temp)\n",
    "    \n",
    "    def show_all_student(self):\n",
    "        for stu in self.student_list:\n",
    "            print(stu.get_info())\n",
    "    \n",
    "    \n",
    "student_manager = StudentManager()\n",
    "student1 = Student(\"홍길동\", \"20230001\", 2, \"전자공학\", 90.5)\n",
    "student2 = Student(\"이수호\", \"20230002\", 3, \"컴공\", 78.5)\n",
    "student3 = Student(\"짱구\", \"20230003\", 1, \"떡잎방범\", 30.7)\n",
    "\n",
    "student_manager.add_student(student1)\n",
    "student_manager.add_student(student2)\n",
    "student_manager.add_student(student3)\n",
    "\n",
    "student_manager.show_all_student()\n",
    "print(\"=\"*40)\n",
    "print(student_manager.find_student(\"20230003\").get_info())\n",
    "print(\"=\"*40)\n",
    "student_manager.remove_student(\"20230001\")\n",
    "student_manager.show_all_student()\n"
   ]
  },
  {
   "cell_type": "code",
   "execution_count": null,
   "id": "bea49da5",
   "metadata": {},
   "outputs": [],
   "source": []
  }
 ],
 "metadata": {
  "kernelspec": {
   "display_name": "Python 3 (ipykernel)",
   "language": "python",
   "name": "python3"
  },
  "language_info": {
   "codemirror_mode": {
    "name": "ipython",
    "version": 3
   },
   "file_extension": ".py",
   "mimetype": "text/x-python",
   "name": "python",
   "nbconvert_exporter": "python",
   "pygments_lexer": "ipython3",
   "version": "3.10.9"
  }
 },
 "nbformat": 4,
 "nbformat_minor": 5
}
