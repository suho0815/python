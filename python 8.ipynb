{
 "cells": [
  {
   "attachments": {},
   "cell_type": "markdown",
   "metadata": {},
   "source": [
    "### 파일 열기\n",
    "open() 함수로 파일 열기 가능, 이름과 모드를 인자값으로 받음\n",
    "\n",
    "- file = open(\"example.txt\", \"r\")\n",
    "\n",
    "\n",
    "- r: 읽기 모드. 파일을 읽기 위해서 사용합니다. 파일이 존재하지 않으면 오류가 발생합니다.\n",
    "- w: 쓰기 모드. 파일을 쓰기 위해서 사용합니다. 파일이 이미 존재하면 덮어쓰고, 존재하지 않으면 새로운 파일을 생성합니다.\n",
    "- a: 추가 모드. 파일의 끝에 내용을 추가하기 위해서 사용합니다. 파일이 이미 존재하면 파일 끝에 내용을 추가하고, 존재하지 않으면 새로운 파일을 생성합니다.\n",
    "- x: 배타적 생성 모드. 새로운 파일을 생성하기 위해서 사용합니다. 파일이 이미 존재하면 오류가 - 발생합니다.\n",
    "- b: 이진 모드. 파일을 바이너리 모드로 엽니다.\n",
    "- t: 텍스트 모드. 파일을 텍스트 모드로 엽니다. 이것이 기본값입니다.\n",
    "- +: 읽기와 쓰기 모두를 지원하는 모드입니다. r+, w+, a+와 같은 형태로 사용됩니다.\n",
    "\n"
   ]
  },
  {
   "attachments": {},
   "cell_type": "markdown",
   "metadata": {},
   "source": [
    "### 파일 읽기(읽기 모드)\n",
    "- read() : 파일 내용 전체 문자열로 읽기\n",
    "- readline(): 파일에서 한 줄을 읽음. 파일 끝에 도달하면 빈 문자열을 반환\n",
    "- readlines(): 파일 전체를 읽고 각 줄을 문자열의 리스트로 반환\n",
    "\n",
    "\n",
    "### 파일 쓰기(쓰기 모드)\n",
    "- write(): 파일에 문자열을 씀\n",
    "- writelines(): 파일에 문자열의 리스트를 씀\n"
   ]
  },
  {
   "cell_type": "code",
   "execution_count": 15,
   "metadata": {},
   "outputs": [
    {
     "name": "stdout",
     "output_type": "stream",
     "text": [
      "Hello, World\n",
      "Hello, World\n",
      "['Hello, World']\n"
     ]
    }
   ],
   "source": [
    "file = open(\"example.txt\", \"w\")\n",
    "file.write(\"Hello, World\")\n",
    "file.close()\n",
    "\n",
    "file1 = open(\"example.txt\", \"r\")\n",
    "# 파일 내용 전체를 읽습니다.\n",
    "content = file1.read()\n",
    "print(content)\n",
    "\n",
    "file2 = open(\"example.txt\", \"r\")\n",
    "# 파일에서 한 줄을 읽습니다.\n",
    "line = file2.readline()\n",
    "print(line)\n",
    "\n",
    "file3 = open(\"example.txt\", \"r\")\n",
    "# 파일 전체를 읽고 각 줄을 리스트로 반환합니다.\n",
    "lines = file3.readlines()\n",
    "print(lines)\n",
    "\n",
    "# 파일을 닫습니다.\n",
    "file1.close()\n",
    "file2.close()\n",
    "file3.close()\n",
    "\n"
   ]
  },
  {
   "cell_type": "code",
   "execution_count": 17,
   "metadata": {},
   "outputs": [
    {
     "name": "stdout",
     "output_type": "stream",
     "text": [
      "Hello, World\n",
      "\n",
      " readline() 함수\n",
      "Hello, World\n",
      "\n",
      " readlines() 함수\n",
      "['Hello, World']\n"
     ]
    }
   ],
   "source": [
    "# with문으로 파일 열기(자동으로 파일 닫아줌)\n",
    "with open(\"example.txt\", \"r\") as file:\n",
    "    content = file.read()\n",
    "    print(content)\n",
    "\n",
    "    file.seek(0)\n",
    "    line = file.readline()\n",
    "    print(f\"\\n readline() 함수\")\n",
    "    print(line)\n",
    "\n",
    "    file.seek(0)\n",
    "    lines = file.readlines()\n",
    "    print(f\"\\n readlines() 함수\")\n",
    "    print(lines)"
   ]
  },
  {
   "attachments": {},
   "cell_type": "markdown",
   "metadata": {},
   "source": [
    "### 정규표현식\n",
    "\n",
    "- 문자열을 처리하는 패턴을 정의하는데 사용되는 형식 언어\n",
    "- 정규표현식은 문자열의 검색(search)과 치환(replace) 작업에 사용됨\n",
    "- 리터럴(literal)과 메타문자로 구성됨\n",
    "\n",
    "##### 정규표현식 메타 문자\n",
    "- . : 줄바꿈 문자(\\n)를 제외한 모든 문자와 매칭됩니다.\n",
    "- ^ : 문자열의 시작과 매칭됩니다.\n",
    "- $ : 문자열의 끝과 매칭됩니다.\n",
    "- '*' : 앞의 문자가 0번 이상 반복되는 패턴과 매칭됩니다.\n",
    "- '+' : 앞의 문자가 1번 이상 반복되는 패턴과 매칭됩니다.\n",
    "- ? : 앞의 문자가 0번 또는 1번 나타나는 패턴과 매칭됩니다.\n",
    "- [] : 대괄호 안에 나열된 문자 중 하나와 매칭됩니다.\n",
    "    - '[a-z]' : 알파벳 소문자 중 하나와 매칭됩니다.\n",
    "    - '[A-Z]' : 알파벳 대문자 중 하나와 매칭됩니다.\n",
    "    - '[0-9]' : 숫자 중 하나와 매칭됩니다.\n",
    "- | : OR 연산자 역할을 하며, 왼쪽 또는 오른쪽 패턴 중 하나와 매칭됩니다.\n",
    "- () : 그룹핑을 위해 사용되며, 매칭 결과에 대한 그룹을 생성합니다.\n",
    "- {} : 중괄호 안에 숫자가 들어가며, 앞의 문자나 패턴이 해당 숫자만큼 나타나는 패턴과 매칭됩니다.\n",
    "- () : 그룹핑을 위해 사용되며, 매칭 결과에 대한 그룹을 생성합니다.\n",
    "- \\ : 이스케이프 문자로 사용되며, 메타문자를 문자 그대로 매칭시키기 위해 사용됩니다.\n",
    "- \\d : 숫자와 매칭됩니다.\n",
    "- \\D : 숫자가 아닌 문자와 매칭됩니다.\n",
    "- \\w : 숫자와 알파벳(대소문자), 언더스코어(_)와 매칭됩니다.\n",
    "- \\W : 숫자와 알파벳(대소문자), 언더스코어(_)가 아닌 문자와 매칭됩니다.\n",
    "- \\s : 공백 문자와 매칭됩니다.\n",
    "- \\S : 공백 문자가 아닌 문자와 매칭됩니다.\n",
    "\n",
    "\n",
    "##### 정규표현식 테스트 사이트 : https://regexr.com/\n"
   ]
  },
  {
   "attachments": {},
   "cell_type": "markdown",
   "metadata": {},
   "source": []
  }
 ],
 "metadata": {
  "kernelspec": {
   "display_name": "Python 3",
   "language": "python",
   "name": "python3"
  },
  "language_info": {
   "codemirror_mode": {
    "name": "ipython",
    "version": 3
   },
   "file_extension": ".py",
   "mimetype": "text/x-python",
   "name": "python",
   "nbconvert_exporter": "python",
   "pygments_lexer": "ipython3",
   "version": "3.11.3"
  },
  "orig_nbformat": 4
 },
 "nbformat": 4,
 "nbformat_minor": 2
}
