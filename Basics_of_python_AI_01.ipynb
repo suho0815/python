{
 "cells": [
  {
   "cell_type": "code",
   "execution_count": 2,
   "id": "a1074858",
   "metadata": {},
   "outputs": [
    {
     "data": {
      "text/plain": [
       "(1, 0, 0)"
      ]
     },
     "execution_count": 2,
     "metadata": {},
     "output_type": "execute_result"
    }
   ],
   "source": [
    "#타입 확인\n",
    "type((1, 0 , 0))"
   ]
  },
  {
   "cell_type": "code",
   "execution_count": 3,
   "id": "8d1f1b85",
   "metadata": {},
   "outputs": [
    {
     "data": {
      "text/plain": [
       "(1, 0, 0)"
      ]
     },
     "execution_count": 3,
     "metadata": {},
     "output_type": "execute_result"
    }
   ],
   "source": [
    "# 숫자에 콤마를 찍으면 튜플이 됨\n",
    "1,000,000"
   ]
  },
  {
   "cell_type": "code",
   "execution_count": null,
   "id": "e2ada865",
   "metadata": {},
   "outputs": [],
   "source": []
  },
  {
   "cell_type": "code",
   "execution_count": 9,
   "id": "7a9d3ff8",
   "metadata": {},
   "outputs": [
    {
     "ename": "SyntaxError",
     "evalue": "invalid decimal literal (3038742468.py, line 9)",
     "output_type": "error",
     "traceback": [
      "\u001b[1;36m  Cell \u001b[1;32mIn[9], line 9\u001b[1;36m\u001b[0m\n\u001b[1;33m    2things = 4\u001b[0m\n\u001b[1;37m    ^\u001b[0m\n\u001b[1;31mSyntaxError\u001b[0m\u001b[1;31m:\u001b[0m invalid decimal literal\n"
     ]
    }
   ],
   "source": [
    "# 변수 규칙\n",
    "# 특수문자 사용x , 언더바 ( _ )는 됨\n",
    "\n",
    "_ = 2\n",
    "_\n",
    "\n",
    "\n",
    "#앞에 숫자가 오는 것은 안됨\n",
    "2things = 4\n",
    "2things\n",
    "\n",
    "a1b2_c3 =1\n",
    "a1b2_c3"
   ]
  },
  {
   "cell_type": "code",
   "execution_count": null,
   "id": "dac418dd",
   "metadata": {},
   "outputs": [],
   "source": [
    "#문자열에서 (+, *)만 가능 -, / 는 안됨\n",
    "'good' + 'bye' # 'goodbye'\n",
    "\n",
    "('a' + 'b') * 3 # 'ababab'\n",
    "\n",
    "'ha' * 3 # 'hahaha'\n",
    "\n",
    "(\"cha~\" * 2) + \"cha\" # 'cha~cha~cha'\n",
    "\n"
   ]
  },
  {
   "cell_type": "code",
   "execution_count": 18,
   "id": "a3aa070f",
   "metadata": {},
   "outputs": [
    {
     "data": {
      "text/plain": [
       "5"
      ]
     },
     "execution_count": 18,
     "metadata": {},
     "output_type": "execute_result"
    }
   ],
   "source": [
    "#String Functions and Method\n",
    "\n",
    "len('stinrg') # 문자수 반환\n",
    "# 6\n",
    "\n",
    "int('23') # int형으로 변환\n",
    "# 23\n",
    "\n",
    "float('23') # float형으로 변환\n",
    "# 23.0\n",
    "\n",
    "x = 5\n",
    "eval('23 + (2 * x)') # 수식의 실행 결과를 반환, 수식을 잘 모를 때 주로 사용함\n",
    "# 33\n",
    "\n",
    "exec('x = 2') # eval과 다르게 문장을 실행 결과는 출력안함\n",
    "# eval은 식(expreesion)만 사용 가능\n",
    "x\n",
    "# 2\n",
    "\n",
    "exec('y = 3')\n",
    "eval('x + y')\n",
    "# 5\n",
    "exec('x + y')\n",
    "\n",
    "z1 = eval('x + y')\n",
    "z1\n",
    "# 5\n",
    "\n",
    "z2 = exec('x + y')\n",
    "z2\n",
    "# 아무것도 저장 안됨\n",
    "\n",
    "exec('z2 = x + y')\n",
    "z2\n",
    "# 5"
   ]
  },
  {
   "cell_type": "code",
   "execution_count": 19,
   "id": "5fc7ee6d",
   "metadata": {},
   "outputs": [
    {
     "data": {
      "text/plain": [
       "'PYTHON'"
      ]
     },
     "execution_count": 19,
     "metadata": {},
     "output_type": "execute_result"
    }
   ],
   "source": [
    "#String Method\n",
    "str1 = \"Python\"\n",
    "str1.upper() # 대문자로 값 반환\n",
    "\n",
    "str1.lower() # 소문자로 값 반환\n",
    "\n",
    "str1.count('th') # 'th'가 몇번 나옴?\n",
    "# 1\n",
    "\n",
    "'coDE'.capitalize() # 첫 문자만 대문자로 해서 반환\n",
    "# Code\n",
    "\n",
    "\"beN hur\".title() # 공백단위로 끊어서 첫 문자만 대문자로\n",
    "# Ben Hur\n",
    "\n",
    "'ab    '.rstrip() # 오른쪽 공백 제거\n",
    "# lstrip() 은 왼쪽 공백 제거\n",
    "# strip() 은 양쪽 공백 제거"
   ]
  },
  {
   "cell_type": "code",
   "execution_count": 20,
   "id": "bbd6254d",
   "metadata": {},
   "outputs": [
    {
     "data": {
      "text/plain": [
       "6"
      ]
     },
     "execution_count": 20,
     "metadata": {},
     "output_type": "execute_result"
    }
   ],
   "source": [
    "str1 = 'Hello World!'\n",
    "str1.find('W') # 'W'의 문자 위치 반환"
   ]
  },
  {
   "cell_type": "code",
   "execution_count": 30,
   "id": "d2cef860",
   "metadata": {},
   "outputs": [
    {
     "name": "stdout",
     "output_type": "stream",
     "text": [
      "My name is  JS hahaha\n",
      "My name is    JS    haha\n",
      "My name is JS             haha\n"
     ]
    }
   ],
   "source": [
    "name = 'JS'\n",
    "print('My name is ', name, 'hahaha')\n",
    "print('My name is {0:^8} {1:}'.format(\"JS\", 'haha') ) # {포맷순서:^칸수} 칸의 중앙에 출력됨.\n",
    "print('My name is {0:<8} {1:>10}'.format(\"JS\", 'haha') ) # JS를 왼쪽에 붙여서 출력 # haha를 오른쪽에 붙여서 출력\n"
   ]
  },
  {
   "cell_type": "code",
   "execution_count": 34,
   "id": "8788730c",
   "metadata": {},
   "outputs": [
    {
     "name": "stdout",
     "output_type": "stream",
     "text": [
      "What is the ~~~~5\n",
      "5\n",
      "What is the ~~~~5\n",
      "5\n"
     ]
    }
   ],
   "source": [
    "prompt = \"What is the ~~~~\"\n",
    "speed = int(input(prompt)) \n",
    "print(speed)\n",
    "\n",
    "# 이거 대신 int나 float 둘다 입력받을 수 있게 하려면?\n",
    "speed = eval(input(prompt))\n",
    "print(speed)"
   ]
  },
  {
   "cell_type": "code",
   "execution_count": 36,
   "id": "67bdbfa2",
   "metadata": {},
   "outputs": [
    {
     "data": {
      "text/plain": [
       "'Park'"
      ]
     },
     "execution_count": 36,
     "metadata": {},
     "output_type": "execute_result"
    }
   ],
   "source": [
    "name = 'JS Park'\n",
    "n = name.rfind(' ')\n",
    "name[:n]\n",
    "\n",
    "name[n+1:]"
   ]
  },
  {
   "cell_type": "code",
   "execution_count": 40,
   "id": "ae85b37d",
   "metadata": {},
   "outputs": [
    {
     "data": {
      "text/plain": [
       "8"
      ]
     },
     "execution_count": 40,
     "metadata": {},
     "output_type": "execute_result"
    }
   ],
   "source": [
    "15 /3\n",
    "# 5.0\n",
    "\n",
    "13 // 3\n",
    "# 4\n",
    "\n",
    "3.5 // 2\n",
    "# 1.0\n",
    "\n",
    "2 << 2 # 왼쪽 쉬프트 연산 2^1 * 2^2\n",
    "# 8\n",
    "\n"
   ]
  },
  {
   "cell_type": "code",
   "execution_count": 41,
   "id": "e49c96b7",
   "metadata": {},
   "outputs": [
    {
     "data": {
      "text/plain": [
       "True"
      ]
     },
     "execution_count": 41,
     "metadata": {},
     "output_type": "execute_result"
    }
   ],
   "source": [
    "5 > 3 < 7 # 5 > 3 and 3 < 7\n",
    "#True\n"
   ]
  },
  {
   "cell_type": "code",
   "execution_count": 42,
   "id": "1b376bb7",
   "metadata": {},
   "outputs": [
    {
     "name": "stdout",
     "output_type": "stream",
     "text": [
      "Enter an integer: 2\n",
      "higher\n",
      "done\n"
     ]
    }
   ],
   "source": [
    "number = 23\n",
    "guess = int(input('Enter an integer: '))\n",
    "\n",
    "if guess == number:\n",
    "    print('Congratulations, you guessed it')\n",
    "elif guess < number:\n",
    "    print('higher')\n",
    "else:\n",
    "    print('lower')\n",
    "    \n",
    "print('done')"
   ]
  },
  {
   "cell_type": "code",
   "execution_count": 2,
   "id": "c319915c",
   "metadata": {},
   "outputs": [
    {
     "name": "stdout",
     "output_type": "stream",
     "text": [
      "Congratulations, you guessed it\n",
      "The while loop is over\n",
      "Done\n"
     ]
    }
   ],
   "source": [
    "number = 23\n",
    "running = True\n",
    "\n",
    "while running:\n",
    "    guess = int(input('Enter an integer: '))\n",
    "    if guess == number:\n",
    "        print('Congratulations, you guessed it')\n",
    "        running = False\n",
    "        break\n",
    "    elif guess < number:\n",
    "        print('higher')\n",
    "    else:\n",
    "        print('lower')\n",
    "else:\n",
    "    print('The while loop is over')\n",
    "\n",
    "print('Done')"
   ]
  },
  {
   "cell_type": "code",
   "execution_count": 5,
   "id": "74e24e30",
   "metadata": {},
   "outputs": [
    {
     "name": "stdout",
     "output_type": "stream",
     "text": [
      "Minimum:  5\n",
      "Maximum:  5\n",
      "Average:  5.0\n",
      "Minimum:  4\n",
      "Maximum:  5\n",
      "Average:  4.5\n",
      "Minimum:  3\n",
      "Maximum:  5\n",
      "Average:  4.0\n",
      "Minimum:  3\n",
      "Maximum:  5\n",
      "Average:  3.75\n",
      "Minimum:  3\n",
      "Maximum:  10\n",
      "Average:  5.0\n",
      "Minimum:  3\n",
      "Maximum:  10\n",
      "Average:  5.833333333333333\n",
      "종료\n"
     ]
    }
   ],
   "source": [
    "count = 0\n",
    "total = 0\n",
    "numList = []\n",
    "while True:\n",
    "    a = int(input('숫자를 입력하셈(종료할꺼면 -1 누르셈):'))    \n",
    "    if a == -1:\n",
    "        print('종료')\n",
    "        break\n",
    "\n",
    "    total += a\n",
    "    count += 1\n",
    "    numList.append(a)\n",
    "    if count > 0:\n",
    "        if count >= 5:\n",
    "            print('count가 {}개 임'.format(count))\n",
    "        print('Minimum: ', min(numList))\n",
    "        print('Maximum: ', max(numList))\n",
    "        print('Average: ', total / count)\n",
    "    else:\n",
    "        print('No nonnegative integers were entered.')\n"
   ]
  },
  {
   "cell_type": "code",
   "execution_count": 13,
   "id": "a81968d6",
   "metadata": {},
   "outputs": [
    {
     "name": "stdout",
     "output_type": "stream",
     "text": [
      "*++++\n",
      "**+++\n",
      "***++\n",
      "****+\n",
      "*****\n"
     ]
    }
   ],
   "source": [
    "numberOfRows = int(input('Enter a number'))\n",
    "\n",
    "for i in range(numberOfRows):\n",
    "    for j in range(i+1):\n",
    "        print('*', end='')\n",
    "    for j in range(numberOfRows-i-1, 0, -1):\n",
    "        print('+', end='')\n",
    "    print()"
   ]
  },
  {
   "cell_type": "code",
   "execution_count": 24,
   "id": "2fc1140f",
   "metadata": {},
   "outputs": [
    {
     "name": "stdout",
     "output_type": "stream",
     "text": [
      "abced\n"
     ]
    }
   ],
   "source": [
    "word = input('Enter a word:')\n",
    "\n",
    "print(word[:-2] + word[-1] + word[-2])\n",
    "\n",
    "# print(word[::-1])\n",
    "\n",
    "# print(''.join(list(reversed(word))))"
   ]
  },
  {
   "cell_type": "code",
   "execution_count": 19,
   "id": "cda33cc4",
   "metadata": {},
   "outputs": [
    {
     "name": "stdout",
     "output_type": "stream",
     "text": [
      "123\n",
      "456\n",
      "abc\n"
     ]
    }
   ],
   "source": [
    "infile = open('textfile.txt', 'r')\n",
    "\n",
    "for i in infile:\n",
    "    # print(i, end='')\n",
    "    print(i.rstrip())\n",
    "infile.close()"
   ]
  },
  {
   "cell_type": "code",
   "execution_count": 25,
   "id": "db458507",
   "metadata": {},
   "outputs": [
    {
     "name": "stdout",
     "output_type": "stream",
     "text": [
      "What you don't owe won't hurt you.\n"
     ]
    }
   ],
   "source": [
    "# Enter a sentence: What you don't know won't hurt you.\n",
    "# Enter word to replace: know\n",
    "# Enter replacement word: owe\n",
    "# What you don't owe won't hurt you.\n",
    "\n",
    "a = input(\"Enter a sentence:\")\n",
    "repla = input(\"Enter word to replace:\")\n",
    "change = input(\"Enter replacement word:\")\n",
    "a = a.replace(repla, change)\n",
    "print(a)"
   ]
  },
  {
   "cell_type": "code",
   "execution_count": 35,
   "id": "a49fe16c",
   "metadata": {},
   "outputs": [
    {
     "name": "stdout",
     "output_type": "stream",
     "text": [
      "Present value: $7,903.15\n"
     ]
    }
   ],
   "source": [
    "# Enter future value: 10000\n",
    "# Enter interest rate (as %): 4\n",
    "# Enter number of years: 6\n",
    "# Present value: $7,903.15\n",
    "\n",
    "v = eval(input('Enter future value:'))\n",
    "rate = eval(input('Enter interest rate (as %):'))\n",
    "year = eval(input('Enter number of years:'))\n",
    "result = v/((1 + (rate / 100))**year) \n",
    "print(f'Present value: ${result:,.2f}')"
   ]
  },
  {
   "cell_type": "code",
   "execution_count": 39,
   "id": "8da824e1",
   "metadata": {},
   "outputs": [
    {
     "name": "stdout",
     "output_type": "stream",
     "text": [
      "[1, [10, 20]]\n",
      "[1, 10, 20]\n"
     ]
    }
   ],
   "source": [
    "num1 = [1]\n",
    "num2 = [1]\n",
    "num1.append([10, 20])\n",
    "num2.extend([10, 20])\n",
    "\n",
    "print(num1)\n",
    "print(num2)"
   ]
  },
  {
   "cell_type": "code",
   "execution_count": 41,
   "id": "5bb2c570",
   "metadata": {},
   "outputs": [
    {
     "name": "stdout",
     "output_type": "stream",
     "text": [
      "(1, 2, 3)\n",
      "1 2 3\n"
     ]
    }
   ],
   "source": [
    "def tmp():\n",
    "    return 1,2,3\n",
    "\n",
    "r1 = tmp()\n",
    "v1,v2,v3 = tmp()\n",
    "print(r1)\n",
    "print(v1,v2,v3)"
   ]
  },
  {
   "cell_type": "code",
   "execution_count": 45,
   "id": "1cf4ae3d",
   "metadata": {},
   "outputs": [
    {
     "name": "stdout",
     "output_type": "stream",
     "text": [
      "('aa', 1)\n",
      "1\n",
      "cc\n",
      "('9', 12)\n"
     ]
    }
   ],
   "source": [
    "regions = [('aa', 1), ('bb', 2), ('cc',3), ('bb',4)]\n",
    "print(regions[0])\n",
    "print(regions[0][1])\n",
    "print(regions[2][0])\n",
    "\n",
    "def sum_array(array):\n",
    "    v1=0\n",
    "    v2=0\n",
    "    for e in array:\n",
    "        v1 += int(e[0])\n",
    "        v2 += e[1]\n",
    "    return (str(v1), v2)\n",
    "\n",
    "array =[('1', 2), ('3',4), ('5',6)]\n",
    "print(sum_array(array))"
   ]
  },
  {
   "cell_type": "code",
   "execution_count": 48,
   "id": "cdbe2238",
   "metadata": {},
   "outputs": [
    {
     "name": "stdout",
     "output_type": "stream",
     "text": [
      "['mango', 'game', 'car']\n",
      "['mango', 'game', 'car']\n",
      "['apple', 'mango', 'game', 'car']\n",
      "2313253399232\n",
      "2313253399232\n",
      "2313253141568\n"
     ]
    }
   ],
   "source": [
    "shopList = ['apple', 'mango', 'game', 'car']\n",
    "myList = shopList\n",
    "copiedList = shopList[:]\n",
    "\n",
    "del myList[0]\n",
    "\n",
    "print(shopList)\n",
    "print(myList)\n",
    "print(copiedList)\n",
    "\n",
    "# 주소 출력\n",
    "print(id(shopList)) \n",
    "print(id(myList))\n",
    "print(id(copiedList))"
   ]
  },
  {
   "cell_type": "code",
   "execution_count": 22,
   "id": "a5af50d1",
   "metadata": {},
   "outputs": [
    {
     "name": "stdout",
     "output_type": "stream",
     "text": [
      "Number of bounces:  13\n",
      "Meters traveled: 44.82\n"
     ]
    }
   ],
   "source": [
    "# p120 Exercises 3.3 Bouncing Ball\n",
    "\n",
    "restitution = float(input('Enter coefficient of restitution: '))\n",
    "height = float(input('Enter initial height in meters: '))\n",
    "bounces = 1\n",
    "totalmeter = height\n",
    "\n",
    "while height * restitution > 0.1:\n",
    "    meter = height * restitution *2.0\n",
    "    totalmeter += meter\n",
    "    bounces += 1\n",
    "    height *= restitution\n",
    "    \n",
    "    \n",
    "\n",
    "print('Number of bounces: ', bounces)\n",
    "print('Meters traveled: {:.2f}'.format(totalmeter))\n",
    "\n",
    "#Number of bounces: 13\n",
    "#Meters traveled: 44.82\n"
   ]
  },
  {
   "cell_type": "code",
   "execution_count": 28,
   "id": "d30f14a8",
   "metadata": {},
   "outputs": [
    {
     "name": "stdout",
     "output_type": "stream",
     "text": [
      "The sum of the digits in the numbers\n",
      "from 1 to one million is 27,000,001.\n",
      "time :  0.8110573291778564\n"
     ]
    }
   ],
   "source": [
    "# Exercises 3.4\n",
    "import time\n",
    "total = 0\n",
    "\n",
    "t0 = time.time()\n",
    "for i in range(1, 1000001):\n",
    "\n",
    "    while i > 0:\n",
    "        num = i % 10\n",
    "        total += num\n",
    "        i //= 10\n",
    "\n",
    "t1 = time.time()\n",
    "\n",
    "print('The sum of the digits in the numbers')\n",
    "print('from 1 to one million is {:,}.'.format(total))\n",
    "\n",
    "print('time : ', t1-t0)\n"
   ]
  },
  {
   "cell_type": "code",
   "execution_count": 29,
   "id": "cb9b602b",
   "metadata": {},
   "outputs": [
    {
     "name": "stdout",
     "output_type": "stream",
     "text": [
      "['blue', 'red', 'white']\n",
      "['white', 'red', 'blue']\n",
      "['red', 'blue', 'white']\n",
      "['white', 'blue', 'red']\n",
      "['a', 'm', 'p', 's']\n"
     ]
    }
   ],
   "source": [
    "list1 = ['white', 'blue', 'red']\n",
    "list2 = sorted(list1)\n",
    "print(list2)\n",
    "print(sorted(list1, reverse=True))\n",
    "print(sorted(list1, key=len))\n",
    "print(list1)\n",
    "print(sorted('spam'))"
   ]
  },
  {
   "cell_type": "code",
   "execution_count": 31,
   "id": "f168cec4",
   "metadata": {},
   "outputs": [
    {
     "name": "stdout",
     "output_type": "stream",
     "text": [
      "[4, 25, 36, 49]\n",
      "[25, 49]\n"
     ]
    }
   ],
   "source": [
    "list1 = ['2', '5', '6', '7']\n",
    "[int(x) for x in list1]\n",
    "def g(x):\n",
    "    return (int(x) **2)\n",
    "\n",
    "print([g(x) for x in list1])\n",
    "print([g(x) for x in list1 if int(x) % 2 == 1])"
   ]
  },
  {
   "cell_type": "code",
   "execution_count": 2,
   "id": "9725d7fa",
   "metadata": {},
   "outputs": [
    {
     "name": "stdout",
     "output_type": "stream",
     "text": [
      "John Backus, James Gosling, Alan Kay, Dennis Ritchie\n"
     ]
    }
   ],
   "source": [
    "#Lambda Expression\n",
    "names = [\"Dennis Ritchie\", \"Alan Kay\", \"John Backus\", \"James Gosling\"]\n",
    "names.sort(key=lambda name: name.split() [-1])\n",
    "nameString = \", \".join(names)\n",
    "print(nameString)\n"
   ]
  },
  {
   "cell_type": "code",
   "execution_count": 7,
   "id": "27ad07f9",
   "metadata": {},
   "outputs": [
    {
     "data": {
      "text/plain": [
       "2"
      ]
     },
     "execution_count": 7,
     "metadata": {},
     "output_type": "execute_result"
    }
   ],
   "source": [
    "#Count Function\n",
    "\n",
    "def countFunction(st, findst):\n",
    "    s = 0\n",
    "    ls = len(findst)\n",
    "    cnt = 0\n",
    "    for i in range(len(st)):\n",
    "        if st[s:ls] == findst:\n",
    "            cnt += 1\n",
    "        s += 1\n",
    "        ls += 1\n",
    "    return cnt\n",
    "\n",
    "st = input('Enter a string: ')\n",
    "findst = input('Enter a substring: ')\n",
    "countFunction(st, findst)\n"
   ]
  },
  {
   "cell_type": "code",
   "execution_count": 15,
   "id": "134b9457",
   "metadata": {},
   "outputs": [
    {
     "name": "stdout",
     "output_type": "stream",
     "text": [
      "New salary for John Doe: $50,160.0\n"
     ]
    }
   ],
   "source": [
    "#Pay Raise\n",
    "\n",
    "def payraise(salary):\n",
    "    if salary < 40000:\n",
    "        salary = salary * 1.05\n",
    "    else:\n",
    "        salary = salary + (salary - 40000) * 0.02 + 2000\n",
    "    return salary\n",
    "\n",
    "firstname = input('Enter first name: ')\n",
    "lastname = input('Enter last name: ')\n",
    "salary = int(input('Enter current salary: '))\n",
    "salary = payraise(salary)\n",
    "print(\"New salary for {} {}: ${:,}\".format(firstname, lastname, salary))"
   ]
  },
  {
   "cell_type": "code",
   "execution_count": 16,
   "id": "754d9c29",
   "metadata": {},
   "outputs": [
    {
     "name": "stdout",
     "output_type": "stream",
     "text": [
      "George Washington\n",
      "John Adams\n",
      "Thomas Jefferson\n"
     ]
    }
   ],
   "source": [
    "# File Access\n",
    "\n",
    "def displayWithLoop(file):\n",
    "    infile = open(file, 'r')\n",
    "    for line in infile:\n",
    "        print(line.rstrip())\n",
    "    infile.close()\n",
    "\n",
    "displayWithLoop('./AIP_05_Data Processing and File Access_data/FirstPresidents.txt')"
   ]
  },
  {
   "cell_type": "code",
   "execution_count": 18,
   "id": "9bf4cf56",
   "metadata": {},
   "outputs": [
    {
     "ename": "FileNotFoundError",
     "evalue": "[Errno 2] No such file or directory: 'FirstPresidents2.txtw'",
     "output_type": "error",
     "traceback": [
      "\u001b[1;31m---------------------------------------------------------------------------\u001b[0m",
      "\u001b[1;31mFileNotFoundError\u001b[0m                         Traceback (most recent call last)",
      "Cell \u001b[1;32mIn[18], line 19\u001b[0m\n\u001b[0;32m     16\u001b[0m     outfile\u001b[39m.\u001b[39mwritelines(L)\n\u001b[0;32m     17\u001b[0m     outfile\u001b[39m.\u001b[39mclose()\n\u001b[1;32m---> 19\u001b[0m main()\n",
      "Cell \u001b[1;32mIn[18], line 3\u001b[0m, in \u001b[0;36mmain\u001b[1;34m()\u001b[0m\n\u001b[0;32m      1\u001b[0m \u001b[39mdef\u001b[39;00m \u001b[39mmain\u001b[39m():\n\u001b[0;32m      2\u001b[0m     L \u001b[39m=\u001b[39m [\u001b[39m\"\u001b[39m\u001b[39mGeorge Washington\u001b[39m\u001b[39m\"\u001b[39m, \u001b[39m\"\u001b[39m\u001b[39mJohn Adams\u001b[39m\u001b[39m\"\u001b[39m, \u001b[39m\"\u001b[39m\u001b[39mThomas Jefferson\u001b[39m\u001b[39m\"\u001b[39m]\n\u001b[1;32m----> 3\u001b[0m     outfile \u001b[39m=\u001b[39m \u001b[39mopen\u001b[39;49m(\u001b[39m\"\u001b[39;49m\u001b[39mFirstPresidents2.txt\u001b[39;49m\u001b[39m\"\u001b[39;49m \u001b[39m'\u001b[39;49m\u001b[39mw\u001b[39;49m\u001b[39m'\u001b[39;49m)\n\u001b[0;32m      4\u001b[0m     createWithWrite(L, outfile)\n\u001b[0;32m      5\u001b[0m     outfile \u001b[39m=\u001b[39m \u001b[39mopen\u001b[39m(\u001b[39m\"\u001b[39m\u001b[39mFirstPresidents3.txt\u001b[39m\u001b[39m\"\u001b[39m, \u001b[39m'\u001b[39m\u001b[39mw\u001b[39m\u001b[39m'\u001b[39m)\n",
      "File \u001b[1;32m~\\AppData\\Roaming\\Python\\Python311\\site-packages\\IPython\\core\\interactiveshell.py:284\u001b[0m, in \u001b[0;36m_modified_open\u001b[1;34m(file, *args, **kwargs)\u001b[0m\n\u001b[0;32m    277\u001b[0m \u001b[39mif\u001b[39;00m file \u001b[39min\u001b[39;00m {\u001b[39m0\u001b[39m, \u001b[39m1\u001b[39m, \u001b[39m2\u001b[39m}:\n\u001b[0;32m    278\u001b[0m     \u001b[39mraise\u001b[39;00m \u001b[39mValueError\u001b[39;00m(\n\u001b[0;32m    279\u001b[0m         \u001b[39mf\u001b[39m\u001b[39m\"\u001b[39m\u001b[39mIPython won\u001b[39m\u001b[39m'\u001b[39m\u001b[39mt let you open fd=\u001b[39m\u001b[39m{\u001b[39;00mfile\u001b[39m}\u001b[39;00m\u001b[39m by default \u001b[39m\u001b[39m\"\u001b[39m\n\u001b[0;32m    280\u001b[0m         \u001b[39m\"\u001b[39m\u001b[39mas it is likely to crash IPython. If you know what you are doing, \u001b[39m\u001b[39m\"\u001b[39m\n\u001b[0;32m    281\u001b[0m         \u001b[39m\"\u001b[39m\u001b[39myou can use builtins\u001b[39m\u001b[39m'\u001b[39m\u001b[39m open.\u001b[39m\u001b[39m\"\u001b[39m\n\u001b[0;32m    282\u001b[0m     )\n\u001b[1;32m--> 284\u001b[0m \u001b[39mreturn\u001b[39;00m io_open(file, \u001b[39m*\u001b[39;49margs, \u001b[39m*\u001b[39;49m\u001b[39m*\u001b[39;49mkwargs)\n",
      "\u001b[1;31mFileNotFoundError\u001b[0m: [Errno 2] No such file or directory: 'FirstPresidents2.txtw'"
     ]
    }
   ],
   "source": [
    "def main():\n",
    "    L = [\"George Washington\", \"John Adams\", \"Thomas Jefferson\"]\n",
    "    outfile = open(\"FirstPresidents2.txt\" 'w')\n",
    "    createWithWrite(L, outfile)\n",
    "    outfile = open(\"FirstPresidents3.txt\", 'w')\n",
    "    createWithWritelines(L, outfile)\n",
    "\n",
    "def createWithWrite(L, outfile):\n",
    "    for i in range(len(L)):\n",
    "        outfile.write(L[i] + \"\\n\")\n",
    "    outfile.close()\n",
    "\n",
    "def createWithWritelines(L, outfile):\n",
    "    for i in range(len(L)):\n",
    "        L[i] = L[i]+ \"\\n\"\n",
    "    outfile.writelines(L)\n",
    "    outfile.close()\n",
    "\n",
    "main()"
   ]
  },
  {
   "cell_type": "code",
   "execution_count": 29,
   "id": "0b815d76",
   "metadata": {},
   "outputs": [
    {
     "name": "stdout",
     "output_type": "stream",
     "text": [
      "<class 'set'>\n",
      "{'brazil', 'india'}\n",
      "{'china', 'brazil', 'india', 'russia'}\n",
      "True\n",
      "{'brazil', 'india'}\n",
      "{'china', 'russia'}\n",
      "{'brazil', 'russia', 'india', 'china'}\n"
     ]
    }
   ],
   "source": [
    "# Set\n",
    "bri = {'brazil', 'russia', 'india'}\n",
    "'india' in bri\n",
    "'USA' in bri\n",
    "bric = bri.copy()\n",
    "bric.add('china')\n",
    "print(type(bric))\n",
    "bri.remove('russia')\n",
    "print(bri)\n",
    "print(bric)\n",
    "print(bric.issuperset(bri)) # 교집합\n",
    "print(bri & bric)\n",
    "print(bric.difference(bri)) # 서로 다른 것 (차집합)\n",
    "print(bric.union(bri)) "
   ]
  },
  {
   "cell_type": "code",
   "execution_count": 34,
   "id": "1c0e6308",
   "metadata": {},
   "outputs": [
    {
     "name": "stdout",
     "output_type": "stream",
     "text": [
      "Park: 12345\n",
      "Kim: 234234\n",
      "Lee: 2392349\n",
      "Park\n",
      "Kim\n",
      "Lee\n",
      "(0, ('Park', 12345))\n",
      "(1, ('Kim', 234234))\n",
      "(2, ('Lee', 2392349))\n"
     ]
    }
   ],
   "source": [
    "d = {\n",
    "    'Park': 12345,\n",
    "    'Kim': 234234,\n",
    "    'Lee': 2392349\n",
    "}\n",
    "\n",
    "for key, value in d.items(): # d.items() 는 튜플로 나옴\n",
    "    print('{}: {}'.format(key, value))\n",
    "\n",
    "for v in d: # 딕셔너리에 그냥 for문 돌리면 key만 나옴\n",
    "    print(v)\n",
    "\n",
    "# enumerate : 열거하다\n",
    "for v in enumerate(d.items()): # 튜플로 나옴 \n",
    "    print(v)\n",
    "\n"
   ]
  },
  {
   "cell_type": "code",
   "execution_count": null,
   "id": "72044775",
   "metadata": {},
   "outputs": [],
   "source": [
    "def main():\n",
    "    print('Enter the group')\n",
    "    group = input('(child, minor, adult, or senior): ')\n",
    "\n",
    "    print('Admission fee is : ', determineAdmissionFee(group))\n",
    "\n",
    "def determineAdmissionFee(group):\n",
    "    d = {\n",
    "    'child': 0,\n",
    "    'minor': 5,\n",
    "    'adult': 10,\n",
    "    'senior': 8,\n",
    "    'alien': 100\n",
    "    }\n",
    "    return d[group]\n",
    "\n",
    "main()"
   ]
  },
  {
   "cell_type": "code",
   "execution_count": 2,
   "id": "049a070c",
   "metadata": {},
   "outputs": [
    {
     "name": "stdout",
     "output_type": "stream",
     "text": [
      "The Gettysburg Address contains 268 words\n",
      "The Gettysburg Address contains 139 different words\n",
      "\n",
      "The most common words and their frequencies are:\n",
      "     that: 13\n",
      "     the: 11\n",
      "     we: 10\n",
      "     to: 8\n",
      "     here: 8\n",
      "     a: 7\n",
      "     and: 6\n"
     ]
    }
   ],
   "source": [
    "def main():\n",
    "    listOfWords = formListOfWords('AIP_05_Data Processing and File Access_data/Gettysburg.txt')\n",
    "    freq = createFrequencyDictionary(listOfWords)\n",
    "    displayWordCount(listOfWords, freq)\n",
    "    displayMostCommonWords(freq)\n",
    "\n",
    "\n",
    "def formListOfWords(fileName):\n",
    "    infile =  open(fileName)\n",
    "    originalLine = infile.readline().lower()\n",
    "    line = \"\"\n",
    "    for ch in originalLine:\n",
    "        if('a' <= ch <= 'z') or (ch == \" \"):\n",
    "            line += ch\n",
    "    listOfWords = line.split()\n",
    "    return listOfWords\n",
    "\n",
    "def createFrequencyDictionary(listOfWords) :\n",
    "    freq = {}\n",
    "    # for word in listOfWords:\n",
    "    #     freq[word] = 0\n",
    "    for word in listOfWords:\n",
    "        freq[word] = freq.get(word, 0) + 1\n",
    "        # freq[word] = freq[word] +1\n",
    "    return freq\n",
    "    \n",
    "def displayWordCount(listOfWords, freq):\n",
    "    print(\"The Gettysburg Address contains\", len(listOfWords), \"words\")\n",
    "    print(\"The Gettysburg Address contains\", len(freq), \"different words\")\n",
    "    print()\n",
    "\n",
    "def displayMostCommonWords(freq):\n",
    "    print(\"The most common words and their frequencies are:\")\n",
    "    # listOfMostCommonWord = []\n",
    "    # for word in freq.keys():\n",
    "    #     if freq[word] >= 6:\n",
    "    #         listOfMostCommonWord.append((word, freq[word]))\n",
    "    listOfMostCommonWord = \\\n",
    "    [(word, freq[word]) for word in freq if freq[word] >= 6]\n",
    "    listOfMostCommonWord.sort(key=lambda x: x[1], reverse=True)\n",
    "    for item in listOfMostCommonWord:\n",
    "        print(\"    \", item[0] + ':', item[1])\n",
    "\n",
    "main()"
   ]
  },
  {
   "cell_type": "code",
   "execution_count": 4,
   "id": "43ef2b30",
   "metadata": {},
   "outputs": [
    {
     "data": {
      "text/plain": [
       "{'Peru': {'popl': 30.1, 'cont': 'South America', 'area': 496226},\n",
       " 'Czech Republic': {'popl': 10.6, 'cont': 'Europe', 'area': 30450},\n",
       " 'Panama': {'popl': 3.6, 'cont': 'North America', 'area': 29157},\n",
       " 'Namibia': {'popl': 2.2, 'cont': 'Africa', 'area': 318696},\n",
       " 'Qatar': {'popl': 2.1, 'cont': 'Asia', 'area': 4416},\n",
       " 'Slovenia': {'popl': 2.0, 'cont': 'Europe', 'area': 7827},\n",
       " 'France': {'popl': 66.3, 'cont': 'Europe', 'area': 211209},\n",
       " 'Fiji': {'popl': 0.9, 'cont': 'Australia/Oceania', 'area': 7056},\n",
       " 'Azerbaijan': {'popl': 9.7, 'cont': 'Asia', 'area': 33436},\n",
       " 'Sweden': {'popl': 9.7, 'cont': 'Europe', 'area': 173732},\n",
       " 'Jordan': {'popl': 7.9, 'cont': 'Asia', 'area': 45495},\n",
       " 'Paraguay': {'popl': 6.7, 'cont': 'South America', 'area': 157048},\n",
       " 'Algeria': {'popl': 38.3, 'cont': 'Africa', 'area': 919595},\n",
       " 'United Republic of Tanzania': {'popl': 50.0,\n",
       "  'cont': 'Africa',\n",
       "  'area': 364898},\n",
       " 'Sudan': {'popl': 35.5, 'cont': 'Africa', 'area': 967495},\n",
       " 'Argentina': {'popl': 44.0, 'cont': 'South America', 'area': 1068302},\n",
       " 'Mauritania': {'popl': 3.5, 'cont': 'Africa', 'area': 397954},\n",
       " 'Vietnam': {'popl': 93.4, 'cont': 'Asia', 'area': 128527},\n",
       " 'Kuwait': {'popl': 2.7, 'cont': 'Asia', 'area': 6880},\n",
       " 'Papua New Guinea': {'popl': 6.6,\n",
       "  'cont': 'Australia/Oceania',\n",
       "  'area': 178703},\n",
       " 'Nicaragua': {'popl': 6.1, 'cont': 'North America', 'area': 50193},\n",
       " 'Comoros': {'popl': 0.77, 'cont': 'Africa', 'area': 863},\n",
       " 'Jamaica': {'popl': 2.9, 'cont': 'North America', 'area': 4444},\n",
       " 'Palau': {'popl': 0.021, 'cont': 'Australia/Oceania', 'area': 177},\n",
       " 'Norway': {'popl': 5.1, 'cont': 'Europe', 'area': 148746},\n",
       " 'Australia': {'popl': 22.5, 'cont': 'Australia/Oceania', 'area': 2967909},\n",
       " 'Brazil': {'popl': 202.7, 'cont': 'South America', 'area': 3287597},\n",
       " 'Cambodia': {'popl': 15.5, 'cont': 'Asia', 'area': 69898},\n",
       " 'Senegal': {'popl': 13.6, 'cont': 'Africa', 'area': 76000},\n",
       " 'Honduras': {'popl': 8.6, 'cont': 'North America', 'area': 43278},\n",
       " 'Morocco': {'popl': 33.0, 'cont': 'Africa', 'area': 172414},\n",
       " 'Maldives': {'popl': 0.39, 'cont': 'Asia', 'area': 115},\n",
       " 'Togo': {'popl': 7.4, 'cont': 'Africa', 'area': 21925},\n",
       " 'Bolivia': {'popl': 10.6, 'cont': 'South America', 'area': 424163},\n",
       " 'Syrian Arab Republic': {'popl': 18.0, 'cont': 'Asia', 'area': 71479},\n",
       " 'Eritrea': {'popl': 6.3, 'cont': 'Africa', 'area': 45405},\n",
       " 'Swaziland': {'popl': 1.4, 'cont': 'Africa', 'area': 6704},\n",
       " 'Djibouti': {'popl': 0.81, 'cont': 'Africa', 'area': 8958},\n",
       " 'Russian Federation': {'popl': 142.5, 'cont': 'Europe', 'area': 6592800},\n",
       " 'South Africa': {'popl': 48.4, 'cont': 'Africa', 'area': 471443},\n",
       " 'Spain': {'popl': 47.7, 'cont': 'Europe', 'area': 195364},\n",
       " 'Saint Kitts and Nevis': {'popl': 0.052,\n",
       "  'cont': 'North America',\n",
       "  'area': 101},\n",
       " 'Romania': {'popl': 21.7, 'cont': 'Europe', 'area': 92043},\n",
       " 'Chile': {'popl': 17.4, 'cont': 'South America', 'area': 292183},\n",
       " 'Albania': {'popl': 3.0, 'cont': 'Europe', 'area': 11100},\n",
       " 'Croatia': {'popl': 4.5, 'cont': 'Europe', 'area': 21831},\n",
       " 'Republic of the Congo': {'popl': 4.7, 'cont': 'Africa', 'area': 132047},\n",
       " 'Belize': {'popl': 0.34, 'cont': 'North America', 'area': 8867},\n",
       " 'Micronesia': {'popl': 0.11, 'cont': 'Australia/Oceania', 'area': 271},\n",
       " 'Somalia': {'popl': 10.4, 'cont': 'Africa', 'area': 246201},\n",
       " 'Finland': {'popl': 5.3, 'cont': 'Europe', 'area': 130596},\n",
       " 'Kiribati': {'popl': 0.1, 'cont': 'Australia/Oceania', 'area': 280},\n",
       " 'Dominican Republic': {'popl': 10.4, 'cont': 'North America', 'area': 18704},\n",
       " 'Cape Verde': {'popl': 0.54, 'cont': 'Africa', 'area': 1557},\n",
       " 'Madagascar': {'popl': 23.2, 'cont': 'Africa', 'area': 226597},\n",
       " 'Andorra': {'popl': 0.085, 'cont': 'Europe', 'area': 181},\n",
       " 'Saint Vincent and the Grenadines': {'popl': 0.1,\n",
       "  'cont': 'North America',\n",
       "  'area': 150},\n",
       " 'Benin': {'popl': 10.2, 'cont': 'Africa', 'area': 43484},\n",
       " 'Tajikistan': {'popl': 8.1, 'cont': 'Asia', 'area': 55251},\n",
       " 'Samoa': {'popl': 0.2, 'cont': 'Australia/Oceania', 'area': 1093},\n",
       " 'Greece': {'popl': 11.8, 'cont': 'Europe', 'area': 50944},\n",
       " 'Gabon': {'popl': 1.7, 'cont': 'Africa', 'area': 103347},\n",
       " 'The former Yugoslav Republic of Macedonia': {'popl': 2.1,\n",
       "  'cont': 'Europe',\n",
       "  'area': 205},\n",
       " 'Luxembourg': {'popl': 0.52, 'cont': 'Europe', 'area': 998},\n",
       " 'Lebanon': {'popl': 5.9, 'cont': 'Asia', 'area': 4035},\n",
       " 'Philippines': {'popl': 107.7, 'cont': 'Asia', 'area': 115831},\n",
       " 'Venezuela': {'popl': 28.9, 'cont': 'South America', 'area': 353841},\n",
       " 'Armenia': {'popl': 3.1, 'cont': 'Asia', 'area': 11506},\n",
       " \"Lao People's Democratic Republic\": {'popl': 6.8,\n",
       "  'cont': 'Asia',\n",
       "  'area': 91429},\n",
       " 'Netherlands': {'popl': 16.59, 'cont': 'Europe', 'area': 16033},\n",
       " 'Liberia': {'popl': 4.1, 'cont': 'Africa', 'area': 43000},\n",
       " 'Suriname': {'popl': 0.57, 'cont': 'South America', 'area': 63251},\n",
       " 'Italy': {'popl': 61.7, 'cont': 'Europe', 'area': 116346},\n",
       " 'Mauritius': {'popl': 1.3, 'cont': 'Africa', 'area': 787},\n",
       " 'Tuvalu': {'popl': 0.011, 'cont': 'Australia/Oceania', 'area': 10},\n",
       " 'El Salvador': {'popl': 6.2, 'cont': 'North America', 'area': 8124},\n",
       " 'Vanuatu': {'popl': 0.27, 'cont': 'Australia/Oceania', 'area': 4706},\n",
       " 'Bhutan': {'popl': 0.73, 'cont': 'Asia', 'area': 14824},\n",
       " 'Ukraine': {'popl': 44.3, 'cont': 'Europe', 'area': 233090},\n",
       " 'Ecuador': {'popl': 14.0, 'cont': 'South America', 'area': 98985},\n",
       " 'Singapore': {'popl': 5.6, 'cont': 'Asia', 'area': 274.2},\n",
       " 'Timor-Leste': {'popl': 1.2, 'cont': 'Asia', 'area': 5743},\n",
       " 'Tonga': {'popl': 0.11, 'cont': 'Australia/Oceania', 'area': 289},\n",
       " 'Democratic Republic of the Congo': {'popl': 77.4,\n",
       "  'cont': 'Africa',\n",
       "  'area': 905355},\n",
       " 'Ireland': {'popl': 4.8, 'cont': 'Europe', 'area': 31520},\n",
       " 'Zambia': {'popl': 14.7, 'cont': 'Africa', 'area': 290587},\n",
       " 'Yemen': {'popl': 26.1, 'cont': 'Asia', 'area': 203849},\n",
       " 'China': {'popl': 1355.7, 'cont': 'Asia', 'area': 3696100},\n",
       " 'Malawi': {'popl': 17.4, 'cont': 'Africa', 'area': 45747},\n",
       " 'Egypt': {'popl': 86.9, 'cont': 'Africa', 'area': 387048},\n",
       " 'Mexico': {'popl': 120.3, 'cont': 'North America', 'area': 761606},\n",
       " 'Cameroon': {'popl': 23.1, 'cont': 'Africa', 'area': 183568},\n",
       " 'Turkmenistan': {'popl': 5.1, 'cont': 'Asia', 'area': 188456},\n",
       " 'Mozambique': {'popl': 24.7, 'cont': 'Africa', 'area': 309496},\n",
       " 'Barbados': {'popl': 0.29, 'cont': 'North America', 'area': 167},\n",
       " 'Niger': {'popl': 17.5, 'cont': 'Africa', 'area': 489678},\n",
       " 'Ghana': {'popl': 25.8, 'cont': 'Africa', 'area': 92098},\n",
       " 'Colombia': {'popl': 46.2, 'cont': 'South America', 'area': 440839},\n",
       " 'Myanmar': {'popl': 55.7, 'cont': 'Asia', 'area': 261227},\n",
       " 'Kyrgyzstan': {'popl': 5.6, 'cont': 'Asia', 'area': 77181},\n",
       " 'Thailand': {'popl': 67.7, 'cont': 'Asia', 'area': 198115},\n",
       " 'Monaco': {'popl': 0.031, 'cont': 'Europe', 'area': 0.76},\n",
       " 'Haiti': {'popl': 10.2, 'cont': 'North America', 'area': 10714},\n",
       " 'Nepal': {'popl': 31.0, 'cont': 'Asia', 'area': 56827},\n",
       " 'Malaysia': {'popl': 30.1, 'cont': 'Asia', 'area': 127355},\n",
       " 'Malta': {'popl': 0.41, 'cont': 'Europe', 'area': 121},\n",
       " 'Bulgaria': {'popl': 6.9, 'cont': 'Europe', 'area': 42823},\n",
       " 'Seychelles': {'popl': 0.092, 'cont': 'Africa', 'area': 174},\n",
       " 'Lesotho': {'popl': 1.9, 'cont': 'Africa', 'area': 12727},\n",
       " 'Poland': {'popl': 38.3, 'cont': 'Europe', 'area': 120726},\n",
       " 'Trinidad and Tobago': {'popl': 1.2, 'cont': 'North America', 'area': 1978},\n",
       " 'Portugal': {'popl': 10.9, 'cont': 'Europe', 'area': 35645},\n",
       " 'Bosnia and Herzegovina': {'popl': 3.9, 'cont': 'Europe', 'area': 19767},\n",
       " 'Rwanda': {'popl': 12.3, 'cont': 'Africa', 'area': 10169},\n",
       " 'Gambia': {'popl': 1.9, 'cont': 'Africa', 'area': 4007},\n",
       " 'Montenegro': {'popl': 0.65, 'cont': 'Europe', 'area': 5019},\n",
       " 'Equatorial Guinea': {'popl': 0.72, 'cont': 'Africa', 'area': 10828},\n",
       " 'Saudi Arabia': {'popl': 27.3, 'cont': 'Asia', 'area': 829996},\n",
       " 'Grenada': {'popl': 0.11, 'cont': 'North America', 'area': 132},\n",
       " 'Serbia': {'popl': 7.2, 'cont': 'Europe', 'area': 34116},\n",
       " 'Bangladesh': {'popl': 166.3, 'cont': 'Asia', 'area': 55599},\n",
       " 'Libyan Arab Jamahiriya': {'popl': 6.2, 'cont': 'Africa', 'area': 679359},\n",
       " 'Chad': {'popl': 11.4, 'cont': 'Africa', 'area': 495753},\n",
       " 'Central African Republic': {'popl': 5.3, 'cont': 'Africa', 'area': 240534},\n",
       " 'Uganda': {'popl': 35.9, 'cont': 'Africa', 'area': 91136},\n",
       " 'Cyprus': {'popl': 1.2, 'cont': 'Asia', 'area': 3572},\n",
       " 'Tunisia': {'popl': 10.9, 'cont': 'Africa', 'area': 63170},\n",
       " 'Hungary': {'popl': 10.0, 'cont': 'Europe', 'area': 35919},\n",
       " 'Israel': {'popl': 7.8, 'cont': 'Asia', 'area': 8019},\n",
       " 'Burkina Faso': {'popl': 18.4, 'cont': 'Africa', 'area': 105792},\n",
       " 'Zimbabwe': {'popl': 13.8, 'cont': 'Africa', 'area': 150871},\n",
       " 'Liechtenstein': {'popl': 0.037, 'cont': 'Europe', 'area': 62},\n",
       " 'Botswana': {'popl': 2.2, 'cont': 'Africa', 'area': 224606},\n",
       " 'Saint Lucia': {'popl': 0.16, 'cont': 'North America', 'area': 239},\n",
       " 'Bahamas': {'popl': 0.32, 'cont': 'North America', 'area': 5358},\n",
       " 'Oman': {'popl': 3.2, 'cont': 'Asia', 'area': 119498},\n",
       " 'Denmark': {'popl': 5.6, 'cont': 'Europe', 'area': 16640},\n",
       " \"Cote D'Ivoire\": {'popl': 22.8, 'cont': 'Africa', 'area': 124502},\n",
       " 'Latvia': {'popl': 2.2, 'cont': 'Europe', 'area': 24938},\n",
       " 'Sao Tome and Principe': {'popl': 0.19, 'cont': 'Africa', 'area': 372},\n",
       " 'Republic of Moldova': {'popl': 3.6, 'cont': 'Europe', 'area': 13067},\n",
       " 'Antigua and Barbuda': {'popl': 0.091, 'cont': 'North America', 'area': 108},\n",
       " 'Nigeria': {'popl': 177.2, 'cont': 'Africa', 'area': 356669},\n",
       " 'Japan': {'popl': 127.1, 'cont': 'Asia', 'area': 145883},\n",
       " 'Estonia': {'popl': 1.3, 'cont': 'Europe', 'area': 17413},\n",
       " 'Guinea': {'popl': 11.5, 'cont': 'Africa', 'area': 94926},\n",
       " 'Belarus': {'popl': 9.6, 'cont': 'Europe', 'area': 80155},\n",
       " 'United Kingdom': {'popl': 66.7, 'cont': 'Europe', 'area': 94526},\n",
       " 'Solomon Islands': {'popl': 0.61, 'cont': 'Australia/Oceania', 'area': 43},\n",
       " 'Angola': {'popl': 19.1, 'cont': 'Africa', 'area': 481354},\n",
       " 'Bahrain': {'popl': 1.3, 'cont': 'Asia', 'area': 253},\n",
       " 'Ethiopia': {'popl': 96.6, 'cont': 'Africa', 'area': 426371},\n",
       " 'Austria': {'popl': 8.2, 'cont': 'Europe', 'area': 32383},\n",
       " 'Switzerland': {'popl': 8.1, 'cont': 'Europe', 'area': 15940},\n",
       " 'Uruguay': {'popl': 3.3, 'cont': 'South America', 'area': 68037},\n",
       " \"Democratic People's Republic of Korea\": {'popl': 24.9,\n",
       "  'cont': 'Asia',\n",
       "  'area': 46528},\n",
       " 'New Zealand': {'popl': 4.4, 'cont': 'Australia/Oceania', 'area': 103738},\n",
       " 'Lithuania': {'popl': 3.5, 'cont': 'Europe', 'area': 25173},\n",
       " 'Burundi': {'popl': 10.4, 'cont': 'Africa', 'area': 10745},\n",
       " 'San Marino': {'popl': 0.033, 'cont': 'Europe', 'area': 23.6},\n",
       " 'Guinea Bissau': {'popl': 1.7, 'cont': 'Africa', 'area': 13948},\n",
       " 'United States': {'popl': 318.9, 'cont': 'North America', 'area': 3794066},\n",
       " 'Pakistan': {'popl': 196.2, 'cont': 'Asia', 'area': 310403},\n",
       " 'Afghanistan': {'popl': 31.8, 'cont': 'Asia', 'area': 251772},\n",
       " 'United Arab Emirates': {'popl': 5.6, 'cont': 'Asia', 'area': 32278},\n",
       " 'Brunei Darussalam': {'popl': 0.42, 'cont': 'Asia', 'area': 2226},\n",
       " 'Germany': {'popl': 81.0, 'cont': 'Europe', 'area': 137847},\n",
       " 'Marshall Islands': {'popl': 0.071, 'cont': 'Australia/Oceania', 'area': 69},\n",
       " 'Sierra Leone': {'popl': 5.7, 'cont': 'Africa', 'area': 27699},\n",
       " 'Canada': {'popl': 34.8, 'cont': 'North America', 'area': 3855000},\n",
       " 'Mongolia': {'popl': 3.0, 'cont': 'Asia', 'area': 603909},\n",
       " 'India': {'popl': 1236.3, 'cont': 'Asia', 'area': 1269210},\n",
       " 'Costa Rica': {'popl': 4.8, 'cont': 'North America', 'area': 19730},\n",
       " 'Turkey': {'popl': 81.6, 'cont': 'Asia', 'area': 302535},\n",
       " 'Mali': {'popl': 16.5, 'cont': 'Africa', 'area': 478839},\n",
       " 'Cuba': {'popl': 11.0, 'cont': 'North America', 'area': 42803},\n",
       " 'Indonesia': {'popl': 253.6, 'cont': 'Asia', 'area': 735355},\n",
       " 'Dominica': {'popl': 0.073, 'cont': 'North America', 'area': 290},\n",
       " 'Kazakhstan': {'popl': 18.0, 'cont': 'Asia', 'area': 1052085},\n",
       " 'South Sudan': {'popl': 11.6, 'cont': 'Africa', 'area': 239285},\n",
       " 'Georgia': {'popl': 4.9, 'cont': 'Asia', 'area': 26916},\n",
       " 'Belgium': {'popl': 10.4, 'cont': 'Europe', 'area': 11787},\n",
       " 'Guyana': {'popl': 0.74, 'cont': 'South America', 'area': 83000},\n",
       " 'Slovakia': {'popl': 5.4, 'cont': 'Europe', 'area': 18932},\n",
       " 'Iraq': {'popl': 32.6, 'cont': 'Asia', 'area': 169234},\n",
       " 'Uzbekistan': {'popl': 28.9, 'cont': 'Asia', 'area': 172742},\n",
       " 'Iceland': {'popl': 0.32, 'cont': 'Europe', 'area': 39770},\n",
       " 'Nauru': {'popl': 0.0095, 'cont': 'Australia/Oceania', 'area': 8},\n",
       " 'Sri Lanka': {'popl': 22.9, 'cont': 'Asia', 'area': 25332},\n",
       " 'Iran': {'popl': 80.8, 'cont': 'Asia', 'area': 636372},\n",
       " 'Kenya': {'popl': 45.0, 'cont': 'Africa', 'area': 224080},\n",
       " 'Guatemala': {'popl': 14.7, 'cont': 'North America', 'area': 42042},\n",
       " 'Republic of Korea': {'popl': 49.0, 'cont': 'Asia', 'area': 38622}}"
      ]
     },
     "execution_count": 4,
     "metadata": {},
     "output_type": "execute_result"
    }
   ],
   "source": [
    "import pickle\n",
    "\n",
    "infile = open('AIP_05_Data Processing and File Access_data/UNDict.dat', 'rb')\n",
    "countries = pickle.load(infile)\n",
    "infile.close()\n",
    "\n",
    "countries"
   ]
  },
  {
   "cell_type": "code",
   "execution_count": 7,
   "id": "ff1b89e5",
   "metadata": {},
   "outputs": [
    {
     "data": {
      "text/plain": [
       "{'inches': '.083333\\n',\n",
       " 'furlongs': '660\\n',\n",
       " 'yards': '3\\n',\n",
       " 'fathoms': '6\\n',\n",
       " 'feet': '1\\n',\n",
       " 'kilometers': '3281.5\\n',\n",
       " 'meters': '3.2815\\n',\n",
       " 'miles': '5280\\n',\n",
       " 'rods': '16.5\\n'}"
      ]
     },
     "execution_count": 7,
     "metadata": {},
     "output_type": "execute_result"
    }
   ],
   "source": [
    "infile = open('h3 data files/Units.txt')\n",
    "unitdic = {}\n",
    "for ch in infile:\n",
    "    ch1 = ch.split(',')\n",
    "    unitdic[ch1[0]] = ch1[1]\n",
    "unitdic"
   ]
  },
  {
   "cell_type": "code",
   "execution_count": 14,
   "id": "06b94091",
   "metadata": {},
   "outputs": [
    {
     "name": "stdout",
     "output_type": "stream",
     "text": [
      "Melon: 0 (0.0)\n",
      "Plum: 0 (0.0)\n",
      "Orange: 0 (0.0)\n",
      "Bar: 0 (0.0)\n",
      "Cherries: 0 (0.0)\n",
      "Bell: 0 (0.0)\n"
     ]
    }
   ],
   "source": [
    "import random\n",
    "def main():\n",
    "    # for i in range(3):\n",
    "    #     outcome = spinWheel()\n",
    "    #     print(outcome, end=\" \")\n",
    "    \n",
    "    num = 10000\n",
    "    dict_cnt = {}\n",
    "    for _ in range(num):\n",
    "        outcome = spinWheel()\n",
    "        dict_cnt[outcome] = dict_cnt.get(outcome, 0)\n",
    "    \n",
    "    for k, v in dict_cnt.items():\n",
    "        print('{}: {} ({})'.format(k, v, v/num))\n",
    "\n",
    "def spinWheel():\n",
    "    n = random.randint(1, 20)\n",
    "    if n > 15:\n",
    "        return \"Cherries\"\n",
    "    elif n > 10:\n",
    "        return \"Orange\"\n",
    "    elif n > 5:\n",
    "        return \"Plum\"\n",
    "    elif n > 2:\n",
    "        return \"Melon\"\n",
    "    elif n > 1:\n",
    "        return \"Bell\"\n",
    "    else :\n",
    "        return \"Bar\"\n",
    "    \n",
    "main()"
   ]
  },
  {
   "cell_type": "code",
   "execution_count": 18,
   "id": "32779923",
   "metadata": {},
   "outputs": [
    {
     "name": "stdout",
     "output_type": "stream",
     "text": [
      "['l', 'v', 'm']\n"
     ]
    }
   ],
   "source": [
    "import random\n",
    "import string\n",
    "\n",
    "list_case = string.ascii_lowercase\n",
    "# a = random.sample('abcdefghijklmnopqrstuvwxyz', 3)\n",
    "# a = random.sample(list_case, 3)\n",
    "a = random.choices(list_case, k=3)\n",
    "print(a)"
   ]
  },
  {
   "cell_type": "code",
   "execution_count": 8,
   "id": "c8a3a3ba",
   "metadata": {},
   "outputs": [
    {
     "name": "stdout",
     "output_type": "stream",
     "text": [
      "47\n"
     ]
    }
   ],
   "source": [
    "import random\n",
    "\n",
    "count = 0\n",
    "for i in range(100):\n",
    "    a = random.randint(0,1)\n",
    "    if a == 0:\n",
    "        count += 1\n",
    "    \n",
    "print(count)"
   ]
  },
  {
   "cell_type": "code",
   "execution_count": null,
   "id": "833887b1",
   "metadata": {},
   "outputs": [],
   "source": [
    "\n",
    "class Fraction:\n",
    "    def __init__(self, denominator, numerator):\n",
    "        self._denominator = denominator # 분모\n",
    "        self._numerator = numerator #분자\n",
    "\n",
    "    @staticmethod\n",
    "    def GCD(m, n): #Greatest Common Divisor\n",
    "        while n != 0:\n",
    "            temp = n\n",
    "            n = m % n\n",
    "            m = temp\n",
    "        return m\n",
    "    \n",
    "    def reduce(self):\n",
    "        gcd = self.GCD(self._numerator, self._denominator)\n",
    "        return self._denominator // gcd, self._numerator //gcd\n"
   ]
  },
  {
   "cell_type": "code",
   "execution_count": null,
   "id": "3ab2efeb",
   "metadata": {},
   "outputs": [],
   "source": [
    "def main():\n",
    "    numer = int(input('Enter numerator: '))\n",
    "    denom = int(input('Enter denominator: '))\n",
    "\n",
    "    frac = Fraction(denom, numer)\n",
    "    numer_reducer, denom_reducer = frac.reduce()\n",
    "\n",
    "    "
   ]
  },
  {
   "cell_type": "code",
   "execution_count": null,
   "id": "f590f6c8",
   "metadata": {},
   "outputs": [],
   "source": [
    "class Parent:\n",
    "    def __init__(self):\n",
    "        self._parent = 'I am parent'\n",
    "\n",
    "class Child(Parent):\n",
    "    def __init__(self):\n",
    "        super().__init__()\n",
    "        self._child = 'I am Child'\n",
    "\n",
    "p = Parent()\n",
    "c = Child()\n",
    "\n"
   ]
  },
  {
   "cell_type": "code",
   "execution_count": 3,
   "id": "67cf4e2b",
   "metadata": {},
   "outputs": [
    {
     "name": "stdout",
     "output_type": "stream",
     "text": [
      "I am A\n",
      "I am B\n",
      "I am A\n",
      "I am B\n",
      "I am E\n",
      "(<class '__main__.E'>, <class '__main__.B'>, <class '__main__.A'>, <class 'object'>)\n"
     ]
    }
   ],
   "source": [
    "class A:\n",
    "    def print():\n",
    "        print('I am A')\n",
    "\n",
    "class B:\n",
    "    def print():\n",
    "        print('I am B')\n",
    "\n",
    "class C(A,B): # 상속하는 클래스 중 왼쪽에 있는 클래스가 우선순위가 높음\n",
    "    pass\n",
    "\n",
    "\n",
    "class D(B, A):\n",
    "    pass\n",
    "\n",
    "class E(B, A):\n",
    "    def print(): # overriding\n",
    "        print('I am E')\n",
    "\n",
    "\n",
    "A.print()\n",
    "B.print()\n",
    "C.print()\n",
    "D.print()\n",
    "E.print()\n",
    "\n",
    "print(E.__mro__) # 메소드를 찾아갈 때의 순서 (우선순위)\n"
   ]
  },
  {
   "cell_type": "code",
   "execution_count": 14,
   "id": "be10ae5f",
   "metadata": {},
   "outputs": [
    {
     "name": "stdout",
     "output_type": "stream",
     "text": [
      "c chooses rock\n",
      "무승부\n",
      "c chooses paper\n",
      "s: 1 c: 0\n",
      "c chooses rock\n",
      "s: 1 c: 1\n",
      "c chooses rock\n",
      "s: 1 c: 2\n",
      "c WINS\n"
     ]
    }
   ],
   "source": [
    "from abc import *\n",
    "import random\n",
    "\n",
    "class Contestant(metaclass=ABCMeta):\n",
    "    def __init__(self, name):\n",
    "        self._name = name\n",
    "        self._win = 0\n",
    "        self._choice = ''\n",
    "\n",
    "    @abstractmethod\n",
    "    def choose(self):\n",
    "        pass\n",
    "\n",
    "class Human(Contestant):\n",
    "    def __init__(self, name):\n",
    "        super().__init__(name)\n",
    "\n",
    "    def choose(self):\n",
    "        self._choice = input('{}, enter your choice: '.format(self._name))\n",
    "\n",
    "class Computer(Contestant):\n",
    "    def __init__(self, name):\n",
    "        super().__init__(name)\n",
    "\n",
    "    def choose(self):\n",
    "        rps =['rock', 'scissors', 'paper']\n",
    "        self._choice = random.choice(rps)\n",
    "        print('{} chooses {}'.format(self._name, self._choice))\n",
    "\n",
    "def main():\n",
    "    humanName, computerName = conteststart()\n",
    "    human = Human(humanName)\n",
    "    computer = Computer(computerName)\n",
    "    pan = 3\n",
    "    while pan > 0:\n",
    "        human.choose()\n",
    "        computer.choose()\n",
    "        game(human, computer)\n",
    "        print('{}: {} {}: {}'.format(human._name, human._win, computer._name, computer._win))\n",
    "        pan -= 1\n",
    "    if human._win > computer._win:\n",
    "        print('{} WINS'.format(human._name))\n",
    "    else:\n",
    "        print('{} WINS'.format(computer._name))\n",
    "\n",
    "def game(hu, com):\n",
    "        list_case = (('rock', 'scissors'),\n",
    "                    ('scissors', 'paper'),\n",
    "                    ('paper', 'rock'))\n",
    "        if (hu._choice, com._choice) in list_case:\n",
    "            hu._win += 1\n",
    "        elif hu._choice == com._choice:\n",
    "            print('무승부')\n",
    "            hu.choose()\n",
    "            com.choose()\n",
    "            game(hu, com)\n",
    "            return\n",
    "        else:\n",
    "            com._win += 1\n",
    "\n",
    "        # if hu._choice == 'rock':\n",
    "        #     if com._choice == 'scissors':\n",
    "        #         hu._win += 1\n",
    "        #     elif com._choice == 'rock':\n",
    "        #         print('무승부')\n",
    "        #         hu.choose()\n",
    "        #         com.choose()\n",
    "        #         game(hu, com)\n",
    "        #     elif com._choice == 'paper':\n",
    "        #         com.win += 1\n",
    "        # elif hu._choice == 'scissors':\n",
    "        #     if com._choice == 'scissors':\n",
    "        #         print('무승부')\n",
    "        #         hu.choose()\n",
    "        #         com.choose()\n",
    "        #         game(hu, com)\n",
    "        #     elif com._choice == 'rock':\n",
    "        #         com.win += 1\n",
    "        #     elif com._choice == 'paper':\n",
    "        #         hu.win += 1\n",
    "        # elif hu._choice == 'paper':\n",
    "        #     if com._choice == 'scissors':\n",
    "        #         com.win += 1\n",
    "        #     elif com._choice == 'rock':\n",
    "        #         hu.win += 1\n",
    "        #     elif com._choice == 'paper':\n",
    "        #         print('무승부')\n",
    "        #         hu.choose()\n",
    "        #         com.choose()\n",
    "        #         game(hu, com)\n",
    "                \n",
    "\n",
    "def conteststart():\n",
    "    humanName = input('Enter name of human: ')\n",
    "    computerName = input('Enter name of computer: ')\n",
    "    return humanName, computerName\n",
    "\n",
    "main()"
   ]
  },
  {
   "cell_type": "code",
   "execution_count": 7,
   "id": "33ff5415",
   "metadata": {},
   "outputs": [
    {
     "name": "stdout",
     "output_type": "stream",
     "text": [
      "10\n",
      "20\n",
      "30\n",
      "10\n",
      "20\n",
      "30\n",
      "40\n",
      "이름:  홍길동\n",
      "나이:  30\n",
      "주소:  서울시 용산구 이촌동\n",
      "name: 홍길동\n",
      "age: 30\n",
      "address: 서울시 용산구 이촌동\n"
     ]
    }
   ],
   "source": [
    "# 언패킹\n",
    "def print_numbers(a, b, c):\n",
    "    print(a)\n",
    "    print(b)\n",
    "    print(c)\n",
    "\n",
    "nums = [10, 20, 30]\n",
    "print_numbers(*nums)\n",
    "\n",
    "\n",
    "def print_num(*args):\n",
    "    for arg in args:\n",
    "        print(arg)\n",
    "\n",
    "nums2 = [10, 20, 30, 40]\n",
    "print_num(*nums2)\n",
    "\n",
    "\n",
    "# 딕셔너리 언패킹\n",
    "def personal_info(name, age, address):\n",
    "    print('이름: ', name)\n",
    "    print('나이: ', age)\n",
    "    print('주소: ', address)\n",
    "\n",
    "x = {'name': '홍길동', 'age': 30, 'address': '서울시 용산구 이촌동'}\n",
    "personal_info(**x)\n",
    "\n",
    "def personal_info2(**kwargs):\n",
    "    for k, v in kwargs.items():\n",
    "        print(k, ': ', v, sep='')\n",
    "\n",
    "y = {'name': '홍길동', 'age': 30, 'address': '서울시 용산구 이촌동'}\n",
    "personal_info2(**y)"
   ]
  },
  {
   "cell_type": "code",
   "execution_count": 9,
   "id": "a7b02dba",
   "metadata": {},
   "outputs": [
    {
     "name": "stdout",
     "output_type": "stream",
     "text": [
      "Hello\n",
      "suho's Exception\n"
     ]
    }
   ],
   "source": [
    "# 예외 만들기\n",
    "class SHException(Exception):\n",
    "    def __init__(self):\n",
    "        super().__init__(\"suho's Exception\")\n",
    "\n",
    "def main():\n",
    "    try:\n",
    "        print('Hello')\n",
    "        raise SHException\n",
    "    except SHException as e:\n",
    "        print(e)\n",
    "\n",
    "main()"
   ]
  },
  {
   "cell_type": "code",
   "execution_count": 19,
   "id": "53c54661",
   "metadata": {},
   "outputs": [
    {
     "name": "stdout",
     "output_type": "stream",
     "text": [
      "func1\n"
     ]
    },
    {
     "ename": "ZeroDivisionError",
     "evalue": "",
     "output_type": "error",
     "traceback": [
      "\u001b[1;31m---------------------------------------------------------------------------\u001b[0m",
      "\u001b[1;31mZeroDivisionError\u001b[0m                         Traceback (most recent call last)",
      "Cell \u001b[1;32mIn[19], line 27\u001b[0m\n\u001b[0;32m     23\u001b[0m     \u001b[39mexcept\u001b[39;00m \u001b[39mValueError\u001b[39;00m \u001b[39mas\u001b[39;00m e:\n\u001b[0;32m     24\u001b[0m         \u001b[39mprint\u001b[39m(e)\n\u001b[1;32m---> 27\u001b[0m main()\n",
      "Cell \u001b[1;32mIn[19], line 19\u001b[0m, in \u001b[0;36mmain\u001b[1;34m()\u001b[0m\n\u001b[0;32m     18\u001b[0m \u001b[39mdef\u001b[39;00m \u001b[39mmain\u001b[39m():\n\u001b[1;32m---> 19\u001b[0m     func1()\n\u001b[0;32m     20\u001b[0m     \u001b[39mtry\u001b[39;00m:\n\u001b[0;32m     21\u001b[0m         \u001b[39m# func2()\u001b[39;00m\n\u001b[0;32m     22\u001b[0m         \u001b[39mprint\u001b[39m(\u001b[39m'\u001b[39m\u001b[39mmain\u001b[39m\u001b[39m'\u001b[39m)\n",
      "Cell \u001b[1;32mIn[19], line 6\u001b[0m, in \u001b[0;36mfunc1\u001b[1;34m()\u001b[0m\n\u001b[0;32m      4\u001b[0m \u001b[39mtry\u001b[39;00m:\n\u001b[0;32m      5\u001b[0m     \u001b[39mprint\u001b[39m(\u001b[39m'\u001b[39m\u001b[39mfunc1\u001b[39m\u001b[39m'\u001b[39m)\n\u001b[1;32m----> 6\u001b[0m     \u001b[39mraise\u001b[39;00m \u001b[39mZeroDivisionError\u001b[39;00m\n\u001b[0;32m      7\u001b[0m \u001b[39mexcept\u001b[39;00m \u001b[39mAttributeError\u001b[39;00m \u001b[39mas\u001b[39;00m e:\n\u001b[0;32m      8\u001b[0m     \u001b[39mprint\u001b[39m(e)\n",
      "\u001b[1;31mZeroDivisionError\u001b[0m: "
     ]
    }
   ],
   "source": [
    "# try_except\n",
    "\n",
    "def func1():\n",
    "    try:\n",
    "        print('func1')\n",
    "        raise ZeroDivisionError\n",
    "    except AttributeError as e:\n",
    "        print(e)\n",
    "\n",
    "def func2():\n",
    "    try:\n",
    "        func1()\n",
    "        print('func2')\n",
    "    except ZeroDivisionError as e:\n",
    "        print(e)\n",
    "\n",
    "\n",
    "def main():\n",
    "    func1()\n",
    "    try:\n",
    "        func2()\n",
    "        print('main')\n",
    "    except ValueError as e:\n",
    "        print(e)\n",
    "\n",
    "\n",
    "main()"
   ]
  },
  {
   "cell_type": "code",
   "execution_count": 20,
   "id": "11aa6b0b",
   "metadata": {},
   "outputs": [
    {
     "name": "stdout",
     "output_type": "stream",
     "text": [
      "0 1 2 "
     ]
    }
   ],
   "source": [
    "class Counter:\n",
    "    def __init__(self, stop):\n",
    "        self.current = 0    # 현재 숫자 유지, 0부터 지정된 숫자 직전까지 반복\n",
    "        self.stop = stop    # 반복을 끝낼 숫자\n",
    " \n",
    "    def __iter__(self):\n",
    "        return self         # 현재 인스턴스를 반환\n",
    " \n",
    "    def __next__(self):\n",
    "        if self.current < self.stop:    # 현재 숫자가 반복을 끝낼 숫자보다 작을 때\n",
    "            r = self.current            # 반환할 숫자를 변수에 저장\n",
    "            self.current += 1           # 현재 숫자를 1 증가시킴\n",
    "            return r                    # 숫자를 반환\n",
    "        else:                           # 현재 숫자가 반복을 끝낼 숫자보다 크거나 같을 때\n",
    "            raise StopIteration         # 예외 발생\n",
    " \n",
    "for i in Counter(3):\n",
    "    print(i, end=' ')"
   ]
  },
  {
   "cell_type": "code",
   "execution_count": null,
   "id": "061cd594",
   "metadata": {},
   "outputs": [],
   "source": [
    "class Counter:\n",
    "    def __init__(self, *args):\n",
    "        if len(args) == 1:\n",
    "            self.current = 0    # 현재 숫자 유지, 0부터 지정된 숫자 직전까지 반복\n",
    "            self.stop = args[0]    # 반복을 끝낼 숫자\n",
    "            self._interval = 1\n",
    "        elif len(args) == 2:\n",
    "            self.current = 0\n",
    "            self.stop = args[1]\n",
    "            self._interval = 1\n",
    "        elif len(args) == 3:\n",
    "            self.current = 0\n",
    "            self.stop = args[2]\n",
    "            self._interval = 1\n",
    "    \n",
    "    def __iter__(self):\n",
    "        return self         # 현재 인스턴스를 반환\n",
    " \n",
    "    def __next__(self):\n",
    "        if self.current < self.stop:    # 현재 숫자가 반복을 끝낼 숫자보다 작을 때\n",
    "            if self.current % 3 == 0:\n",
    "                r = \"짝\"\n",
    "                self.current += 1\n",
    "            else :\n",
    "                r = self.current            # 반환할 숫자를 변수에 저장\n",
    "                self.current += 1           # 현재 숫자를 1 증가시킴\n",
    "            return r                    # 숫자를 반환\n",
    "        else:                           # 현재 숫자가 반복을 끝낼 숫자보다 크거나 같을 때\n",
    "            raise StopIteration         # 예외 발생\n",
    " \n",
    "for i in Counter(3):\n",
    "    print(i, end=' ')"
   ]
  }
 ],
 "metadata": {
  "kernelspec": {
   "display_name": "Python 3 (ipykernel)",
   "language": "python",
   "name": "python3"
  },
  "language_info": {
   "codemirror_mode": {
    "name": "ipython",
    "version": 3
   },
   "file_extension": ".py",
   "mimetype": "text/x-python",
   "name": "python",
   "nbconvert_exporter": "python",
   "pygments_lexer": "ipython3",
   "version": "3.11.3"
  }
 },
 "nbformat": 4,
 "nbformat_minor": 5
}
