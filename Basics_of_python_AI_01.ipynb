{
 "cells": [
  {
   "cell_type": "code",
   "execution_count": 2,
   "id": "a1074858",
   "metadata": {},
   "outputs": [
    {
     "data": {
      "text/plain": [
       "(1, 0, 0)"
      ]
     },
     "execution_count": 2,
     "metadata": {},
     "output_type": "execute_result"
    }
   ],
   "source": [
    "#타입 확인\n",
    "type((1, 0 , 0))"
   ]
  },
  {
   "cell_type": "code",
   "execution_count": 3,
   "id": "8d1f1b85",
   "metadata": {},
   "outputs": [
    {
     "data": {
      "text/plain": [
       "(1, 0, 0)"
      ]
     },
     "execution_count": 3,
     "metadata": {},
     "output_type": "execute_result"
    }
   ],
   "source": [
    "# 숫자에 콤마를 찍으면 튜플이 됨\n",
    "1,000,000"
   ]
  },
  {
   "cell_type": "code",
   "execution_count": null,
   "id": "e2ada865",
   "metadata": {},
   "outputs": [],
   "source": []
  },
  {
   "cell_type": "code",
   "execution_count": 9,
   "id": "7a9d3ff8",
   "metadata": {},
   "outputs": [
    {
     "ename": "SyntaxError",
     "evalue": "invalid decimal literal (3038742468.py, line 9)",
     "output_type": "error",
     "traceback": [
      "\u001b[1;36m  Cell \u001b[1;32mIn[9], line 9\u001b[1;36m\u001b[0m\n\u001b[1;33m    2things = 4\u001b[0m\n\u001b[1;37m    ^\u001b[0m\n\u001b[1;31mSyntaxError\u001b[0m\u001b[1;31m:\u001b[0m invalid decimal literal\n"
     ]
    }
   ],
   "source": [
    "# 변수 규칙\n",
    "# 특수문자 사용x , 언더바 ( _ )는 됨\n",
    "\n",
    "_ = 2\n",
    "_\n",
    "\n",
    "\n",
    "#앞에 숫자가 오는 것은 안됨\n",
    "2things = 4\n",
    "2things\n",
    "\n",
    "a1b2_c3 =1\n",
    "a1b2_c3"
   ]
  },
  {
   "cell_type": "code",
   "execution_count": null,
   "id": "dac418dd",
   "metadata": {},
   "outputs": [],
   "source": [
    "#문자열에서 (+, *)만 가능 -, / 는 안됨\n",
    "'good' + 'bye' # 'goodbye'\n",
    "\n",
    "('a' + 'b') * 3 # 'ababab'\n",
    "\n",
    "'ha' * 3 # 'hahaha'\n",
    "\n",
    "(\"cha~\" * 2) + \"cha\" # 'cha~cha~cha'\n",
    "\n"
   ]
  },
  {
   "cell_type": "code",
   "execution_count": 18,
   "id": "a3aa070f",
   "metadata": {},
   "outputs": [
    {
     "data": {
      "text/plain": [
       "5"
      ]
     },
     "execution_count": 18,
     "metadata": {},
     "output_type": "execute_result"
    }
   ],
   "source": [
    "#String Functions and Method\n",
    "\n",
    "len('stinrg') # 문자수 반환\n",
    "# 6\n",
    "\n",
    "int('23') # int형으로 변환\n",
    "# 23\n",
    "\n",
    "float('23') # float형으로 변환\n",
    "# 23.0\n",
    "\n",
    "x = 5\n",
    "eval('23 + (2 * x)') # 수식의 실행 결과를 반환, 수식을 잘 모를 때 주로 사용함\n",
    "# 33\n",
    "\n",
    "exec('x = 2') # eval과 다르게 문장을 실행 결과는 출력안함\n",
    "# eval은 식(expreesion)만 사용 가능\n",
    "x\n",
    "# 2\n",
    "\n",
    "exec('y = 3')\n",
    "eval('x + y')\n",
    "# 5\n",
    "exec('x + y')\n",
    "\n",
    "z1 = eval('x + y')\n",
    "z1\n",
    "# 5\n",
    "\n",
    "z2 = exec('x + y')\n",
    "z2\n",
    "# 아무것도 저장 안됨\n",
    "\n",
    "exec('z2 = x + y')\n",
    "z2\n",
    "# 5"
   ]
  },
  {
   "cell_type": "code",
   "execution_count": 19,
   "id": "5fc7ee6d",
   "metadata": {},
   "outputs": [
    {
     "data": {
      "text/plain": [
       "'PYTHON'"
      ]
     },
     "execution_count": 19,
     "metadata": {},
     "output_type": "execute_result"
    }
   ],
   "source": [
    "#String Method\n",
    "str1 = \"Python\"\n",
    "str1.upper() # 대문자로 값 반환\n",
    "\n",
    "str1.lower() # 소문자로 값 반환\n",
    "\n",
    "str1.count('th') # 'th'가 몇번 나옴?\n",
    "# 1\n",
    "\n",
    "'coDE'.capitalize() # 첫 문자만 대문자로 해서 반환\n",
    "# Code\n",
    "\n",
    "\"beN hur\".title() # 공백단위로 끊어서 첫 문자만 대문자로\n",
    "# Ben Hur\n",
    "\n",
    "'ab    '.rstrip() # 오른쪽 공백 제거\n",
    "# lstrip() 은 왼쪽 공백 제거\n",
    "# strip() 은 양쪽 공백 제거"
   ]
  },
  {
   "cell_type": "code",
   "execution_count": 20,
   "id": "bbd6254d",
   "metadata": {},
   "outputs": [
    {
     "data": {
      "text/plain": [
       "6"
      ]
     },
     "execution_count": 20,
     "metadata": {},
     "output_type": "execute_result"
    }
   ],
   "source": [
    "str1 = 'Hello World!'\n",
    "str1.find('W') # 'W'의 문자 위치 반환"
   ]
  },
  {
   "cell_type": "code",
   "execution_count": 30,
   "id": "d2cef860",
   "metadata": {},
   "outputs": [
    {
     "name": "stdout",
     "output_type": "stream",
     "text": [
      "My name is  JS hahaha\n",
      "My name is    JS    haha\n",
      "My name is JS             haha\n"
     ]
    }
   ],
   "source": [
    "name = 'JS'\n",
    "print('My name is ', name, 'hahaha')\n",
    "print('My name is {0:^8} {1:}'.format(\"JS\", 'haha') ) # {포맷순서:^칸수} 칸의 중앙에 출력됨.\n",
    "print('My name is {0:<8} {1:>10}'.format(\"JS\", 'haha') ) # JS를 왼쪽에 붙여서 출력 # haha를 오른쪽에 붙여서 출력\n"
   ]
  },
  {
   "cell_type": "code",
   "execution_count": 34,
   "id": "8788730c",
   "metadata": {},
   "outputs": [
    {
     "name": "stdout",
     "output_type": "stream",
     "text": [
      "What is the ~~~~5\n",
      "5\n",
      "What is the ~~~~5\n",
      "5\n"
     ]
    }
   ],
   "source": [
    "prompt = \"What is the ~~~~\"\n",
    "speed = int(input(prompt)) \n",
    "print(speed)\n",
    "\n",
    "# 이거 대신 int나 float 둘다 입력받을 수 있게 하려면?\n",
    "speed = eval(input(prompt))\n",
    "print(speed)"
   ]
  },
  {
   "cell_type": "code",
   "execution_count": 36,
   "id": "67bdbfa2",
   "metadata": {},
   "outputs": [
    {
     "data": {
      "text/plain": [
       "'Park'"
      ]
     },
     "execution_count": 36,
     "metadata": {},
     "output_type": "execute_result"
    }
   ],
   "source": [
    "name = 'JS Park'\n",
    "n = name.rfind(' ')\n",
    "name[:n]\n",
    "\n",
    "name[n+1:]"
   ]
  },
  {
   "cell_type": "code",
   "execution_count": 40,
   "id": "ae85b37d",
   "metadata": {},
   "outputs": [
    {
     "data": {
      "text/plain": [
       "8"
      ]
     },
     "execution_count": 40,
     "metadata": {},
     "output_type": "execute_result"
    }
   ],
   "source": [
    "15 /3\n",
    "# 5.0\n",
    "\n",
    "13 // 3\n",
    "# 4\n",
    "\n",
    "3.5 // 2\n",
    "# 1.0\n",
    "\n",
    "2 << 2 # 왼쪽 쉬프트 연산 2^1 * 2^2\n",
    "# 8\n",
    "\n"
   ]
  },
  {
   "cell_type": "code",
   "execution_count": 41,
   "id": "e49c96b7",
   "metadata": {},
   "outputs": [
    {
     "data": {
      "text/plain": [
       "True"
      ]
     },
     "execution_count": 41,
     "metadata": {},
     "output_type": "execute_result"
    }
   ],
   "source": [
    "5 > 3 < 7 # 5 > 3 and 3 < 7\n",
    "#True\n"
   ]
  },
  {
   "cell_type": "code",
   "execution_count": 42,
   "id": "1b376bb7",
   "metadata": {},
   "outputs": [
    {
     "name": "stdout",
     "output_type": "stream",
     "text": [
      "Enter an integer: 2\n",
      "higher\n",
      "done\n"
     ]
    }
   ],
   "source": [
    "number = 23\n",
    "guess = int(input('Enter an integer: '))\n",
    "\n",
    "if guess == number:\n",
    "    print('Congratulations, you guessed it')\n",
    "elif guess < number:\n",
    "    print('higher')\n",
    "else:\n",
    "    print('lower')\n",
    "    \n",
    "print('done')"
   ]
  },
  {
   "cell_type": "code",
   "execution_count": 2,
   "id": "c319915c",
   "metadata": {},
   "outputs": [
    {
     "name": "stdout",
     "output_type": "stream",
     "text": [
      "Congratulations, you guessed it\n",
      "The while loop is over\n",
      "Done\n"
     ]
    }
   ],
   "source": [
    "number = 23\n",
    "running = True\n",
    "\n",
    "while running:\n",
    "    guess = int(input('Enter an integer: '))\n",
    "    if guess == number:\n",
    "        print('Congratulations, you guessed it')\n",
    "        running = False\n",
    "        break\n",
    "    elif guess < number:\n",
    "        print('higher')\n",
    "    else:\n",
    "        print('lower')\n",
    "else:\n",
    "    print('The while loop is over')\n",
    "\n",
    "print('Done')"
   ]
  },
  {
   "cell_type": "code",
   "execution_count": 5,
   "id": "74e24e30",
   "metadata": {},
   "outputs": [
    {
     "name": "stdout",
     "output_type": "stream",
     "text": [
      "Minimum:  5\n",
      "Maximum:  5\n",
      "Average:  5.0\n",
      "Minimum:  4\n",
      "Maximum:  5\n",
      "Average:  4.5\n",
      "Minimum:  3\n",
      "Maximum:  5\n",
      "Average:  4.0\n",
      "Minimum:  3\n",
      "Maximum:  5\n",
      "Average:  3.75\n",
      "Minimum:  3\n",
      "Maximum:  10\n",
      "Average:  5.0\n",
      "Minimum:  3\n",
      "Maximum:  10\n",
      "Average:  5.833333333333333\n",
      "종료\n"
     ]
    }
   ],
   "source": [
    "count = 0\n",
    "total = 0\n",
    "numList = []\n",
    "while True:\n",
    "    a = int(input('숫자를 입력하셈(종료할꺼면 -1 누르셈):'))    \n",
    "    if a == -1:\n",
    "        print('종료')\n",
    "        break\n",
    "\n",
    "    total += a\n",
    "    count += 1\n",
    "    numList.append(a)\n",
    "    if count > 0:\n",
    "        if count >= 5:\n",
    "            print('count가 {}개 임'.format(count))\n",
    "        print('Minimum: ', min(numList))\n",
    "        print('Maximum: ', max(numList))\n",
    "        print('Average: ', total / count)\n",
    "    else:\n",
    "        print('No nonnegative integers were entered.')\n"
   ]
  },
  {
   "cell_type": "code",
   "execution_count": 13,
   "id": "a81968d6",
   "metadata": {},
   "outputs": [
    {
     "name": "stdout",
     "output_type": "stream",
     "text": [
      "*++++\n",
      "**+++\n",
      "***++\n",
      "****+\n",
      "*****\n"
     ]
    }
   ],
   "source": [
    "numberOfRows = int(input('Enter a number'))\n",
    "\n",
    "for i in range(numberOfRows):\n",
    "    for j in range(i+1):\n",
    "        print('*', end='')\n",
    "    for j in range(numberOfRows-i-1, 0, -1):\n",
    "        print('+', end='')\n",
    "    print()"
   ]
  },
  {
   "cell_type": "code",
   "execution_count": 24,
   "id": "2fc1140f",
   "metadata": {},
   "outputs": [
    {
     "name": "stdout",
     "output_type": "stream",
     "text": [
      "abced\n"
     ]
    }
   ],
   "source": [
    "word = input('Enter a word:')\n",
    "\n",
    "print(word[:-2] + word[-1] + word[-2])\n",
    "\n",
    "# print(word[::-1])\n",
    "\n",
    "# print(''.join(list(reversed(word))))"
   ]
  },
  {
   "cell_type": "code",
   "execution_count": 19,
   "id": "cda33cc4",
   "metadata": {},
   "outputs": [
    {
     "name": "stdout",
     "output_type": "stream",
     "text": [
      "123\n",
      "456\n",
      "abc\n"
     ]
    }
   ],
   "source": [
    "infile = open('textfile.txt', 'r')\n",
    "\n",
    "for i in infile:\n",
    "    # print(i, end='')\n",
    "    print(i.rstrip())\n",
    "infile.close()"
   ]
  },
  {
   "cell_type": "code",
   "execution_count": 25,
   "id": "db458507",
   "metadata": {},
   "outputs": [
    {
     "name": "stdout",
     "output_type": "stream",
     "text": [
      "What you don't owe won't hurt you.\n"
     ]
    }
   ],
   "source": [
    "# Enter a sentence: What you don't know won't hurt you.\n",
    "# Enter word to replace: know\n",
    "# Enter replacement word: owe\n",
    "# What you don't owe won't hurt you.\n",
    "\n",
    "a = input(\"Enter a sentence:\")\n",
    "repla = input(\"Enter word to replace:\")\n",
    "change = input(\"Enter replacement word:\")\n",
    "a = a.replace(repla, change)\n",
    "print(a)"
   ]
  },
  {
   "cell_type": "code",
   "execution_count": 35,
   "id": "a49fe16c",
   "metadata": {},
   "outputs": [
    {
     "name": "stdout",
     "output_type": "stream",
     "text": [
      "Present value: $7,903.15\n"
     ]
    }
   ],
   "source": [
    "# Enter future value: 10000\n",
    "# Enter interest rate (as %): 4\n",
    "# Enter number of years: 6\n",
    "# Present value: $7,903.15\n",
    "\n",
    "v = eval(input('Enter future value:'))\n",
    "rate = eval(input('Enter interest rate (as %):'))\n",
    "year = eval(input('Enter number of years:'))\n",
    "result = v/((1 + (rate / 100))**year) \n",
    "print(f'Present value: ${result:,.2f}')"
   ]
  },
  {
   "cell_type": "code",
   "execution_count": 39,
   "id": "8da824e1",
   "metadata": {},
   "outputs": [
    {
     "name": "stdout",
     "output_type": "stream",
     "text": [
      "[1, [10, 20]]\n",
      "[1, 10, 20]\n"
     ]
    }
   ],
   "source": [
    "num1 = [1]\n",
    "num2 = [1]\n",
    "num1.append([10, 20])\n",
    "num2.extend([10, 20])\n",
    "\n",
    "print(num1)\n",
    "print(num2)"
   ]
  },
  {
   "cell_type": "code",
   "execution_count": 41,
   "id": "5bb2c570",
   "metadata": {},
   "outputs": [
    {
     "name": "stdout",
     "output_type": "stream",
     "text": [
      "(1, 2, 3)\n",
      "1 2 3\n"
     ]
    }
   ],
   "source": [
    "def tmp():\n",
    "    return 1,2,3\n",
    "\n",
    "r1 = tmp()\n",
    "v1,v2,v3 = tmp()\n",
    "print(r1)\n",
    "print(v1,v2,v3)"
   ]
  },
  {
   "cell_type": "code",
   "execution_count": 45,
   "id": "1cf4ae3d",
   "metadata": {},
   "outputs": [
    {
     "name": "stdout",
     "output_type": "stream",
     "text": [
      "('aa', 1)\n",
      "1\n",
      "cc\n",
      "('9', 12)\n"
     ]
    }
   ],
   "source": [
    "regions = [('aa', 1), ('bb', 2), ('cc',3), ('bb',4)]\n",
    "print(regions[0])\n",
    "print(regions[0][1])\n",
    "print(regions[2][0])\n",
    "\n",
    "def sum_array(array):\n",
    "    v1=0\n",
    "    v2=0\n",
    "    for e in array:\n",
    "        v1 += int(e[0])\n",
    "        v2 += e[1]\n",
    "    return (str(v1), v2)\n",
    "\n",
    "array =[('1', 2), ('3',4), ('5',6)]\n",
    "print(sum_array(array))"
   ]
  },
  {
   "cell_type": "code",
   "execution_count": 48,
   "id": "cdbe2238",
   "metadata": {},
   "outputs": [
    {
     "name": "stdout",
     "output_type": "stream",
     "text": [
      "['mango', 'game', 'car']\n",
      "['mango', 'game', 'car']\n",
      "['apple', 'mango', 'game', 'car']\n",
      "2313253399232\n",
      "2313253399232\n",
      "2313253141568\n"
     ]
    }
   ],
   "source": [
    "shopList = ['apple', 'mango', 'game', 'car']\n",
    "myList = shopList\n",
    "copiedList = shopList[:]\n",
    "\n",
    "del myList[0]\n",
    "\n",
    "print(shopList)\n",
    "print(myList)\n",
    "print(copiedList)\n",
    "\n",
    "# 주소 출력\n",
    "print(id(shopList)) \n",
    "print(id(myList))\n",
    "print(id(copiedList))"
   ]
  },
  {
   "cell_type": "code",
   "execution_count": 22,
   "id": "a5af50d1",
   "metadata": {},
   "outputs": [
    {
     "name": "stdout",
     "output_type": "stream",
     "text": [
      "Number of bounces:  13\n",
      "Meters traveled: 44.82\n"
     ]
    }
   ],
   "source": [
    "# p120 Exercises 3.3 Bouncing Ball\n",
    "\n",
    "restitution = float(input('Enter coefficient of restitution: '))\n",
    "height = float(input('Enter initial height in meters: '))\n",
    "bounces = 1\n",
    "totalmeter = height\n",
    "\n",
    "while height * restitution > 0.1:\n",
    "    meter = height * restitution *2.0\n",
    "    totalmeter += meter\n",
    "    bounces += 1\n",
    "    height *= restitution\n",
    "    \n",
    "    \n",
    "\n",
    "print('Number of bounces: ', bounces)\n",
    "print('Meters traveled: {:.2f}'.format(totalmeter))\n",
    "\n",
    "#Number of bounces: 13\n",
    "#Meters traveled: 44.82\n"
   ]
  },
  {
   "cell_type": "code",
   "execution_count": 28,
   "id": "d30f14a8",
   "metadata": {},
   "outputs": [
    {
     "name": "stdout",
     "output_type": "stream",
     "text": [
      "The sum of the digits in the numbers\n",
      "from 1 to one million is 27,000,001.\n",
      "time :  0.8110573291778564\n"
     ]
    }
   ],
   "source": [
    "# Exercises 3.4\n",
    "import time\n",
    "total = 0\n",
    "\n",
    "t0 = time.time()\n",
    "for i in range(1, 1000001):\n",
    "\n",
    "    while i > 0:\n",
    "        num = i % 10\n",
    "        total += num\n",
    "        i //= 10\n",
    "\n",
    "t1 = time.time()\n",
    "\n",
    "print('The sum of the digits in the numbers')\n",
    "print('from 1 to one million is {:,}.'.format(total))\n",
    "\n",
    "print('time : ', t1-t0)\n"
   ]
  },
  {
   "cell_type": "code",
   "execution_count": 29,
   "id": "cb9b602b",
   "metadata": {},
   "outputs": [
    {
     "name": "stdout",
     "output_type": "stream",
     "text": [
      "['blue', 'red', 'white']\n",
      "['white', 'red', 'blue']\n",
      "['red', 'blue', 'white']\n",
      "['white', 'blue', 'red']\n",
      "['a', 'm', 'p', 's']\n"
     ]
    }
   ],
   "source": [
    "list1 = ['white', 'blue', 'red']\n",
    "list2 = sorted(list1)\n",
    "print(list2)\n",
    "print(sorted(list1, reverse=True))\n",
    "print(sorted(list1, key=len))\n",
    "print(list1)\n",
    "print(sorted('spam'))"
   ]
  },
  {
   "cell_type": "code",
   "execution_count": 31,
   "id": "f168cec4",
   "metadata": {},
   "outputs": [
    {
     "name": "stdout",
     "output_type": "stream",
     "text": [
      "[4, 25, 36, 49]\n",
      "[25, 49]\n"
     ]
    }
   ],
   "source": [
    "list1 = ['2', '5', '6', '7']\n",
    "[int(x) for x in list1]\n",
    "def g(x):\n",
    "    return (int(x) **2)\n",
    "\n",
    "print([g(x) for x in list1])\n",
    "print([g(x) for x in list1 if int(x) % 2 == 1])"
   ]
  },
  {
   "cell_type": "code",
   "execution_count": 2,
   "id": "9725d7fa",
   "metadata": {},
   "outputs": [
    {
     "name": "stdout",
     "output_type": "stream",
     "text": [
      "John Backus, James Gosling, Alan Kay, Dennis Ritchie\n"
     ]
    }
   ],
   "source": [
    "#Lambda Expression\n",
    "names = [\"Dennis Ritchie\", \"Alan Kay\", \"John Backus\", \"James Gosling\"]\n",
    "names.sort(key=lambda name: name.split() [-1])\n",
    "nameString = \", \".join(names)\n",
    "print(nameString)\n"
   ]
  },
  {
   "cell_type": "code",
   "execution_count": 7,
   "id": "27ad07f9",
   "metadata": {},
   "outputs": [
    {
     "data": {
      "text/plain": [
       "2"
      ]
     },
     "execution_count": 7,
     "metadata": {},
     "output_type": "execute_result"
    }
   ],
   "source": [
    "#Count Function\n",
    "\n",
    "def countFunction(st, findst):\n",
    "    s = 0\n",
    "    ls = len(findst)\n",
    "    cnt = 0\n",
    "    for i in range(len(st)):\n",
    "        if st[s:ls] == findst:\n",
    "            cnt += 1\n",
    "        s += 1\n",
    "        ls += 1\n",
    "    return cnt\n",
    "\n",
    "st = input('Enter a string: ')\n",
    "findst = input('Enter a substring: ')\n",
    "countFunction(st, findst)\n"
   ]
  },
  {
   "cell_type": "code",
   "execution_count": 15,
   "id": "134b9457",
   "metadata": {},
   "outputs": [
    {
     "name": "stdout",
     "output_type": "stream",
     "text": [
      "New salary for John Doe: $50,160.0\n"
     ]
    }
   ],
   "source": [
    "#Pay Raise\n",
    "\n",
    "def payraise(salary):\n",
    "    if salary < 40000:\n",
    "        salary = salary * 1.05\n",
    "    else:\n",
    "        salary = salary + (salary - 40000) * 0.02 + 2000\n",
    "    return salary\n",
    "\n",
    "firstname = input('Enter first name: ')\n",
    "lastname = input('Enter last name: ')\n",
    "salary = int(input('Enter current salary: '))\n",
    "salary = payraise(salary)\n",
    "print(\"New salary for {} {}: ${:,}\".format(firstname, lastname, salary))"
   ]
  },
  {
   "cell_type": "code",
   "execution_count": 16,
   "id": "754d9c29",
   "metadata": {},
   "outputs": [
    {
     "name": "stdout",
     "output_type": "stream",
     "text": [
      "George Washington\n",
      "John Adams\n",
      "Thomas Jefferson\n"
     ]
    }
   ],
   "source": [
    "# File Access\n",
    "\n",
    "def displayWithLoop(file):\n",
    "    infile = open(file, 'r')\n",
    "    for line in infile:\n",
    "        print(line.rstrip())\n",
    "    infile.close()\n",
    "\n",
    "displayWithLoop('./AIP_05_Data Processing and File Access_data/FirstPresidents.txt')"
   ]
  },
  {
   "cell_type": "code",
   "execution_count": 18,
   "id": "9bf4cf56",
   "metadata": {},
   "outputs": [
    {
     "ename": "FileNotFoundError",
     "evalue": "[Errno 2] No such file or directory: 'FirstPresidents2.txtw'",
     "output_type": "error",
     "traceback": [
      "\u001b[1;31m---------------------------------------------------------------------------\u001b[0m",
      "\u001b[1;31mFileNotFoundError\u001b[0m                         Traceback (most recent call last)",
      "Cell \u001b[1;32mIn[18], line 19\u001b[0m\n\u001b[0;32m     16\u001b[0m     outfile\u001b[39m.\u001b[39mwritelines(L)\n\u001b[0;32m     17\u001b[0m     outfile\u001b[39m.\u001b[39mclose()\n\u001b[1;32m---> 19\u001b[0m main()\n",
      "Cell \u001b[1;32mIn[18], line 3\u001b[0m, in \u001b[0;36mmain\u001b[1;34m()\u001b[0m\n\u001b[0;32m      1\u001b[0m \u001b[39mdef\u001b[39;00m \u001b[39mmain\u001b[39m():\n\u001b[0;32m      2\u001b[0m     L \u001b[39m=\u001b[39m [\u001b[39m\"\u001b[39m\u001b[39mGeorge Washington\u001b[39m\u001b[39m\"\u001b[39m, \u001b[39m\"\u001b[39m\u001b[39mJohn Adams\u001b[39m\u001b[39m\"\u001b[39m, \u001b[39m\"\u001b[39m\u001b[39mThomas Jefferson\u001b[39m\u001b[39m\"\u001b[39m]\n\u001b[1;32m----> 3\u001b[0m     outfile \u001b[39m=\u001b[39m \u001b[39mopen\u001b[39;49m(\u001b[39m\"\u001b[39;49m\u001b[39mFirstPresidents2.txt\u001b[39;49m\u001b[39m\"\u001b[39;49m \u001b[39m'\u001b[39;49m\u001b[39mw\u001b[39;49m\u001b[39m'\u001b[39;49m)\n\u001b[0;32m      4\u001b[0m     createWithWrite(L, outfile)\n\u001b[0;32m      5\u001b[0m     outfile \u001b[39m=\u001b[39m \u001b[39mopen\u001b[39m(\u001b[39m\"\u001b[39m\u001b[39mFirstPresidents3.txt\u001b[39m\u001b[39m\"\u001b[39m, \u001b[39m'\u001b[39m\u001b[39mw\u001b[39m\u001b[39m'\u001b[39m)\n",
      "File \u001b[1;32m~\\AppData\\Roaming\\Python\\Python311\\site-packages\\IPython\\core\\interactiveshell.py:284\u001b[0m, in \u001b[0;36m_modified_open\u001b[1;34m(file, *args, **kwargs)\u001b[0m\n\u001b[0;32m    277\u001b[0m \u001b[39mif\u001b[39;00m file \u001b[39min\u001b[39;00m {\u001b[39m0\u001b[39m, \u001b[39m1\u001b[39m, \u001b[39m2\u001b[39m}:\n\u001b[0;32m    278\u001b[0m     \u001b[39mraise\u001b[39;00m \u001b[39mValueError\u001b[39;00m(\n\u001b[0;32m    279\u001b[0m         \u001b[39mf\u001b[39m\u001b[39m\"\u001b[39m\u001b[39mIPython won\u001b[39m\u001b[39m'\u001b[39m\u001b[39mt let you open fd=\u001b[39m\u001b[39m{\u001b[39;00mfile\u001b[39m}\u001b[39;00m\u001b[39m by default \u001b[39m\u001b[39m\"\u001b[39m\n\u001b[0;32m    280\u001b[0m         \u001b[39m\"\u001b[39m\u001b[39mas it is likely to crash IPython. If you know what you are doing, \u001b[39m\u001b[39m\"\u001b[39m\n\u001b[0;32m    281\u001b[0m         \u001b[39m\"\u001b[39m\u001b[39myou can use builtins\u001b[39m\u001b[39m'\u001b[39m\u001b[39m open.\u001b[39m\u001b[39m\"\u001b[39m\n\u001b[0;32m    282\u001b[0m     )\n\u001b[1;32m--> 284\u001b[0m \u001b[39mreturn\u001b[39;00m io_open(file, \u001b[39m*\u001b[39;49margs, \u001b[39m*\u001b[39;49m\u001b[39m*\u001b[39;49mkwargs)\n",
      "\u001b[1;31mFileNotFoundError\u001b[0m: [Errno 2] No such file or directory: 'FirstPresidents2.txtw'"
     ]
    }
   ],
   "source": [
    "def main():\n",
    "    L = [\"George Washington\", \"John Adams\", \"Thomas Jefferson\"]\n",
    "    outfile = open(\"FirstPresidents2.txt\" 'w')\n",
    "    createWithWrite(L, outfile)\n",
    "    outfile = open(\"FirstPresidents3.txt\", 'w')\n",
    "    createWithWritelines(L, outfile)\n",
    "\n",
    "def createWithWrite(L, outfile):\n",
    "    for i in range(len(L)):\n",
    "        outfile.write(L[i] + \"\\n\")\n",
    "    outfile.close()\n",
    "\n",
    "def createWithWritelines(L, outfile):\n",
    "    for i in range(len(L)):\n",
    "        L[i] = L[i]+ \"\\n\"\n",
    "    outfile.writelines(L)\n",
    "    outfile.close()\n",
    "\n",
    "main()"
   ]
  },
  {
   "cell_type": "code",
   "execution_count": 29,
   "id": "0b815d76",
   "metadata": {},
   "outputs": [
    {
     "name": "stdout",
     "output_type": "stream",
     "text": [
      "<class 'set'>\n",
      "{'brazil', 'india'}\n",
      "{'china', 'brazil', 'india', 'russia'}\n",
      "True\n",
      "{'brazil', 'india'}\n",
      "{'china', 'russia'}\n",
      "{'brazil', 'russia', 'india', 'china'}\n"
     ]
    }
   ],
   "source": [
    "# Set\n",
    "bri = {'brazil', 'russia', 'india'}\n",
    "'india' in bri\n",
    "'USA' in bri\n",
    "bric = bri.copy()\n",
    "bric.add('china')\n",
    "print(type(bric))\n",
    "bri.remove('russia')\n",
    "print(bri)\n",
    "print(bric)\n",
    "print(bric.issuperset(bri)) # 교집합\n",
    "print(bri & bric)\n",
    "print(bric.difference(bri)) # 서로 다른 것 (차집합)\n",
    "print(bric.union(bri)) "
   ]
  },
  {
   "cell_type": "code",
   "execution_count": 34,
   "id": "1c0e6308",
   "metadata": {},
   "outputs": [
    {
     "name": "stdout",
     "output_type": "stream",
     "text": [
      "Park: 12345\n",
      "Kim: 234234\n",
      "Lee: 2392349\n",
      "Park\n",
      "Kim\n",
      "Lee\n",
      "(0, ('Park', 12345))\n",
      "(1, ('Kim', 234234))\n",
      "(2, ('Lee', 2392349))\n"
     ]
    }
   ],
   "source": [
    "d = {\n",
    "    'Park': 12345,\n",
    "    'Kim': 234234,\n",
    "    'Lee': 2392349\n",
    "}\n",
    "\n",
    "for key, value in d.items(): # d.items() 는 튜플로 나옴\n",
    "    print('{}: {}'.format(key, value))\n",
    "\n",
    "for v in d: # 딕셔너리에 그냥 for문 돌리면 key만 나옴\n",
    "    print(v)\n",
    "\n",
    "# enumerate : 열거하다\n",
    "for v in enumerate(d.items()): # 튜플로 나옴 \n",
    "    print(v)\n",
    "\n"
   ]
  },
  {
   "cell_type": "code",
   "execution_count": null,
   "id": "72044775",
   "metadata": {},
   "outputs": [],
   "source": [
    "def main():\n",
    "    print('Enter the group')\n",
    "    group = input('(child, minor, adult, or senior): ')\n",
    "\n",
    "    print('Admission fee is : ', determineAdmissionFee(group))\n",
    "\n",
    "def determineAdmissionFee(group):\n",
    "    d = {\n",
    "    'child': 0,\n",
    "    'minor': 5,\n",
    "    'adult': 10,\n",
    "    'senior': 8,\n",
    "    'alien': 100\n",
    "    }\n",
    "    return d[group]\n",
    "\n",
    "main()"
   ]
  }
 ],
 "metadata": {
  "kernelspec": {
   "display_name": "Python 3 (ipykernel)",
   "language": "python",
   "name": "python3"
  },
  "language_info": {
   "codemirror_mode": {
    "name": "ipython",
    "version": 3
   },
   "file_extension": ".py",
   "mimetype": "text/x-python",
   "name": "python",
   "nbconvert_exporter": "python",
   "pygments_lexer": "ipython3",
   "version": "3.11.3"
  }
 },
 "nbformat": 4,
 "nbformat_minor": 5
}
